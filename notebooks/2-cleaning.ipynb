{
 "cells": [
  {
   "cell_type": "markdown",
   "id": "abddd3ff",
   "metadata": {
    "papermill": {
     "duration": 0.019008,
     "end_time": "2025-01-18T15:53:11.436588",
     "exception": false,
     "start_time": "2025-01-18T15:53:11.417580",
     "status": "completed"
    },
    "tags": []
   },
   "source": [
    "# 2. Data Cleaning\n",
    "**Group Project for DATA INFORMATION AND QUALITY (2024-2025) <br>**\n",
    "Analysis of Milan Personal Services - Database 12 <br>\n",
    "Mauro Orazio Drago, Dennis Pierantozzi, Davide Morelli\n",
    "\n",
    "The project focuses on performing *data cleaning* tasks on the dirty dataset to create a final cleaned dataset."
   ]
  },
  {
   "cell_type": "markdown",
   "id": "63669c04",
   "metadata": {
    "papermill": {
     "duration": 0.018148,
     "end_time": "2025-01-18T15:53:11.474183",
     "exception": false,
     "start_time": "2025-01-18T15:53:11.456035",
     "status": "completed"
    },
    "tags": []
   },
   "source": [
    "### Import the repository from GitHub\n",
    "\n",
    "First of all we start by importing the repository that we stored in the github project."
   ]
  },
  {
   "cell_type": "code",
   "execution_count": 1,
   "id": "9de6e6d8",
   "metadata": {
    "execution": {
     "iopub.execute_input": "2025-01-18T15:53:11.508298Z",
     "iopub.status.busy": "2025-01-18T15:53:11.507905Z",
     "iopub.status.idle": "2025-01-18T15:53:11.720972Z",
     "shell.execute_reply": "2025-01-18T15:53:11.719436Z"
    },
    "papermill": {
     "duration": 0.232357,
     "end_time": "2025-01-18T15:53:11.723172",
     "exception": false,
     "start_time": "2025-01-18T15:53:11.490815",
     "status": "completed"
    },
    "tags": []
   },
   "outputs": [],
   "source": [
    "from kaggle_secrets import UserSecretsClient\n",
    "user_secrets = UserSecretsClient()\n",
    "secret_value_1 = user_secrets.get_secret(\"NEW_GITHUB_TOKEN\")"
   ]
  },
  {
   "cell_type": "code",
   "execution_count": 2,
   "id": "abae03da",
   "metadata": {
    "execution": {
     "iopub.execute_input": "2025-01-18T15:53:11.756505Z",
     "iopub.status.busy": "2025-01-18T15:53:11.756062Z",
     "iopub.status.idle": "2025-01-18T15:53:13.587168Z",
     "shell.execute_reply": "2025-01-18T15:53:13.585468Z"
    },
    "papermill": {
     "duration": 1.850544,
     "end_time": "2025-01-18T15:53:13.589506",
     "exception": false,
     "start_time": "2025-01-18T15:53:11.738962",
     "status": "completed"
    },
    "tags": []
   },
   "outputs": [
    {
     "name": "stdout",
     "output_type": "stream",
     "text": [
      "Cloning into 'Milan_Services_2012'...\r\n",
      "remote: Enumerating objects: 176, done.\u001b[K\r\n",
      "remote: Counting objects: 100% (176/176), done.\u001b[K\r\n",
      "remote: Compressing objects: 100% (143/143), done.\u001b[K\r\n",
      "remote: Total 176 (delta 79), reused 66 (delta 19), pack-reused 0 (from 0)\u001b[K\r\n",
      "Receiving objects: 100% (176/176), 4.96 MiB | 19.29 MiB/s, done.\r\n",
      "Resolving deltas: 100% (79/79), done.\r\n"
     ]
    }
   ],
   "source": [
    "token = UserSecretsClient().get_secret(\"NEW_GITHUB_TOKEN\")\n",
    "! git clone https://{token}@github.com/madratak/Milan_Services_2012.git"
   ]
  },
  {
   "cell_type": "markdown",
   "id": "621dee17",
   "metadata": {
    "papermill": {
     "duration": 0.01614,
     "end_time": "2025-01-18T15:53:13.623561",
     "exception": false,
     "start_time": "2025-01-18T15:53:13.607421",
     "status": "completed"
    },
    "tags": []
   },
   "source": [
    "### Set up the dataset\n",
    "\n",
    "At this point we can proceed by importing the correct libraries and then importing the data itself inside our notebook."
   ]
  },
  {
   "cell_type": "code",
   "execution_count": 3,
   "id": "c3195b83",
   "metadata": {
    "execution": {
     "iopub.execute_input": "2025-01-18T15:53:13.659326Z",
     "iopub.status.busy": "2025-01-18T15:53:13.658729Z",
     "iopub.status.idle": "2025-01-18T15:53:22.784187Z",
     "shell.execute_reply": "2025-01-18T15:53:22.782562Z"
    },
    "papermill": {
     "duration": 9.145771,
     "end_time": "2025-01-18T15:53:22.786259",
     "exception": false,
     "start_time": "2025-01-18T15:53:13.640488",
     "status": "completed"
    },
    "tags": []
   },
   "outputs": [
    {
     "name": "stdout",
     "output_type": "stream",
     "text": [
      "Collecting rapidfuzz\r\n",
      "  Downloading rapidfuzz-3.11.0-cp310-cp310-manylinux_2_17_x86_64.manylinux2014_x86_64.whl.metadata (11 kB)\r\n",
      "Downloading rapidfuzz-3.11.0-cp310-cp310-manylinux_2_17_x86_64.manylinux2014_x86_64.whl (3.1 MB)\r\n",
      "\u001b[2K   \u001b[90m━━━━━━━━━━━━━━━━━━━━━━━━━━━━━━━━━━━━━━━━\u001b[0m \u001b[32m3.1/3.1 MB\u001b[0m \u001b[31m35.6 MB/s\u001b[0m eta \u001b[36m0:00:00\u001b[0m\r\n",
      "\u001b[?25hInstalling collected packages: rapidfuzz\r\n",
      "Successfully installed rapidfuzz-3.11.0\r\n"
     ]
    }
   ],
   "source": [
    "# to compute the edit distance\n",
    "!pip install rapidfuzz "
   ]
  },
  {
   "cell_type": "code",
   "execution_count": 4,
   "id": "109ef4a9",
   "metadata": {
    "execution": {
     "iopub.execute_input": "2025-01-18T15:53:22.823031Z",
     "iopub.status.busy": "2025-01-18T15:53:22.822573Z",
     "iopub.status.idle": "2025-01-18T15:53:25.422962Z",
     "shell.execute_reply": "2025-01-18T15:53:25.421690Z"
    },
    "papermill": {
     "duration": 2.621988,
     "end_time": "2025-01-18T15:53:25.425309",
     "exception": false,
     "start_time": "2025-01-18T15:53:22.803321",
     "status": "completed"
    },
    "tags": []
   },
   "outputs": [],
   "source": [
    "import pandas as pd\n",
    "import numpy as np\n",
    "from datetime import datetime\n",
    "import os\n",
    "import re\n",
    "from rapidfuzz import fuzz\n",
    "from tqdm import tqdm\n",
    "from sklearn.feature_extraction.text import CountVectorizer\n",
    "from scipy.spatial.distance import jaccard\n",
    "\n",
    "# Set max column width to None to display full content\n",
    "pd.set_option('display.max_colwidth', None)"
   ]
  },
  {
   "cell_type": "code",
   "execution_count": 5,
   "id": "1921fda6",
   "metadata": {
    "execution": {
     "iopub.execute_input": "2025-01-18T15:53:25.461721Z",
     "iopub.status.busy": "2025-01-18T15:53:25.461134Z",
     "iopub.status.idle": "2025-01-18T15:53:25.469905Z",
     "shell.execute_reply": "2025-01-18T15:53:25.468632Z"
    },
    "papermill": {
     "duration": 0.028813,
     "end_time": "2025-01-18T15:53:25.471875",
     "exception": false,
     "start_time": "2025-01-18T15:53:25.443062",
     "status": "completed"
    },
    "tags": []
   },
   "outputs": [
    {
     "name": "stdout",
     "output_type": "stream",
     "text": [
      "/kaggle/working/Milan_Services_2012\n"
     ]
    }
   ],
   "source": [
    "%cd Milan_Services_2012"
   ]
  },
  {
   "cell_type": "code",
   "execution_count": 6,
   "id": "ed075370",
   "metadata": {
    "execution": {
     "iopub.execute_input": "2025-01-18T15:53:25.507571Z",
     "iopub.status.busy": "2025-01-18T15:53:25.507134Z",
     "iopub.status.idle": "2025-01-18T15:53:25.567948Z",
     "shell.execute_reply": "2025-01-18T15:53:25.566606Z"
    },
    "papermill": {
     "duration": 0.080632,
     "end_time": "2025-01-18T15:53:25.569973",
     "exception": false,
     "start_time": "2025-01-18T15:53:25.489341",
     "status": "completed"
    },
    "tags": []
   },
   "outputs": [
    {
     "data": {
      "text/html": [
       "<div>\n",
       "<style scoped>\n",
       "    .dataframe tbody tr th:only-of-type {\n",
       "        vertical-align: middle;\n",
       "    }\n",
       "\n",
       "    .dataframe tbody tr th {\n",
       "        vertical-align: top;\n",
       "    }\n",
       "\n",
       "    .dataframe thead th {\n",
       "        text-align: right;\n",
       "    }\n",
       "</style>\n",
       "<table border=\"1\" class=\"dataframe\">\n",
       "  <thead>\n",
       "    <tr style=\"text-align: right;\">\n",
       "      <th></th>\n",
       "      <th>Tipo esercizio pa</th>\n",
       "      <th>Ubicazione</th>\n",
       "      <th>Tipo via</th>\n",
       "      <th>Via</th>\n",
       "      <th>Civico</th>\n",
       "      <th>Codice via</th>\n",
       "      <th>ZD</th>\n",
       "      <th>Prevalente</th>\n",
       "      <th>Superficie altri usi</th>\n",
       "      <th>Superficie lavorativa</th>\n",
       "    </tr>\n",
       "  </thead>\n",
       "  <tbody>\n",
       "    <tr>\n",
       "      <th>0</th>\n",
       "      <td>NaN</td>\n",
       "      <td>LGO DEI GELSOMINI N. 10 (z.d. 6)</td>\n",
       "      <td>LGO</td>\n",
       "      <td>DEI GELSOMINI</td>\n",
       "      <td>10</td>\n",
       "      <td>5394.0</td>\n",
       "      <td>6</td>\n",
       "      <td>NaN</td>\n",
       "      <td>NaN</td>\n",
       "      <td>55.0</td>\n",
       "    </tr>\n",
       "    <tr>\n",
       "      <th>1</th>\n",
       "      <td>NaN</td>\n",
       "      <td>PZA FIDIA N. 3 (z.d. 9)</td>\n",
       "      <td>PZA</td>\n",
       "      <td>FIDIA</td>\n",
       "      <td>3</td>\n",
       "      <td>1144.0</td>\n",
       "      <td>9</td>\n",
       "      <td>CENTRO MASSAGGI RILASSANTI NON ESTETICI</td>\n",
       "      <td>2.0</td>\n",
       "      <td>28.0</td>\n",
       "    </tr>\n",
       "    <tr>\n",
       "      <th>2</th>\n",
       "      <td>NaN</td>\n",
       "      <td>VIA ADIGE N. 10 (z.d. 5)</td>\n",
       "      <td>VIA</td>\n",
       "      <td>ADIGE</td>\n",
       "      <td>10</td>\n",
       "      <td>4216.0</td>\n",
       "      <td>5</td>\n",
       "      <td>CENTRO BENESSERE</td>\n",
       "      <td>2.0</td>\n",
       "      <td>27.0</td>\n",
       "    </tr>\n",
       "    <tr>\n",
       "      <th>3</th>\n",
       "      <td>NaN</td>\n",
       "      <td>VIA BARACCHINI FLAVIO N. 9 (z.d. 1)</td>\n",
       "      <td>VIA</td>\n",
       "      <td>BARACCHINI FLAVIO</td>\n",
       "      <td>9</td>\n",
       "      <td>356.0</td>\n",
       "      <td>1</td>\n",
       "      <td>TRUCCO SEMIPERMANENTE</td>\n",
       "      <td>NaN</td>\n",
       "      <td>NaN</td>\n",
       "    </tr>\n",
       "    <tr>\n",
       "      <th>4</th>\n",
       "      <td>NaN</td>\n",
       "      <td>VIA BERGAMO N. 12 (z.d. 4)</td>\n",
       "      <td>VIA</td>\n",
       "      <td>BERGAMO</td>\n",
       "      <td>12</td>\n",
       "      <td>3189.0</td>\n",
       "      <td>4</td>\n",
       "      <td>NaN</td>\n",
       "      <td>NaN</td>\n",
       "      <td>50.0</td>\n",
       "    </tr>\n",
       "  </tbody>\n",
       "</table>\n",
       "</div>"
      ],
      "text/plain": [
       "  Tipo esercizio pa                           Ubicazione Tipo via  \\\n",
       "0               NaN     LGO DEI GELSOMINI N. 10 (z.d. 6)      LGO   \n",
       "1               NaN              PZA FIDIA N. 3 (z.d. 9)      PZA   \n",
       "2               NaN             VIA ADIGE N. 10 (z.d. 5)      VIA   \n",
       "3               NaN  VIA BARACCHINI FLAVIO N. 9 (z.d. 1)      VIA   \n",
       "4               NaN           VIA BERGAMO N. 12 (z.d. 4)      VIA   \n",
       "\n",
       "                 Via Civico Codice via ZD  \\\n",
       "0      DEI GELSOMINI     10     5394.0  6   \n",
       "1              FIDIA      3     1144.0  9   \n",
       "2              ADIGE     10     4216.0  5   \n",
       "3  BARACCHINI FLAVIO      9      356.0  1   \n",
       "4            BERGAMO     12     3189.0  4   \n",
       "\n",
       "                                Prevalente  Superficie altri usi  \\\n",
       "0                                      NaN                   NaN   \n",
       "1  CENTRO MASSAGGI RILASSANTI NON ESTETICI                   2.0   \n",
       "2                         CENTRO BENESSERE                   2.0   \n",
       "3                    TRUCCO SEMIPERMANENTE                   NaN   \n",
       "4                                      NaN                   NaN   \n",
       "\n",
       "   Superficie lavorativa  \n",
       "0                   55.0  \n",
       "1                   28.0  \n",
       "2                   27.0  \n",
       "3                    NaN  \n",
       "4                   50.0  "
      ]
     },
     "execution_count": 6,
     "metadata": {},
     "output_type": "execute_result"
    }
   ],
   "source": [
    "SERVICES = pd.read_csv('data/raw/Comune-di-Milano-Servizi-alla-persona-parrucchieri-estetisti.csv',sep=';',encoding='unicode_escape')\n",
    "SERVICES[\"Codice via\"] = SERVICES[\"Codice via\"].fillna(\"\").astype(str)\n",
    "SERVICES.head()"
   ]
  },
  {
   "cell_type": "markdown",
   "id": "78b030cf",
   "metadata": {
    "papermill": {
     "duration": 0.01848,
     "end_time": "2025-01-18T15:53:25.606324",
     "exception": false,
     "start_time": "2025-01-18T15:53:25.587844",
     "status": "completed"
    },
    "tags": []
   },
   "source": [
    "### Import external dataset\n",
    "During the data cleaning stage, external are used to fix irregular values, among these we have"
   ]
  },
  {
   "cell_type": "code",
   "execution_count": 7,
   "id": "10f97049",
   "metadata": {
    "execution": {
     "iopub.execute_input": "2025-01-18T15:53:25.643780Z",
     "iopub.status.busy": "2025-01-18T15:53:25.643286Z",
     "iopub.status.idle": "2025-01-18T15:53:26.502550Z",
     "shell.execute_reply": "2025-01-18T15:53:26.501327Z"
    },
    "papermill": {
     "duration": 0.880757,
     "end_time": "2025-01-18T15:53:26.504953",
     "exception": false,
     "start_time": "2025-01-18T15:53:25.624196",
     "status": "completed"
    },
    "tags": []
   },
   "outputs": [],
   "source": [
    "viario = pd.read_csv('data/external/VIARIO_20241104.csv',sep=';',encoding='unicode_escape')\n",
    "viario = viario.astype(str)\n",
    "\n",
    "centroidi = pd.read_csv('data/external/CENTROIDI_20241104.csv',sep=';',encoding='unicode_escape')\n",
    "centroidi = centroidi.astype(str)\n",
    "\n",
    "\n",
    "tipovia = pd.read_csv('data/external/TIPOVIA.csv',sep=';',encoding='unicode_escape')\n",
    "viario_centroidi = viario.merge(centroidi, on='CODICE_VIA', how='left')\n",
    "\n",
    "civici = pd.read_csv('data/external/CiviciCdMI.csv',sep=';',encoding='unicode_escape')\n",
    "civici = civici.astype(str)"
   ]
  },
  {
   "cell_type": "markdown",
   "id": "a722521a",
   "metadata": {
    "papermill": {
     "duration": 0.017114,
     "end_time": "2025-01-18T15:53:26.545051",
     "exception": false,
     "start_time": "2025-01-18T15:53:26.527937",
     "status": "completed"
    },
    "tags": []
   },
   "source": [
    "## Wrangling \n",
    "\n",
    "This script focuses on renaming the columns of the `SERVICES` dataset to shorter, more convenient names.  \n",
    "\n",
    "The original DataFrame is modified in place, and a copy of the updated dataset, named `new_SERVICES`, is created for further analysis or processing.  \n",
    "\n",
    "We pass from:\n",
    "\n",
    "| Tipo esercizio pa     | Ubicazione     | Tipo via | Via      | Civico | Codice via | ZD | Prevalente | Superficie altri usi | Superficie lavorativa |\n",
    "|-------|-------|------|-------|-----|-----|---------|----|---------|---------|\n",
    "\n",
    "to:\n",
    "\n",
    "\n",
    "| t_es  | ubic | t_via | via | civ | cod_via | zd | main | sup_alt | sup_lav | \n",
    "|-------|------|-------|-----|-----|---------|----|------|---------|---------|\n"
   ]
  },
  {
   "cell_type": "code",
   "execution_count": 8,
   "id": "7be4afa5",
   "metadata": {
    "execution": {
     "iopub.execute_input": "2025-01-18T15:53:26.601968Z",
     "iopub.status.busy": "2025-01-18T15:53:26.601562Z",
     "iopub.status.idle": "2025-01-18T15:53:26.624912Z",
     "shell.execute_reply": "2025-01-18T15:53:26.623663Z"
    },
    "papermill": {
     "duration": 0.056875,
     "end_time": "2025-01-18T15:53:26.627274",
     "exception": false,
     "start_time": "2025-01-18T15:53:26.570399",
     "status": "completed"
    },
    "tags": []
   },
   "outputs": [
    {
     "data": {
      "text/html": [
       "<div>\n",
       "<style scoped>\n",
       "    .dataframe tbody tr th:only-of-type {\n",
       "        vertical-align: middle;\n",
       "    }\n",
       "\n",
       "    .dataframe tbody tr th {\n",
       "        vertical-align: top;\n",
       "    }\n",
       "\n",
       "    .dataframe thead th {\n",
       "        text-align: right;\n",
       "    }\n",
       "</style>\n",
       "<table border=\"1\" class=\"dataframe\">\n",
       "  <thead>\n",
       "    <tr style=\"text-align: right;\">\n",
       "      <th></th>\n",
       "      <th>t_es</th>\n",
       "      <th>ubic</th>\n",
       "      <th>t_via</th>\n",
       "      <th>via</th>\n",
       "      <th>civ</th>\n",
       "      <th>cod_via</th>\n",
       "      <th>zd</th>\n",
       "      <th>main</th>\n",
       "      <th>sup_alt</th>\n",
       "      <th>sup_lav</th>\n",
       "    </tr>\n",
       "  </thead>\n",
       "  <tbody>\n",
       "    <tr>\n",
       "      <th>0</th>\n",
       "      <td>NaN</td>\n",
       "      <td>LGO DEI GELSOMINI N. 10 (z.d. 6)</td>\n",
       "      <td>LGO</td>\n",
       "      <td>DEI GELSOMINI</td>\n",
       "      <td>10</td>\n",
       "      <td>5394.0</td>\n",
       "      <td>6</td>\n",
       "      <td>NaN</td>\n",
       "      <td>NaN</td>\n",
       "      <td>55.0</td>\n",
       "    </tr>\n",
       "    <tr>\n",
       "      <th>1</th>\n",
       "      <td>NaN</td>\n",
       "      <td>PZA FIDIA N. 3 (z.d. 9)</td>\n",
       "      <td>PZA</td>\n",
       "      <td>FIDIA</td>\n",
       "      <td>3</td>\n",
       "      <td>1144.0</td>\n",
       "      <td>9</td>\n",
       "      <td>CENTRO MASSAGGI RILASSANTI NON ESTETICI</td>\n",
       "      <td>2.0</td>\n",
       "      <td>28.0</td>\n",
       "    </tr>\n",
       "    <tr>\n",
       "      <th>2</th>\n",
       "      <td>NaN</td>\n",
       "      <td>VIA ADIGE N. 10 (z.d. 5)</td>\n",
       "      <td>VIA</td>\n",
       "      <td>ADIGE</td>\n",
       "      <td>10</td>\n",
       "      <td>4216.0</td>\n",
       "      <td>5</td>\n",
       "      <td>CENTRO BENESSERE</td>\n",
       "      <td>2.0</td>\n",
       "      <td>27.0</td>\n",
       "    </tr>\n",
       "    <tr>\n",
       "      <th>3</th>\n",
       "      <td>NaN</td>\n",
       "      <td>VIA BARACCHINI FLAVIO N. 9 (z.d. 1)</td>\n",
       "      <td>VIA</td>\n",
       "      <td>BARACCHINI FLAVIO</td>\n",
       "      <td>9</td>\n",
       "      <td>356.0</td>\n",
       "      <td>1</td>\n",
       "      <td>TRUCCO SEMIPERMANENTE</td>\n",
       "      <td>NaN</td>\n",
       "      <td>NaN</td>\n",
       "    </tr>\n",
       "    <tr>\n",
       "      <th>4</th>\n",
       "      <td>NaN</td>\n",
       "      <td>VIA BERGAMO N. 12 (z.d. 4)</td>\n",
       "      <td>VIA</td>\n",
       "      <td>BERGAMO</td>\n",
       "      <td>12</td>\n",
       "      <td>3189.0</td>\n",
       "      <td>4</td>\n",
       "      <td>NaN</td>\n",
       "      <td>NaN</td>\n",
       "      <td>50.0</td>\n",
       "    </tr>\n",
       "  </tbody>\n",
       "</table>\n",
       "</div>"
      ],
      "text/plain": [
       "  t_es                                 ubic t_via                via civ  \\\n",
       "0  NaN     LGO DEI GELSOMINI N. 10 (z.d. 6)   LGO      DEI GELSOMINI  10   \n",
       "1  NaN              PZA FIDIA N. 3 (z.d. 9)   PZA              FIDIA   3   \n",
       "2  NaN             VIA ADIGE N. 10 (z.d. 5)   VIA              ADIGE  10   \n",
       "3  NaN  VIA BARACCHINI FLAVIO N. 9 (z.d. 1)   VIA  BARACCHINI FLAVIO   9   \n",
       "4  NaN           VIA BERGAMO N. 12 (z.d. 4)   VIA            BERGAMO  12   \n",
       "\n",
       "  cod_via zd                                     main  sup_alt  sup_lav  \n",
       "0  5394.0  6                                      NaN      NaN     55.0  \n",
       "1  1144.0  9  CENTRO MASSAGGI RILASSANTI NON ESTETICI      2.0     28.0  \n",
       "2  4216.0  5                         CENTRO BENESSERE      2.0     27.0  \n",
       "3   356.0  1                    TRUCCO SEMIPERMANENTE      NaN      NaN  \n",
       "4  3189.0  4                                      NaN      NaN     50.0  "
      ]
     },
     "execution_count": 8,
     "metadata": {},
     "output_type": "execute_result"
    }
   ],
   "source": [
    "new_SERVICES = SERVICES.copy()\n",
    "\n",
    "new_SERVICES = new_SERVICES.rename(columns={\n",
    "    'Tipo esercizio pa': 't_es',\n",
    "    'Ubicazione': 'ubic',\n",
    "    'Tipo via': 't_via',\n",
    "    'Via': 'via',\n",
    "    'Civico': 'civ',\n",
    "    'Codice via': 'cod_via',\n",
    "    'ZD': 'zd',\n",
    "    'Prevalente': 'main',\n",
    "    'Superficie altri usi': 'sup_alt',\n",
    "    'Superficie lavorativa': 'sup_lav'\n",
    "})\n",
    "\n",
    "new_SERVICES.head()"
   ]
  },
  {
   "cell_type": "markdown",
   "id": "0f1537f0",
   "metadata": {
    "papermill": {
     "duration": 0.017433,
     "end_time": "2025-01-18T15:53:26.668295",
     "exception": false,
     "start_time": "2025-01-18T15:53:26.650862",
     "status": "completed"
    },
    "tags": []
   },
   "source": [
    "## Transformation\n",
    "### ZD: Removing data representing different information\n",
    "\n",
    "This script processes the `zd` column in the `SERVICES` dataset. The column initially contains a mix of numeric values, missing values (`nan`), and a single non-numeric label `'ACCONCIATORE'`.  \n",
    "\n",
    "**Goal**: to filter out or modify rows where `zd` contains irrelevant or inconsistent information (e.g., `'ACCONCIATORE'`) to ensure that only meaningful numeric data is retained for analysis."
   ]
  },
  {
   "cell_type": "code",
   "execution_count": 9,
   "id": "577ce0ad",
   "metadata": {
    "execution": {
     "iopub.execute_input": "2025-01-18T15:53:26.705275Z",
     "iopub.status.busy": "2025-01-18T15:53:26.704754Z",
     "iopub.status.idle": "2025-01-18T15:53:26.713933Z",
     "shell.execute_reply": "2025-01-18T15:53:26.712730Z"
    },
    "papermill": {
     "duration": 0.029682,
     "end_time": "2025-01-18T15:53:26.715648",
     "exception": false,
     "start_time": "2025-01-18T15:53:26.685966",
     "status": "completed"
    },
    "tags": []
   },
   "outputs": [
    {
     "data": {
      "text/plain": [
       "array(['6', '9', '5', '1', '4', '2', '8', '3', nan, 'ACCONCIATORE', '7'],\n",
       "      dtype=object)"
      ]
     },
     "execution_count": 9,
     "metadata": {},
     "output_type": "execute_result"
    }
   ],
   "source": [
    "new_SERVICES.zd.unique()"
   ]
  },
  {
   "cell_type": "markdown",
   "id": "a444d555",
   "metadata": {
    "papermill": {
     "duration": 0.017191,
     "end_time": "2025-01-18T15:53:26.750344",
     "exception": false,
     "start_time": "2025-01-18T15:53:26.733153",
     "status": "completed"
    },
    "tags": []
   },
   "source": [
    "During the data cleaning process, we identified two consecutive rows in the `SERVICES` dataset that appear to represent the same entity but contain fragmented or overlapping information. Specifically:\n",
    "\n",
    "1. The first row (index 32) contains descriptive information about the entity, such as `'Acconciatore'` in the `t_es` column, but lacks structured data for most other fields.\n",
    "2. The second row (index 33) provides structured data for fields like `via`, `civ`, `cod_via`, and `zd`, but the `t_es` column contains a reference to `'ACCONCIATORE'`."
   ]
  },
  {
   "cell_type": "code",
   "execution_count": 10,
   "id": "c0737c5a",
   "metadata": {
    "execution": {
     "iopub.execute_input": "2025-01-18T15:53:26.789875Z",
     "iopub.status.busy": "2025-01-18T15:53:26.789328Z",
     "iopub.status.idle": "2025-01-18T15:53:26.807602Z",
     "shell.execute_reply": "2025-01-18T15:53:26.806477Z"
    },
    "papermill": {
     "duration": 0.041393,
     "end_time": "2025-01-18T15:53:26.809793",
     "exception": false,
     "start_time": "2025-01-18T15:53:26.768400",
     "status": "completed"
    },
    "tags": []
   },
   "outputs": [
    {
     "data": {
      "text/html": [
       "<div>\n",
       "<style scoped>\n",
       "    .dataframe tbody tr th:only-of-type {\n",
       "        vertical-align: middle;\n",
       "    }\n",
       "\n",
       "    .dataframe tbody tr th {\n",
       "        vertical-align: top;\n",
       "    }\n",
       "\n",
       "    .dataframe thead th {\n",
       "        text-align: right;\n",
       "    }\n",
       "</style>\n",
       "<table border=\"1\" class=\"dataframe\">\n",
       "  <thead>\n",
       "    <tr style=\"text-align: right;\">\n",
       "      <th></th>\n",
       "      <th>t_es</th>\n",
       "      <th>ubic</th>\n",
       "      <th>t_via</th>\n",
       "      <th>via</th>\n",
       "      <th>civ</th>\n",
       "      <th>cod_via</th>\n",
       "      <th>zd</th>\n",
       "      <th>main</th>\n",
       "      <th>sup_alt</th>\n",
       "      <th>sup_lav</th>\n",
       "    </tr>\n",
       "  </thead>\n",
       "  <tbody>\n",
       "    <tr>\n",
       "      <th>32</th>\n",
       "      <td>Acconciatore</td>\n",
       "      <td>CSO COMO N. 15 interno club f. conti</td>\n",
       "      <td>NaN</td>\n",
       "      <td>NaN</td>\n",
       "      <td>NaN</td>\n",
       "      <td></td>\n",
       "      <td>NaN</td>\n",
       "      <td>NaN</td>\n",
       "      <td>NaN</td>\n",
       "      <td>NaN</td>\n",
       "    </tr>\n",
       "    <tr>\n",
       "      <th>33</th>\n",
       "      <td>(z.d. 9)</td>\n",
       "      <td>CSO</td>\n",
       "      <td>COMO</td>\n",
       "      <td>15</td>\n",
       "      <td>1111</td>\n",
       "      <td>9.0</td>\n",
       "      <td>ACCONCIATORE</td>\n",
       "      <td>NaN</td>\n",
       "      <td>195.0</td>\n",
       "      <td>NaN</td>\n",
       "    </tr>\n",
       "  </tbody>\n",
       "</table>\n",
       "</div>"
      ],
      "text/plain": [
       "            t_es                                  ubic t_via  via   civ  \\\n",
       "32  Acconciatore  CSO COMO N. 15 interno club f. conti   NaN  NaN   NaN   \n",
       "33      (z.d. 9)                                   CSO  COMO   15  1111   \n",
       "\n",
       "   cod_via            zd main  sup_alt  sup_lav  \n",
       "32                   NaN  NaN      NaN      NaN  \n",
       "33     9.0  ACCONCIATORE  NaN    195.0      NaN  "
      ]
     },
     "execution_count": 10,
     "metadata": {},
     "output_type": "execute_result"
    }
   ],
   "source": [
    "new_SERVICES.loc[32:33].head()"
   ]
  },
  {
   "attachments": {},
   "cell_type": "markdown",
   "id": "de592636",
   "metadata": {
    "papermill": {
     "duration": 0.017712,
     "end_time": "2025-01-18T15:53:26.853643",
     "exception": false,
     "start_time": "2025-01-18T15:53:26.835931",
     "status": "completed"
    },
    "tags": []
   },
   "source": [
    "To standardize and improve the dataset:\n",
    "- The two rows were merged into a single entry, combining the fragmented information into a complete record. \n",
    "- This process ensures no information is lost while achieving the desired structure and format for the full dataset.\n",
    "\n",
    "##### Example:\n",
    "Before merging:\n",
    "- Row 32: `'Acconciatore', 'CSO COMO N. 15 interno club f. conti', NaN, NaN, NaN, NaN, NaN, NaN, NaN, NaN`\n",
    "- Row 33: `'(z.d. 9)', 'CSO', 'COMO', '15', '1111', '9.0', 'ACCONCIATORE', NaN, '195.0', NaN`\n",
    "\n",
    "After merging:\n",
    "- New Row: `'Acconciatore', 'CSO COMO', '15', '1111', '9.0', NaN, NaN, '195.0', Nan`"
   ]
  },
  {
   "cell_type": "code",
   "execution_count": 11,
   "id": "a6717456",
   "metadata": {
    "execution": {
     "iopub.execute_input": "2025-01-18T15:53:26.892459Z",
     "iopub.status.busy": "2025-01-18T15:53:26.891923Z",
     "iopub.status.idle": "2025-01-18T15:53:26.921514Z",
     "shell.execute_reply": "2025-01-18T15:53:26.920253Z"
    },
    "papermill": {
     "duration": 0.052109,
     "end_time": "2025-01-18T15:53:26.923741",
     "exception": false,
     "start_time": "2025-01-18T15:53:26.871632",
     "status": "completed"
    },
    "tags": []
   },
   "outputs": [
    {
     "data": {
      "text/html": [
       "<div>\n",
       "<style scoped>\n",
       "    .dataframe tbody tr th:only-of-type {\n",
       "        vertical-align: middle;\n",
       "    }\n",
       "\n",
       "    .dataframe tbody tr th {\n",
       "        vertical-align: top;\n",
       "    }\n",
       "\n",
       "    .dataframe thead th {\n",
       "        text-align: right;\n",
       "    }\n",
       "</style>\n",
       "<table border=\"1\" class=\"dataframe\">\n",
       "  <thead>\n",
       "    <tr style=\"text-align: right;\">\n",
       "      <th></th>\n",
       "      <th>t_es</th>\n",
       "      <th>ubic</th>\n",
       "      <th>t_via</th>\n",
       "      <th>via</th>\n",
       "      <th>civ</th>\n",
       "      <th>cod_via</th>\n",
       "      <th>zd</th>\n",
       "      <th>main</th>\n",
       "      <th>sup_alt</th>\n",
       "      <th>sup_lav</th>\n",
       "    </tr>\n",
       "  </thead>\n",
       "  <tbody>\n",
       "    <tr>\n",
       "      <th>32</th>\n",
       "      <td>Acconciatore</td>\n",
       "      <td>CSO COMO N. 15 (z.d. 9)</td>\n",
       "      <td>CSO</td>\n",
       "      <td>CSO COMO</td>\n",
       "      <td>15</td>\n",
       "      <td>1111.0</td>\n",
       "      <td>9</td>\n",
       "      <td>ACCONCIATORE</td>\n",
       "      <td>NaN</td>\n",
       "      <td>195.0</td>\n",
       "    </tr>\n",
       "    <tr>\n",
       "      <th>33</th>\n",
       "      <td>Acconciatore</td>\n",
       "      <td>CSO DI PORTA NUOVA N. 46 ; (z.d. 1)</td>\n",
       "      <td>CSO</td>\n",
       "      <td>DI PORTA NUOVA</td>\n",
       "      <td>46</td>\n",
       "      <td>1044.0</td>\n",
       "      <td>1</td>\n",
       "      <td>NaN</td>\n",
       "      <td>NaN</td>\n",
       "      <td>34.0</td>\n",
       "    </tr>\n",
       "  </tbody>\n",
       "</table>\n",
       "</div>"
      ],
      "text/plain": [
       "            t_es                                 ubic t_via             via  \\\n",
       "32  Acconciatore              CSO COMO N. 15 (z.d. 9)   CSO        CSO COMO   \n",
       "33  Acconciatore  CSO DI PORTA NUOVA N. 46 ; (z.d. 1)   CSO  DI PORTA NUOVA   \n",
       "\n",
       "   civ cod_via zd          main  sup_alt  sup_lav  \n",
       "32  15  1111.0  9  ACCONCIATORE      NaN    195.0  \n",
       "33  46  1044.0  1           NaN      NaN     34.0  "
      ]
     },
     "execution_count": 11,
     "metadata": {},
     "output_type": "execute_result"
    }
   ],
   "source": [
    "# New merged row\n",
    "merged_row = {\n",
    "    \"t_es\": \"Acconciatore\",\n",
    "    \"ubic\": \"CSO COMO N. 15 (z.d. 9)\",\n",
    "    \"t_via\": \"CSO\",\n",
    "    \"via\": \"CSO COMO\",\n",
    "    \"civ\": \"15\",\n",
    "    \"cod_via\": 1111.0,\n",
    "    \"zd\": \"9\",\n",
    "    \"main\": \"ACCONCIATORE\",\n",
    "    \"sup_alt\": np.nan,\n",
    "    \"sup_lav\": 195.0,\n",
    "}\n",
    "\n",
    "# Remove row at index 33 and replace row at index 32\n",
    "new_SERVICES = new_SERVICES.drop(index=33, errors='ignore')  # Drop row 33\n",
    "new_SERVICES.loc[32] = merged_row  # Add the merged row at index 32\n",
    "\n",
    "# Ensure correct row order and reset index if necessary\n",
    "new_SERVICES = new_SERVICES.sort_index().reset_index(drop=True)\n",
    "\n",
    "new_SERVICES.loc[32:33].head()"
   ]
  },
  {
   "cell_type": "markdown",
   "id": "d47aaece",
   "metadata": {
    "papermill": {
     "duration": 0.018002,
     "end_time": "2025-01-18T15:53:26.960472",
     "exception": false,
     "start_time": "2025-01-18T15:53:26.942470",
     "status": "completed"
    },
    "tags": []
   },
   "source": [
    "Finally, the available values in the column `zd` are:"
   ]
  },
  {
   "cell_type": "code",
   "execution_count": 12,
   "id": "1ee0e8e9",
   "metadata": {
    "execution": {
     "iopub.execute_input": "2025-01-18T15:53:27.002477Z",
     "iopub.status.busy": "2025-01-18T15:53:27.001940Z",
     "iopub.status.idle": "2025-01-18T15:53:27.011812Z",
     "shell.execute_reply": "2025-01-18T15:53:27.010627Z"
    },
    "papermill": {
     "duration": 0.032372,
     "end_time": "2025-01-18T15:53:27.013774",
     "exception": false,
     "start_time": "2025-01-18T15:53:26.981402",
     "status": "completed"
    },
    "tags": []
   },
   "outputs": [
    {
     "data": {
      "text/plain": [
       "array(['1', '2', '3', '4', '5', '6', '7', '8', '9'], dtype=object)"
      ]
     },
     "execution_count": 12,
     "metadata": {},
     "output_type": "execute_result"
    }
   ],
   "source": [
    "np.sort(new_SERVICES['zd'].unique())"
   ]
  },
  {
   "cell_type": "markdown",
   "id": "b4f032c1",
   "metadata": {
    "papermill": {
     "duration": 0.017808,
     "end_time": "2025-01-18T15:53:27.053869",
     "exception": false,
     "start_time": "2025-01-18T15:53:27.036061",
     "status": "completed"
    },
    "tags": []
   },
   "source": [
    "### T_ES: Label reduction\n",
    "\n",
    "The `t_es` column in the dataset contains a variety of labels that represent different categories of services. Many of these labels have similar meanings or represent variations of the same concept, leading to redundancy and potential inconsistencies in analysis.\n",
    "\n",
    "To address this, we will reduce the number of labels by grouping similar ones under a unified label, making the dataset easier to interpret and analyze while preserving the essential distinctions between categories."
   ]
  },
  {
   "cell_type": "code",
   "execution_count": 13,
   "id": "032530ef",
   "metadata": {
    "execution": {
     "iopub.execute_input": "2025-01-18T15:53:27.091309Z",
     "iopub.status.busy": "2025-01-18T15:53:27.090838Z",
     "iopub.status.idle": "2025-01-18T15:53:27.098100Z",
     "shell.execute_reply": "2025-01-18T15:53:27.096670Z"
    },
    "papermill": {
     "duration": 0.02896,
     "end_time": "2025-01-18T15:53:27.100463",
     "exception": false,
     "start_time": "2025-01-18T15:53:27.071503",
     "status": "completed"
    },
    "tags": []
   },
   "outputs": [
    {
     "name": "stdout",
     "output_type": "stream",
     "text": [
      "The number of different label combination for 't_es' column is 103.\n"
     ]
    }
   ],
   "source": [
    "print(\"The number of different label combination for 't_es' column is {}.\".format(new_SERVICES.t_es.unique().shape[0]))"
   ]
  },
  {
   "cell_type": "code",
   "execution_count": 14,
   "id": "a8bc789b",
   "metadata": {
    "execution": {
     "iopub.execute_input": "2025-01-18T15:53:27.149689Z",
     "iopub.status.busy": "2025-01-18T15:53:27.149123Z",
     "iopub.status.idle": "2025-01-18T15:53:27.196240Z",
     "shell.execute_reply": "2025-01-18T15:53:27.194692Z"
    },
    "papermill": {
     "duration": 0.069814,
     "end_time": "2025-01-18T15:53:27.198292",
     "exception": false,
     "start_time": "2025-01-18T15:53:27.128478",
     "status": "completed"
    },
    "tags": []
   },
   "outputs": [
    {
     "name": "stdout",
     "output_type": "stream",
     "text": [
      "COUNTS of unique labels\n",
      "\n",
      "ACCONCIATORE                      \t 717\n",
      "Acconciatore                      \t 190\n",
      "BARBIERE                          \t   2\n",
      "Centro abbronzatura               \t   2\n",
      "Centro benessere                  \t  29\n",
      "Centro massaggi                   \t 139\n",
      "Esecuzione di tatuaggi e piercing \t   5\n",
      "Estetista                         \t  31\n",
      "Estetista in profumeria           \t   2\n",
      "Manicure                          \t   3\n",
      "Parrucchiere misto                \t 105\n",
      "Parrucchiere per signora          \t1213\n",
      "Parrucchiere per uomo             \t 518\n",
      "Pedicure estetico                 \t  22\n",
      "TIPO A - REG.2003                 \t 865\n",
      "TIPO A ESTETICA MANUALE           \t 263\n",
      "TIPO A-B-C-D                      \t  88\n",
      "TIPO B CENTRO DI ABBRONZATURA     \t 603\n",
      "TIPO C TRATT.ESTETICI DIMAGRIM    \t 138\n",
      "TIPO D ESTET.APPAR.ELETTROMECC    \t  74\n",
      "Truccatore                        \t   1\n",
      "esecuzione di tatuaggi e piercing \t  19\n"
     ]
    }
   ],
   "source": [
    "# Ensure 't_es' column does not have NaN values and is treated as strings\n",
    "new_SERVICES[\"t_es\"] = new_SERVICES[\"t_es\"].fillna(\"\").astype(str)\n",
    "\n",
    "# Split the 't_es' column by ';' and flatten the resulting lists\n",
    "flattened_labels = [label.strip() for item in new_SERVICES[\"t_es\"] for label in item.split(\";\")]\n",
    "\n",
    "# Get the unique labels and sort them\n",
    "unique_labels = sorted(set(flattened_labels))\n",
    "\n",
    "# Initialize a dictionary to store counts\n",
    "label_counts = {label: 0 for label in unique_labels}\n",
    "\n",
    "# Loop through each row in the \"t_es\" column and count the occurrences of each label\n",
    "for entry in new_SERVICES['t_es'].dropna():  # Drop NaN values to avoid errors\n",
    "    for label in unique_labels:\n",
    "        if label in entry:\n",
    "            label_counts[label] += 1\n",
    "\n",
    "print(\"COUNTS of unique labels\\n\")\n",
    "\n",
    "# Find the maximum width for labels and numbers\n",
    "max_label_length = max(len(label) for label in label_counts if label != \"\")\n",
    "max_number_length = max(len(str(count)) for count in label_counts.values())\n",
    "\n",
    "# Print the counts with aligned output\n",
    "for label, count in label_counts.items():\n",
    "    if label != \"\":\n",
    "        print(f\"{label:<{max_label_length}} \\t{count:>{max_number_length}}\")"
   ]
  },
  {
   "cell_type": "markdown",
   "id": "034dce08",
   "metadata": {
    "papermill": {
     "duration": 0.018259,
     "end_time": "2025-01-18T15:53:27.235473",
     "exception": false,
     "start_time": "2025-01-18T15:53:27.217214",
     "status": "completed"
    },
    "tags": []
   },
   "source": [
    "Now we transform and standardize the values in the `t_es` column of the dataset. It consists of two main steps:\n",
    "\n",
    "1. **Composite Labels Handling**: Some rows contain multiple related labels that should be split or expanded into individual categories. For example, labels like `\"TIPO A-B-C-D\"` or `\"Parrucchiere misto\"` are expanded into separate labels to ensure all relevant categories are included.\n",
    "   \n",
    "2. **Label Mapping**: After handling composite labels (e.g., splitting `\"TIPO A-B-C-D\"` into individual components), the code replaces each original label (such as `\"Centro abbronzatura\"`) with the most similar label from a predefined set using the **Jaccard** similarity measure. This step ensures that similar labels are grouped under a single, consistent label based on the highest similarity score.\n",
    "\n",
    "##### Example:\n",
    "\n",
    "Before transformation:\n",
    "- `\"TIPO A-B-C-D; Parrucchiere misto\"`\n",
    "\n",
    "After transformation:\n",
    "- `\"Tipo A - Estetica Manuale; Tipo B - Centro di Abbronzatura; Tipo C - Trattamenti Estetici Dimagrimento; Tipo D - Estetica Apparati Elettromeccanici; Parrucchiere per Uomo; Parrucchiere per Donna\"`\n",
    "\n",
    "This process ensures that the dataset contains consistent and meaningful labels, making the data easier to analyze and reducing redundancy."
   ]
  },
  {
   "cell_type": "code",
   "execution_count": 15,
   "id": "07c83854",
   "metadata": {
    "execution": {
     "iopub.execute_input": "2025-01-18T15:53:27.274035Z",
     "iopub.status.busy": "2025-01-18T15:53:27.273677Z",
     "iopub.status.idle": "2025-01-18T15:53:27.430204Z",
     "shell.execute_reply": "2025-01-18T15:53:27.428607Z"
    },
    "papermill": {
     "duration": 0.178478,
     "end_time": "2025-01-18T15:53:27.432257",
     "exception": false,
     "start_time": "2025-01-18T15:53:27.253779",
     "status": "completed"
    },
    "tags": []
   },
   "outputs": [
    {
     "data": {
      "text/html": [
       "<div>\n",
       "<style scoped>\n",
       "    .dataframe tbody tr th:only-of-type {\n",
       "        vertical-align: middle;\n",
       "    }\n",
       "\n",
       "    .dataframe tbody tr th {\n",
       "        vertical-align: top;\n",
       "    }\n",
       "\n",
       "    .dataframe thead th {\n",
       "        text-align: right;\n",
       "    }\n",
       "</style>\n",
       "<table border=\"1\" class=\"dataframe\">\n",
       "  <thead>\n",
       "    <tr style=\"text-align: right;\">\n",
       "      <th></th>\n",
       "      <th>t_es</th>\n",
       "      <th>ubic</th>\n",
       "      <th>t_via</th>\n",
       "      <th>via</th>\n",
       "      <th>civ</th>\n",
       "      <th>cod_via</th>\n",
       "      <th>zd</th>\n",
       "      <th>main</th>\n",
       "      <th>sup_alt</th>\n",
       "      <th>sup_lav</th>\n",
       "    </tr>\n",
       "  </thead>\n",
       "  <tbody>\n",
       "    <tr>\n",
       "      <th>0</th>\n",
       "      <td></td>\n",
       "      <td>LGO DEI GELSOMINI N. 10 (z.d. 6)</td>\n",
       "      <td>LGO</td>\n",
       "      <td>DEI GELSOMINI</td>\n",
       "      <td>10</td>\n",
       "      <td>5394.0</td>\n",
       "      <td>6</td>\n",
       "      <td>NaN</td>\n",
       "      <td>NaN</td>\n",
       "      <td>55.0</td>\n",
       "    </tr>\n",
       "    <tr>\n",
       "      <th>1</th>\n",
       "      <td></td>\n",
       "      <td>PZA FIDIA N. 3 (z.d. 9)</td>\n",
       "      <td>PZA</td>\n",
       "      <td>FIDIA</td>\n",
       "      <td>3</td>\n",
       "      <td>1144.0</td>\n",
       "      <td>9</td>\n",
       "      <td>CENTRO MASSAGGI RILASSANTI NON ESTETICI</td>\n",
       "      <td>2.0</td>\n",
       "      <td>28.0</td>\n",
       "    </tr>\n",
       "    <tr>\n",
       "      <th>2</th>\n",
       "      <td></td>\n",
       "      <td>VIA ADIGE N. 10 (z.d. 5)</td>\n",
       "      <td>VIA</td>\n",
       "      <td>ADIGE</td>\n",
       "      <td>10</td>\n",
       "      <td>4216.0</td>\n",
       "      <td>5</td>\n",
       "      <td>CENTRO BENESSERE</td>\n",
       "      <td>2.0</td>\n",
       "      <td>27.0</td>\n",
       "    </tr>\n",
       "    <tr>\n",
       "      <th>3</th>\n",
       "      <td></td>\n",
       "      <td>VIA BARACCHINI FLAVIO N. 9 (z.d. 1)</td>\n",
       "      <td>VIA</td>\n",
       "      <td>BARACCHINI FLAVIO</td>\n",
       "      <td>9</td>\n",
       "      <td>356.0</td>\n",
       "      <td>1</td>\n",
       "      <td>TRUCCO SEMIPERMANENTE</td>\n",
       "      <td>NaN</td>\n",
       "      <td>NaN</td>\n",
       "    </tr>\n",
       "    <tr>\n",
       "      <th>4</th>\n",
       "      <td></td>\n",
       "      <td>VIA BERGAMO N. 12 (z.d. 4)</td>\n",
       "      <td>VIA</td>\n",
       "      <td>BERGAMO</td>\n",
       "      <td>12</td>\n",
       "      <td>3189.0</td>\n",
       "      <td>4</td>\n",
       "      <td>NaN</td>\n",
       "      <td>NaN</td>\n",
       "      <td>50.0</td>\n",
       "    </tr>\n",
       "  </tbody>\n",
       "</table>\n",
       "</div>"
      ],
      "text/plain": [
       "  t_es                                 ubic t_via                via civ  \\\n",
       "0          LGO DEI GELSOMINI N. 10 (z.d. 6)   LGO      DEI GELSOMINI  10   \n",
       "1                   PZA FIDIA N. 3 (z.d. 9)   PZA              FIDIA   3   \n",
       "2                  VIA ADIGE N. 10 (z.d. 5)   VIA              ADIGE  10   \n",
       "3       VIA BARACCHINI FLAVIO N. 9 (z.d. 1)   VIA  BARACCHINI FLAVIO   9   \n",
       "4                VIA BERGAMO N. 12 (z.d. 4)   VIA            BERGAMO  12   \n",
       "\n",
       "  cod_via zd                                     main  sup_alt  sup_lav  \n",
       "0  5394.0  6                                      NaN      NaN     55.0  \n",
       "1  1144.0  9  CENTRO MASSAGGI RILASSANTI NON ESTETICI      2.0     28.0  \n",
       "2  4216.0  5                         CENTRO BENESSERE      2.0     27.0  \n",
       "3   356.0  1                    TRUCCO SEMIPERMANENTE      NaN      NaN  \n",
       "4  3189.0  4                                      NaN      NaN     50.0  "
      ]
     },
     "execution_count": 15,
     "metadata": {},
     "output_type": "execute_result"
    }
   ],
   "source": [
    "target_category_dict = {\n",
    "    'Acconciatore': ['Acconciatore'],\n",
    "    'Parrucchiere per Uomo': ['Barbiere', 'Parrucchiere per Uomo'],\n",
    "    'Tipo B - Centro di Abbronzatura': ['Tipo B - Centro di Abbronzatura'],\n",
    "    'Centro Benessere': ['Centro benessere'],\n",
    "    'Centro Massaggi': ['Centro massaggi'],\n",
    "    'Esecuzione di Tatuaggi e Piercing': ['Esecuzione di tatuaggi e piercing'],\n",
    "    'Tipo A - Estetica Manuale': ['Estetista in profumeria', 'Manicure', 'Pedicure estetico', 'Tipo A - Estetica Manuale', 'TIPO A - REG.2003'],\n",
    "    'Parrucchiere per Donna': ['Parrucchiere per signora'],\n",
    "    'Truccatore': ['Truccatore'],\n",
    "    'Tipo C - Trattamenti Estetici Dimagrimento': ['Tipo C - Trattamenti Estetici Dimagrimento'],\n",
    "    'Tipo D - Estetica Apparati Elettromeccanici': ['Tipo D - Estetica Apparati Elettromeccanici']\n",
    "}\n",
    "\n",
    "# Function to handle composite labels (if applicable)\n",
    "def handle_composite_labels(value):\n",
    "    # If composite labels exist (e.g., \"TIPO A-B-C-D\", \"Parrucchiere misto\"), expand them\n",
    "    if \"TIPO A-B-C-D\" in value:\n",
    "        value = value.replace(\"TIPO A-B-C-D\", \"; \".join([\n",
    "            \"Tipo A - Estetica Manuale\", \n",
    "            \"Tipo B - Centro di Abbronzatura\",\n",
    "            \"Tipo C - Trattamenti Estetici Dimagrimento\", \n",
    "            \"Tipo D - Estetica Apparati Elettromeccanici\"\n",
    "        ]))\n",
    "    if \"Parrucchiere misto\" in value:\n",
    "        value = value.replace(\"Parrucchiere misto\", \"; \".join([\n",
    "            \"Parrucchiere per Uomo\",\n",
    "            \"Parrucchiere per Donna\"\n",
    "        ]))\n",
    "    return value\n",
    "\n",
    "# Jaccard similarity function\n",
    "def jaccard_similarity(str1, str2):\n",
    "    set1 = set(str1.lower().split())\n",
    "    set2 = set(str2.lower().split())\n",
    "    return len(set1 & set2) / len(set1 | set2)\n",
    "\n",
    "# Define the function to map a label to the best matching category using Jaccard similarity\n",
    "def map_label_to_category_jaccard(label, target_category_dict):\n",
    "    best_match = None\n",
    "    best_score = 0\n",
    "    \n",
    "    for target, variations in target_category_dict.items():\n",
    "        for variation in variations:\n",
    "            score = jaccard_similarity(label, variation)  # Calculate Jaccard similarity\n",
    "            if score > best_score:\n",
    "                best_match = target\n",
    "                best_score = score\n",
    "                \n",
    "    return best_match\n",
    "\n",
    "# Apply the mapping for each label in the \"t_es\" column using Jaccard similarity\n",
    "def safe_apply_mapping(x, target_category_dict):\n",
    "    if isinstance(x, str) and x:  # Check if x is a non-empty string\n",
    "        return \"; \".join(\n",
    "            [map_label_to_category_jaccard(label, target_category_dict) for label in x.split(';')]\n",
    "        )\n",
    "    return \"\"  # If the value is None, NaN, or empty string, return an empty string\n",
    "\n",
    "# Apply the safe function to the \"t_es\" column\n",
    "new_SERVICES[\"t_es\"] = new_SERVICES[\"t_es\"].apply(lambda x: safe_apply_mapping(x, target_category_dict))\n",
    "\n",
    "# Show the updated DataFrame\n",
    "new_SERVICES.head()"
   ]
  },
  {
   "cell_type": "code",
   "execution_count": 16,
   "id": "57356b6e",
   "metadata": {
    "execution": {
     "iopub.execute_input": "2025-01-18T15:53:27.471672Z",
     "iopub.status.busy": "2025-01-18T15:53:27.471147Z",
     "iopub.status.idle": "2025-01-18T15:53:27.497740Z",
     "shell.execute_reply": "2025-01-18T15:53:27.496367Z"
    },
    "papermill": {
     "duration": 0.048299,
     "end_time": "2025-01-18T15:53:27.499761",
     "exception": false,
     "start_time": "2025-01-18T15:53:27.451462",
     "status": "completed"
    },
    "tags": []
   },
   "outputs": [
    {
     "name": "stdout",
     "output_type": "stream",
     "text": [
      "COUNTS of new unique labels\n",
      "\n",
      "Acconciatore                                \t 907\n",
      "Centro Benessere                            \t  29\n",
      "Centro Massaggi                             \t 139\n",
      "Esecuzione di Tatuaggi e Piercing           \t  24\n",
      "Parrucchiere per Donna                      \t1213\n",
      "Parrucchiere per Uomo                       \t 601\n",
      "Tipo A - Estetica Manuale                   \t1266\n",
      "Tipo B - Centro di Abbronzatura             \t 605\n",
      "Tipo C - Trattamenti Estetici Dimagrimento  \t 138\n",
      "Tipo D - Estetica Apparati Elettromeccanici \t  74\n",
      "Truccatore                                  \t   1\n"
     ]
    }
   ],
   "source": [
    "# Split the 't_es' column by ';' and flatten the resulting lists\n",
    "flattened_labels = [label.strip() for item in new_SERVICES[\"t_es\"] for label in item.split(\";\")]\n",
    "\n",
    "# Get the unique labels and sort them\n",
    "unique_labels = sorted(set(flattened_labels))\n",
    "\n",
    "# Initialize a dictionary to store counts\n",
    "label_counts = {label: 0 for label in unique_labels}\n",
    "\n",
    "# Loop through each row in the \"t_es\" column and count the occurrences of each label\n",
    "for entry in new_SERVICES['t_es']:  # No need to drop NaN values as we've filled them earlier\n",
    "    for label in unique_labels:\n",
    "        if label in entry:\n",
    "            label_counts[label] += 1\n",
    "\n",
    "# Find the maximum width for labels and numbers\n",
    "max_label_length = max(len(label) for label in label_counts if label.strip() != \"\")\n",
    "max_number_length = max(len(str(count)) for count in label_counts.values())\n",
    "\n",
    "print(\"COUNTS of new unique labels\\n\")\n",
    "# Print the counts with aligned output\n",
    "for label, count in label_counts.items():\n",
    "    if label.strip() != \"\":  # Ensure labels are not empty\n",
    "        print(f\"{label:<{max_label_length}} \\t{count:>{max_number_length}}\")"
   ]
  },
  {
   "cell_type": "markdown",
   "id": "5f4fe440",
   "metadata": {
    "papermill": {
     "duration": 0.018418,
     "end_time": "2025-01-18T15:53:27.537085",
     "exception": false,
     "start_time": "2025-01-18T15:53:27.518667",
     "status": "completed"
    },
    "tags": []
   },
   "source": [
    "### MAIN: Label Reduction\n",
    "\n",
    "In this step, we focus on standardizing the labels in the `main` column. Many of the labels in the column are variations of the same service but are written differently. To ensure consistency across the dataset, we map these different variations to a single, standardized label.\n",
    "\n",
    "For example, variations like `\"CENTRO MASSAGGI\"` and `\"CENTRO MASSAGGI RILASSANTI NON ESTETICI\"` are all mapped to the single label `\"Centro Massaggi\"`. Similarly, terms like `\"ESTETICA A E SOLARIUM\"` are transformed into a combination of labels, such as `\"Tipo A - Estetica Manuale; Tipo B - Centro di Abbronzatura\"`, to better reflect the service offerings.\n",
    "\n",
    "This standardization ensures that similar services are grouped together under a consistent set of labels, reducing redundancy and making the dataset more uniform for further analysis.\n",
    "\n",
    "**Example**:\n",
    "\n",
    "- Before: `\"CENTRO MASSAGGI RILASSANTI NON ESTETICI\"` → After: `\"Centro Massaggi\"`\n",
    "- Before: `\"ESTETICA A E SOLARIUM\"` → After: `\"Tipo A - Estetica Manuale; Tipo B - Centro di Abbronzatura\"`"
   ]
  },
  {
   "cell_type": "code",
   "execution_count": 17,
   "id": "c68dc05f",
   "metadata": {
    "execution": {
     "iopub.execute_input": "2025-01-18T15:53:27.576928Z",
     "iopub.status.busy": "2025-01-18T15:53:27.576409Z",
     "iopub.status.idle": "2025-01-18T15:53:27.584250Z",
     "shell.execute_reply": "2025-01-18T15:53:27.582837Z"
    },
    "papermill": {
     "duration": 0.030261,
     "end_time": "2025-01-18T15:53:27.586423",
     "exception": false,
     "start_time": "2025-01-18T15:53:27.556162",
     "status": "completed"
    },
    "tags": []
   },
   "outputs": [
    {
     "name": "stdout",
     "output_type": "stream",
     "text": [
      "The number of different label combination  for column 'main' is 64.\n"
     ]
    }
   ],
   "source": [
    "print(\"The number of different label combination  for column 'main' is {}.\".format(new_SERVICES.main.unique().shape[0]))"
   ]
  },
  {
   "cell_type": "markdown",
   "id": "87d0de6e",
   "metadata": {
    "papermill": {
     "duration": 0.020066,
     "end_time": "2025-01-18T15:53:27.628892",
     "exception": false,
     "start_time": "2025-01-18T15:53:27.608826",
     "status": "completed"
    },
    "tags": []
   },
   "source": [
    "To do what we explained before, we create a `target_category_dict` dictionary where each key represents a main category (like `\"Centro Massaggi\"`), and the corresponding value is a list of related variations (such as `\"Estetista\"`, `\"Manicure\"`).<br>\n",
    "This was developed after several failed attempts to map labels due to a lack of knowledge about variations, with the dictionary providing a reliable method to map labels to categories. <br>\n",
    "The `map_label_to_category` function compares each label in the `main` column with the variations in the dictionary using **Jaccard** similarity, and returns the category with the highest similarity score. \n",
    "\n",
    "\n",
    "This approach standardizes the `main` column by mapping similar labels to consistent categories."
   ]
  },
  {
   "cell_type": "code",
   "execution_count": 18,
   "id": "cb911623",
   "metadata": {
    "execution": {
     "iopub.execute_input": "2025-01-18T15:53:27.669087Z",
     "iopub.status.busy": "2025-01-18T15:53:27.668506Z",
     "iopub.status.idle": "2025-01-18T15:53:27.695870Z",
     "shell.execute_reply": "2025-01-18T15:53:27.694501Z"
    },
    "papermill": {
     "duration": 0.049872,
     "end_time": "2025-01-18T15:53:27.697888",
     "exception": false,
     "start_time": "2025-01-18T15:53:27.648016",
     "status": "completed"
    },
    "tags": []
   },
   "outputs": [],
   "source": [
    "target_category_dict = {\n",
    "    'Centro Massaggi': ['Non Estetici', 'Centro Massaggi'],\n",
    "    'Esecuzione di Tatuaggi e Piercing': ['Esecuzione di Tatuaggi e Piercing', 'Tatuaggio', 'Piercing'],\n",
    "    'Acconciatore': ['Acconciatore', 'Parrucchiere', 'Aconciatore'],\n",
    "    'Parrucchiere per Donna': ['Donna', 'Uomo', 'Barbiere'],\n",
    "    'Tipo A - Estetica Manuale': ['Tipo a - estetica manuale', 'Estetista', 'Estetica', 'Manicure', 'Pedicure', 'Unghie'],\n",
    "    'Centro Benessere': ['Centro Benessere', 'Olistico', 'Benessero Fisico', 'Non Estetici'],\n",
    "    'Truccatore': ['Trucco', 'Truccatore'],\n",
    "    'Tipo B - Centro di Abbronzatura': ['Tipo B - Centro di Abbronzatura', 'Solarium']\n",
    "}\n",
    "\n",
    "# Function to map a label to the best matching category from the dictionary\n",
    "def map_label_to_category(label, target_category_dict):\n",
    "    if isinstance(label, str):  # Ensure label is a string\n",
    "        best_match = None\n",
    "        best_score = 0\n",
    "\n",
    "        for target, variations in target_category_dict.items():\n",
    "            for variation in variations:\n",
    "                score = jaccard_similarity(label, variation)  # Calculate Jaccard similarity\n",
    "                if score > best_score:\n",
    "                    best_match = target\n",
    "                    best_score = score\n",
    "\n",
    "        return best_match\n",
    "    else:\n",
    "        return None  # Return None for non-string labels (NaN or float)\n",
    "\n",
    "# Apply the mapping to the 'main' column in new_SERVICES\n",
    "new_SERVICES['main'] = new_SERVICES['main'].apply(lambda x: map_label_to_category(x, target_category_dict))"
   ]
  },
  {
   "cell_type": "code",
   "execution_count": 19,
   "id": "555853a3",
   "metadata": {
    "execution": {
     "iopub.execute_input": "2025-01-18T15:53:27.737670Z",
     "iopub.status.busy": "2025-01-18T15:53:27.737202Z",
     "iopub.status.idle": "2025-01-18T15:53:27.748878Z",
     "shell.execute_reply": "2025-01-18T15:53:27.747689Z"
    },
    "papermill": {
     "duration": 0.03406,
     "end_time": "2025-01-18T15:53:27.750898",
     "exception": false,
     "start_time": "2025-01-18T15:53:27.716838",
     "status": "completed"
    },
    "tags": []
   },
   "outputs": [
    {
     "name": "stdout",
     "output_type": "stream",
     "text": [
      "COUNTS of new unique labels\n",
      "\n",
      "Centro Massaggi                   \t95\n",
      "Centro Benessere                  \t15\n",
      "Truccatore                        \t 1\n",
      "Tipo A - Estetica Manuale         \t61\n",
      "Esecuzione di Tatuaggi e Piercing \t20\n",
      "Acconciatore                      \t98\n",
      "Tipo B - Centro di Abbronzatura   \t 4\n"
     ]
    }
   ],
   "source": [
    "# Initialize a dictionary to store counts\n",
    "unique_main_labels = new_SERVICES[\"main\"].dropna().unique()\n",
    "\n",
    "label_counts = {label: 0 for label in unique_main_labels}\n",
    "\n",
    "# Loop through each row in the \"main\" column and count the occurrences of each label\n",
    "for entry in new_SERVICES['main'].dropna():  # Drop NaN values to avoid errors\n",
    "    if isinstance(entry, str):  # Ensure the entry is a string\n",
    "        for label in label_counts:\n",
    "            if label in entry:\n",
    "                label_counts[label] += 1\n",
    "\n",
    "# Find the maximum width for labels and numbers\n",
    "max_label_length = max(len(label) for label in label_counts if label != \"\")\n",
    "max_number_length = max(len(str(count)) for count in label_counts.values())\n",
    "\n",
    "print(\"COUNTS of new unique labels\\n\")\n",
    "# Print the counts with aligned output\n",
    "for label, count in label_counts.items():\n",
    "    if label != \"\":\n",
    "        print(f\"{label:<{max_label_length}} \\t{count:>{max_number_length}}\")"
   ]
  },
  {
   "cell_type": "markdown",
   "id": "cf92ecf4",
   "metadata": {
    "papermill": {
     "duration": 0.080145,
     "end_time": "2025-01-18T15:53:27.849327",
     "exception": false,
     "start_time": "2025-01-18T15:53:27.769182",
     "status": "completed"
    },
    "tags": []
   },
   "source": [
    "Once standardized the column, we decide to move the values from the `main` column to the `t_es` column. \n",
    "\n",
    "The `main` column contains many null values, and the few non-null values it holds are not significantly different from the information already present in the `t_es` column. Therefore, we use the `main` column values to populate the `t_es` column where `t_es` is null, ensuring that we maintain all relevant information in a single column.\n",
    "\n",
    "After this step, the `main` column will be dropped, as its contribution is minimal and redundant."
   ]
  },
  {
   "cell_type": "code",
   "execution_count": 20,
   "id": "dc31d51d",
   "metadata": {
    "execution": {
     "iopub.execute_input": "2025-01-18T15:53:27.888737Z",
     "iopub.status.busy": "2025-01-18T15:53:27.888289Z",
     "iopub.status.idle": "2025-01-18T15:53:27.896226Z",
     "shell.execute_reply": "2025-01-18T15:53:27.895263Z"
    },
    "papermill": {
     "duration": 0.030036,
     "end_time": "2025-01-18T15:53:27.898020",
     "exception": false,
     "start_time": "2025-01-18T15:53:27.867984",
     "status": "completed"
    },
    "tags": []
   },
   "outputs": [
    {
     "name": "stdout",
     "output_type": "stream",
     "text": [
      "The initial number of Nan in 't_es' column is 31.\n"
     ]
    }
   ],
   "source": [
    "new_SERVICES['t_es'] = new_SERVICES['t_es'].replace(\"\", float(\"nan\"))\n",
    "print(\"The initial number of Nan in 't_es' column is {}.\".format(sum(new_SERVICES[\"t_es\"].isnull())))"
   ]
  },
  {
   "cell_type": "code",
   "execution_count": 21,
   "id": "151e86ca",
   "metadata": {
    "execution": {
     "iopub.execute_input": "2025-01-18T15:53:27.936682Z",
     "iopub.status.busy": "2025-01-18T15:53:27.936267Z",
     "iopub.status.idle": "2025-01-18T15:53:27.995046Z",
     "shell.execute_reply": "2025-01-18T15:53:27.993865Z"
    },
    "papermill": {
     "duration": 0.080458,
     "end_time": "2025-01-18T15:53:27.997116",
     "exception": false,
     "start_time": "2025-01-18T15:53:27.916658",
     "status": "completed"
    },
    "tags": []
   },
   "outputs": [],
   "source": [
    "# Ensure both columns are strings and handle NaN values\n",
    "new_SERVICES['t_es'] = new_SERVICES['t_es'].fillna(\"\").astype(str)\n",
    "\n",
    "def update_t_es(row):\n",
    "    main_values = row['main'].split(\";\") if row['main'] else []\n",
    "    t_es_values = row['t_es'].split(\";\") if row['t_es'] else []\n",
    "    \n",
    "    # Remove extra whitespace around the labels\n",
    "    main_values = [value.strip() for value in main_values]\n",
    "    t_es_values = [value.strip() for value in t_es_values]\n",
    "    \n",
    "    # If t_es is empty, copy main values\n",
    "    if not t_es_values:\n",
    "        return \";\".join(main_values)\n",
    "    \n",
    "    # Add main labels that are not already in t_es\n",
    "    for main_value in main_values:\n",
    "        # Add the condition: If main is \"Acconciatore\" and t_es contains \"Parrucchiere per Uomo\" or \"Parrucchiere per Donna\", don't add\n",
    "        if main_value == \"Acconciatore\" and any(x in t_es_values for x in [\"Parrucchiere per Uomo\", \"Parrucchiere per Donna\"]):\n",
    "            continue\n",
    "        if main_value not in t_es_values:\n",
    "            t_es_values.append(main_value)\n",
    "    \n",
    "    # Return the updated t_es column as a semicolon-separated string\n",
    "    return \";\".join(t_es_values)\n",
    "\n",
    "# Apply the function row-wise\n",
    "new_SERVICES['t_es'] = new_SERVICES.apply(update_t_es, axis=1)"
   ]
  },
  {
   "cell_type": "code",
   "execution_count": 22,
   "id": "cb801ba8",
   "metadata": {
    "execution": {
     "iopub.execute_input": "2025-01-18T15:53:28.037395Z",
     "iopub.status.busy": "2025-01-18T15:53:28.036974Z",
     "iopub.status.idle": "2025-01-18T15:53:28.047051Z",
     "shell.execute_reply": "2025-01-18T15:53:28.045708Z"
    },
    "papermill": {
     "duration": 0.03178,
     "end_time": "2025-01-18T15:53:28.048710",
     "exception": false,
     "start_time": "2025-01-18T15:53:28.016930",
     "status": "completed"
    },
    "tags": []
   },
   "outputs": [
    {
     "name": "stdout",
     "output_type": "stream",
     "text": [
      "The number of Nan in 't_es' column afterwards is 16.\n"
     ]
    }
   ],
   "source": [
    "new_SERVICES['t_es'] = new_SERVICES['t_es'].replace(\"\", float(\"nan\"))\n",
    "print(\"The number of Nan in 't_es' column afterwards is {}.\".format(sum(new_SERVICES[\"t_es\"].isnull())))\n",
    "new_SERVICES['t_es'] = new_SERVICES['t_es'].fillna(\"\").astype(str)"
   ]
  },
  {
   "cell_type": "markdown",
   "id": "62f29112",
   "metadata": {
    "papermill": {
     "duration": 0.018901,
     "end_time": "2025-01-18T15:53:28.086746",
     "exception": false,
     "start_time": "2025-01-18T15:53:28.067845",
     "status": "completed"
    },
    "tags": []
   },
   "source": [
    "Since `main` info is incorporated in `t_es` column, we drop it."
   ]
  },
  {
   "cell_type": "code",
   "execution_count": 23,
   "id": "9c7832a2",
   "metadata": {
    "execution": {
     "iopub.execute_input": "2025-01-18T15:53:28.126001Z",
     "iopub.status.busy": "2025-01-18T15:53:28.125563Z",
     "iopub.status.idle": "2025-01-18T15:53:28.143251Z",
     "shell.execute_reply": "2025-01-18T15:53:28.141845Z"
    },
    "papermill": {
     "duration": 0.040281,
     "end_time": "2025-01-18T15:53:28.145872",
     "exception": false,
     "start_time": "2025-01-18T15:53:28.105591",
     "status": "completed"
    },
    "tags": []
   },
   "outputs": [
    {
     "data": {
      "text/html": [
       "<div>\n",
       "<style scoped>\n",
       "    .dataframe tbody tr th:only-of-type {\n",
       "        vertical-align: middle;\n",
       "    }\n",
       "\n",
       "    .dataframe tbody tr th {\n",
       "        vertical-align: top;\n",
       "    }\n",
       "\n",
       "    .dataframe thead th {\n",
       "        text-align: right;\n",
       "    }\n",
       "</style>\n",
       "<table border=\"1\" class=\"dataframe\">\n",
       "  <thead>\n",
       "    <tr style=\"text-align: right;\">\n",
       "      <th></th>\n",
       "      <th>t_es</th>\n",
       "      <th>ubic</th>\n",
       "      <th>t_via</th>\n",
       "      <th>via</th>\n",
       "      <th>civ</th>\n",
       "      <th>cod_via</th>\n",
       "      <th>zd</th>\n",
       "      <th>sup_alt</th>\n",
       "      <th>sup_lav</th>\n",
       "    </tr>\n",
       "  </thead>\n",
       "  <tbody>\n",
       "    <tr>\n",
       "      <th>0</th>\n",
       "      <td></td>\n",
       "      <td>LGO DEI GELSOMINI N. 10 (z.d. 6)</td>\n",
       "      <td>LGO</td>\n",
       "      <td>DEI GELSOMINI</td>\n",
       "      <td>10</td>\n",
       "      <td>5394.0</td>\n",
       "      <td>6</td>\n",
       "      <td>NaN</td>\n",
       "      <td>55.0</td>\n",
       "    </tr>\n",
       "    <tr>\n",
       "      <th>1</th>\n",
       "      <td>Centro Massaggi</td>\n",
       "      <td>PZA FIDIA N. 3 (z.d. 9)</td>\n",
       "      <td>PZA</td>\n",
       "      <td>FIDIA</td>\n",
       "      <td>3</td>\n",
       "      <td>1144.0</td>\n",
       "      <td>9</td>\n",
       "      <td>2.0</td>\n",
       "      <td>28.0</td>\n",
       "    </tr>\n",
       "    <tr>\n",
       "      <th>2</th>\n",
       "      <td>Centro Benessere</td>\n",
       "      <td>VIA ADIGE N. 10 (z.d. 5)</td>\n",
       "      <td>VIA</td>\n",
       "      <td>ADIGE</td>\n",
       "      <td>10</td>\n",
       "      <td>4216.0</td>\n",
       "      <td>5</td>\n",
       "      <td>2.0</td>\n",
       "      <td>27.0</td>\n",
       "    </tr>\n",
       "    <tr>\n",
       "      <th>3</th>\n",
       "      <td>Truccatore</td>\n",
       "      <td>VIA BARACCHINI FLAVIO N. 9 (z.d. 1)</td>\n",
       "      <td>VIA</td>\n",
       "      <td>BARACCHINI FLAVIO</td>\n",
       "      <td>9</td>\n",
       "      <td>356.0</td>\n",
       "      <td>1</td>\n",
       "      <td>NaN</td>\n",
       "      <td>NaN</td>\n",
       "    </tr>\n",
       "    <tr>\n",
       "      <th>4</th>\n",
       "      <td></td>\n",
       "      <td>VIA BERGAMO N. 12 (z.d. 4)</td>\n",
       "      <td>VIA</td>\n",
       "      <td>BERGAMO</td>\n",
       "      <td>12</td>\n",
       "      <td>3189.0</td>\n",
       "      <td>4</td>\n",
       "      <td>NaN</td>\n",
       "      <td>50.0</td>\n",
       "    </tr>\n",
       "  </tbody>\n",
       "</table>\n",
       "</div>"
      ],
      "text/plain": [
       "               t_es                                 ubic t_via  \\\n",
       "0                       LGO DEI GELSOMINI N. 10 (z.d. 6)   LGO   \n",
       "1   Centro Massaggi              PZA FIDIA N. 3 (z.d. 9)   PZA   \n",
       "2  Centro Benessere             VIA ADIGE N. 10 (z.d. 5)   VIA   \n",
       "3        Truccatore  VIA BARACCHINI FLAVIO N. 9 (z.d. 1)   VIA   \n",
       "4                             VIA BERGAMO N. 12 (z.d. 4)   VIA   \n",
       "\n",
       "                 via civ cod_via zd  sup_alt  sup_lav  \n",
       "0      DEI GELSOMINI  10  5394.0  6      NaN     55.0  \n",
       "1              FIDIA   3  1144.0  9      2.0     28.0  \n",
       "2              ADIGE  10  4216.0  5      2.0     27.0  \n",
       "3  BARACCHINI FLAVIO   9   356.0  1      NaN      NaN  \n",
       "4            BERGAMO  12  3189.0  4      NaN     50.0  "
      ]
     },
     "execution_count": 23,
     "metadata": {},
     "output_type": "execute_result"
    }
   ],
   "source": [
    "new_SERVICES = new_SERVICES.drop('main', axis=1)\n",
    "\n",
    "new_SERVICES.head()"
   ]
  },
  {
   "cell_type": "markdown",
   "id": "09d5dd26",
   "metadata": {
    "papermill": {
     "duration": 0.018876,
     "end_time": "2025-01-18T15:53:28.185838",
     "exception": false,
     "start_time": "2025-01-18T15:53:28.166962",
     "status": "completed"
    },
    "tags": []
   },
   "source": [
    "### T_VIA: Checking format\n",
    "In this phase, we verify that the `t_via` column contains only valid and properly formatted values.\n",
    "\n",
    "The column contains designations for the type of street or location, which are standardized according to the tipovia dataframe. This dataframe defines valid labels and their corresponding extended and abbreviated descriptions."
   ]
  },
  {
   "cell_type": "code",
   "execution_count": 24,
   "id": "f3ca4ef0",
   "metadata": {
    "execution": {
     "iopub.execute_input": "2025-01-18T15:53:28.227272Z",
     "iopub.status.busy": "2025-01-18T15:53:28.226844Z",
     "iopub.status.idle": "2025-01-18T15:53:28.235710Z",
     "shell.execute_reply": "2025-01-18T15:53:28.234389Z"
    },
    "papermill": {
     "duration": 0.031691,
     "end_time": "2025-01-18T15:53:28.237780",
     "exception": false,
     "start_time": "2025-01-18T15:53:28.206089",
     "status": "completed"
    },
    "tags": []
   },
   "outputs": [
    {
     "name": "stdout",
     "output_type": "stream",
     "text": [
      "Invalid t_via values not in tipovia:\n",
      "\n",
      "['VIE']\n"
     ]
    }
   ],
   "source": [
    "# Ensure comparison is case-insensitive by converting both columns to lowercase\n",
    "t_via_unique = new_SERVICES['t_via'].unique()\n",
    "desc_abbreviata = tipovia['DESC_ABBREVIATA'].str.lower().unique()\n",
    "\n",
    "# Find t_via values not in tipovia.DESC_ABBREVIATA\n",
    "invalid_t_via = [via for via in t_via_unique if via.lower() not in desc_abbreviata]\n",
    "\n",
    "# Print the results\n",
    "print(\"Invalid t_via values not in tipovia:\\n\")\n",
    "print(invalid_t_via)\n"
   ]
  },
  {
   "cell_type": "markdown",
   "id": "fc2b4a9c",
   "metadata": {
    "papermill": {
     "duration": 0.019787,
     "end_time": "2025-01-18T15:53:28.278118",
     "exception": false,
     "start_time": "2025-01-18T15:53:28.258331",
     "status": "completed"
    },
    "tags": []
   },
   "source": [
    "Since any potential unformatted or invalid values in the `t_via` column were already addressed during the previous merging and correction phases (e.g., handling rows with `\"Acconciatore\"`), only one inadmissible value remains: `\"VIE\"`. This value is not part of the valid labels defined in the `DESC_ABBREVIATA` column of the **tipovia** dataframe.\n",
    "\n",
    "To resolve this, the `\"VIE\"` value must be corrected or mapped to a valid designation from the **tipovia** dataframe."
   ]
  },
  {
   "cell_type": "code",
   "execution_count": 25,
   "id": "f70beba6",
   "metadata": {
    "execution": {
     "iopub.execute_input": "2025-01-18T15:53:28.318223Z",
     "iopub.status.busy": "2025-01-18T15:53:28.317837Z",
     "iopub.status.idle": "2025-01-18T15:53:28.333803Z",
     "shell.execute_reply": "2025-01-18T15:53:28.332146Z"
    },
    "papermill": {
     "duration": 0.038818,
     "end_time": "2025-01-18T15:53:28.335879",
     "exception": false,
     "start_time": "2025-01-18T15:53:28.297061",
     "status": "completed"
    },
    "tags": []
   },
   "outputs": [
    {
     "data": {
      "text/html": [
       "<div>\n",
       "<style scoped>\n",
       "    .dataframe tbody tr th:only-of-type {\n",
       "        vertical-align: middle;\n",
       "    }\n",
       "\n",
       "    .dataframe tbody tr th {\n",
       "        vertical-align: top;\n",
       "    }\n",
       "\n",
       "    .dataframe thead th {\n",
       "        text-align: right;\n",
       "    }\n",
       "</style>\n",
       "<table border=\"1\" class=\"dataframe\">\n",
       "  <thead>\n",
       "    <tr style=\"text-align: right;\">\n",
       "      <th></th>\n",
       "      <th>t_es</th>\n",
       "      <th>ubic</th>\n",
       "      <th>t_via</th>\n",
       "      <th>via</th>\n",
       "      <th>civ</th>\n",
       "      <th>cod_via</th>\n",
       "      <th>zd</th>\n",
       "      <th>sup_alt</th>\n",
       "      <th>sup_lav</th>\n",
       "    </tr>\n",
       "  </thead>\n",
       "  <tbody>\n",
       "    <tr>\n",
       "      <th>721</th>\n",
       "      <td>Acconciatore</td>\n",
       "      <td>VIE DELLA ROBBIA LUCA N. 8 ; (z.d. 8)</td>\n",
       "      <td>VIE</td>\n",
       "      <td>DELLA ROBBIA LUCA</td>\n",
       "      <td>8</td>\n",
       "      <td>6349.0</td>\n",
       "      <td>8</td>\n",
       "      <td>NaN</td>\n",
       "      <td>33.0</td>\n",
       "    </tr>\n",
       "    <tr>\n",
       "      <th>2891</th>\n",
       "      <td>Parrucchiere per Uomo;Tipo A - Estetica Manuale;Tipo B - Centro di Abbronzatura</td>\n",
       "      <td>VIE DELLA ROBBIA LUCA N. 8 ; (z.d. 8)</td>\n",
       "      <td>VIE</td>\n",
       "      <td>DELLA ROBBIA LUCA</td>\n",
       "      <td>8</td>\n",
       "      <td>6349.0</td>\n",
       "      <td>8</td>\n",
       "      <td>NaN</td>\n",
       "      <td>NaN</td>\n",
       "    </tr>\n",
       "  </tbody>\n",
       "</table>\n",
       "</div>"
      ],
      "text/plain": [
       "                                                                                 t_es  \\\n",
       "721                                                                      Acconciatore   \n",
       "2891  Parrucchiere per Uomo;Tipo A - Estetica Manuale;Tipo B - Centro di Abbronzatura   \n",
       "\n",
       "                                       ubic t_via                via civ  \\\n",
       "721   VIE DELLA ROBBIA LUCA N. 8 ; (z.d. 8)   VIE  DELLA ROBBIA LUCA   8   \n",
       "2891  VIE DELLA ROBBIA LUCA N. 8 ; (z.d. 8)   VIE  DELLA ROBBIA LUCA   8   \n",
       "\n",
       "     cod_via zd  sup_alt  sup_lav  \n",
       "721   6349.0  8      NaN     33.0  \n",
       "2891  6349.0  8      NaN      NaN  "
      ]
     },
     "execution_count": 25,
     "metadata": {},
     "output_type": "execute_result"
    }
   ],
   "source": [
    "new_SERVICES[new_SERVICES[\"t_via\"] == \"VIE\"]"
   ]
  },
  {
   "cell_type": "code",
   "execution_count": 26,
   "id": "070c6dbf",
   "metadata": {
    "execution": {
     "iopub.execute_input": "2025-01-18T15:53:28.376479Z",
     "iopub.status.busy": "2025-01-18T15:53:28.376050Z",
     "iopub.status.idle": "2025-01-18T15:53:28.382068Z",
     "shell.execute_reply": "2025-01-18T15:53:28.380963Z"
    },
    "papermill": {
     "duration": 0.028025,
     "end_time": "2025-01-18T15:53:28.384079",
     "exception": false,
     "start_time": "2025-01-18T15:53:28.356054",
     "status": "completed"
    },
    "tags": []
   },
   "outputs": [],
   "source": [
    "new_SERVICES.loc[new_SERVICES[\"t_via\"] == \"VIE\", \"t_via\"] = \"VIA\""
   ]
  },
  {
   "cell_type": "markdown",
   "id": "ae822f4d",
   "metadata": {
    "papermill": {
     "duration": 0.019751,
     "end_time": "2025-01-18T15:53:28.422995",
     "exception": false,
     "start_time": "2025-01-18T15:53:28.403244",
     "status": "completed"
    },
    "tags": []
   },
   "source": [
    "Once this adjustment is made, we ensure that all `t_via` values match the `DESC_ABBREVIATA` column of **tipovia** and can be directly mapped to their corresponding `DESC_ESTESA` values."
   ]
  },
  {
   "cell_type": "code",
   "execution_count": 27,
   "id": "8e84572b",
   "metadata": {
    "execution": {
     "iopub.execute_input": "2025-01-18T15:53:28.465405Z",
     "iopub.status.busy": "2025-01-18T15:53:28.465024Z",
     "iopub.status.idle": "2025-01-18T15:53:28.483258Z",
     "shell.execute_reply": "2025-01-18T15:53:28.481926Z"
    },
    "papermill": {
     "duration": 0.041008,
     "end_time": "2025-01-18T15:53:28.485250",
     "exception": false,
     "start_time": "2025-01-18T15:53:28.444242",
     "status": "completed"
    },
    "tags": []
   },
   "outputs": [
    {
     "data": {
      "text/html": [
       "<div>\n",
       "<style scoped>\n",
       "    .dataframe tbody tr th:only-of-type {\n",
       "        vertical-align: middle;\n",
       "    }\n",
       "\n",
       "    .dataframe tbody tr th {\n",
       "        vertical-align: top;\n",
       "    }\n",
       "\n",
       "    .dataframe thead th {\n",
       "        text-align: right;\n",
       "    }\n",
       "</style>\n",
       "<table border=\"1\" class=\"dataframe\">\n",
       "  <thead>\n",
       "    <tr style=\"text-align: right;\">\n",
       "      <th></th>\n",
       "      <th>t_es</th>\n",
       "      <th>ubic</th>\n",
       "      <th>t_via</th>\n",
       "      <th>via</th>\n",
       "      <th>civ</th>\n",
       "      <th>cod_via</th>\n",
       "      <th>zd</th>\n",
       "      <th>sup_alt</th>\n",
       "      <th>sup_lav</th>\n",
       "    </tr>\n",
       "  </thead>\n",
       "  <tbody>\n",
       "    <tr>\n",
       "      <th>0</th>\n",
       "      <td></td>\n",
       "      <td>LGO DEI GELSOMINI N. 10 (z.d. 6)</td>\n",
       "      <td>Largo</td>\n",
       "      <td>DEI GELSOMINI</td>\n",
       "      <td>10</td>\n",
       "      <td>5394.0</td>\n",
       "      <td>6</td>\n",
       "      <td>NaN</td>\n",
       "      <td>55.0</td>\n",
       "    </tr>\n",
       "    <tr>\n",
       "      <th>1</th>\n",
       "      <td>Centro Massaggi</td>\n",
       "      <td>PZA FIDIA N. 3 (z.d. 9)</td>\n",
       "      <td>Piazza</td>\n",
       "      <td>FIDIA</td>\n",
       "      <td>3</td>\n",
       "      <td>1144.0</td>\n",
       "      <td>9</td>\n",
       "      <td>2.0</td>\n",
       "      <td>28.0</td>\n",
       "    </tr>\n",
       "    <tr>\n",
       "      <th>2</th>\n",
       "      <td>Centro Benessere</td>\n",
       "      <td>VIA ADIGE N. 10 (z.d. 5)</td>\n",
       "      <td>Via</td>\n",
       "      <td>ADIGE</td>\n",
       "      <td>10</td>\n",
       "      <td>4216.0</td>\n",
       "      <td>5</td>\n",
       "      <td>2.0</td>\n",
       "      <td>27.0</td>\n",
       "    </tr>\n",
       "    <tr>\n",
       "      <th>3</th>\n",
       "      <td>Truccatore</td>\n",
       "      <td>VIA BARACCHINI FLAVIO N. 9 (z.d. 1)</td>\n",
       "      <td>Via</td>\n",
       "      <td>BARACCHINI FLAVIO</td>\n",
       "      <td>9</td>\n",
       "      <td>356.0</td>\n",
       "      <td>1</td>\n",
       "      <td>NaN</td>\n",
       "      <td>NaN</td>\n",
       "    </tr>\n",
       "    <tr>\n",
       "      <th>4</th>\n",
       "      <td></td>\n",
       "      <td>VIA BERGAMO N. 12 (z.d. 4)</td>\n",
       "      <td>Via</td>\n",
       "      <td>BERGAMO</td>\n",
       "      <td>12</td>\n",
       "      <td>3189.0</td>\n",
       "      <td>4</td>\n",
       "      <td>NaN</td>\n",
       "      <td>50.0</td>\n",
       "    </tr>\n",
       "  </tbody>\n",
       "</table>\n",
       "</div>"
      ],
      "text/plain": [
       "               t_es                                 ubic   t_via  \\\n",
       "0                       LGO DEI GELSOMINI N. 10 (z.d. 6)   Largo   \n",
       "1   Centro Massaggi              PZA FIDIA N. 3 (z.d. 9)  Piazza   \n",
       "2  Centro Benessere             VIA ADIGE N. 10 (z.d. 5)     Via   \n",
       "3        Truccatore  VIA BARACCHINI FLAVIO N. 9 (z.d. 1)     Via   \n",
       "4                             VIA BERGAMO N. 12 (z.d. 4)     Via   \n",
       "\n",
       "                 via civ cod_via zd  sup_alt  sup_lav  \n",
       "0      DEI GELSOMINI  10  5394.0  6      NaN     55.0  \n",
       "1              FIDIA   3  1144.0  9      2.0     28.0  \n",
       "2              ADIGE  10  4216.0  5      2.0     27.0  \n",
       "3  BARACCHINI FLAVIO   9   356.0  1      NaN      NaN  \n",
       "4            BERGAMO  12  3189.0  4      NaN     50.0  "
      ]
     },
     "execution_count": 27,
     "metadata": {},
     "output_type": "execute_result"
    }
   ],
   "source": [
    "# Create a mapping dictionary from tipovia\n",
    "t_via_mapping = dict(zip(tipovia[\"DESC_ABBREVIATA\"].str.lower(), tipovia[\"DESC_ESTESA\"]))\n",
    "\n",
    "# Replace the t_via values in new_SERVICES with the corresponding DESC_ESTESA values\n",
    "new_SERVICES[\"t_via\"] = new_SERVICES[\"t_via\"].str.lower().map(t_via_mapping)\n",
    "\n",
    "# Check the result\n",
    "new_SERVICES.head()"
   ]
  },
  {
   "cell_type": "markdown",
   "id": "a373f278",
   "metadata": {
    "papermill": {
     "duration": 0.019122,
     "end_time": "2025-01-18T15:53:28.524337",
     "exception": false,
     "start_time": "2025-01-18T15:53:28.505215",
     "status": "completed"
    },
    "tags": []
   },
   "source": [
    "### COD_VIA: Checking Format\n",
    "This check ensures that the values in the `cod_via` column, which are stored as floats, are whole numbers (i.e., integers), since the identifiers related to street or location codes should always be integers."
   ]
  },
  {
   "cell_type": "code",
   "execution_count": 28,
   "id": "1d3512a3",
   "metadata": {
    "execution": {
     "iopub.execute_input": "2025-01-18T15:53:28.566105Z",
     "iopub.status.busy": "2025-01-18T15:53:28.565706Z",
     "iopub.status.idle": "2025-01-18T15:53:28.577637Z",
     "shell.execute_reply": "2025-01-18T15:53:28.576375Z"
    },
    "papermill": {
     "duration": 0.035522,
     "end_time": "2025-01-18T15:53:28.579674",
     "exception": false,
     "start_time": "2025-01-18T15:53:28.544152",
     "status": "completed"
    },
    "tags": []
   },
   "outputs": [
    {
     "name": "stdout",
     "output_type": "stream",
     "text": [
      "All values in 'cod_via' are integers (float equivalents of integers).\n"
     ]
    }
   ],
   "source": [
    "# Check if any value in 'cod_via' is not an integer (checking for float values that are whole numbers)\n",
    "non_integer_values = new_SERVICES['cod_via'].apply(lambda x: not x.is_integer() if isinstance(x, float) else False)\n",
    "\n",
    "if non_integer_values.any():\n",
    "    print(\"There are values in 'cod_via' that are not integers.\")\n",
    "else:\n",
    "    print(\"All values in 'cod_via' are integers (float equivalents of integers).\")\n",
    "\n",
    "new_SERVICES.cod_via = new_SERVICES.cod_via.astype(float).astype(int).astype(str)"
   ]
  },
  {
   "cell_type": "markdown",
   "id": "2fb9935a",
   "metadata": {
    "papermill": {
     "duration": 0.019469,
     "end_time": "2025-01-18T15:53:28.618633",
     "exception": false,
     "start_time": "2025-01-18T15:53:28.599164",
     "status": "completed"
    },
    "tags": []
   },
   "source": [
    "### CIV: Checking Format\n",
    "This code checks the `civ` column to ensure that all values follow the expected format: **1-3 digit, optionally followed by an uppercase letter (e.g., 12A), a slash \"/\" with a single digit (e.g., 93/1), or a slash \"/\" and another series of digits and letters (e.g., 15/101)."
   ]
  },
  {
   "cell_type": "code",
   "execution_count": 29,
   "id": "f6baf12b",
   "metadata": {
    "execution": {
     "iopub.execute_input": "2025-01-18T15:53:28.660998Z",
     "iopub.status.busy": "2025-01-18T15:53:28.660605Z",
     "iopub.status.idle": "2025-01-18T15:53:28.678377Z",
     "shell.execute_reply": "2025-01-18T15:53:28.677086Z"
    },
    "papermill": {
     "duration": 0.041112,
     "end_time": "2025-01-18T15:53:28.680622",
     "exception": false,
     "start_time": "2025-01-18T15:53:28.639510",
     "status": "completed"
    },
    "tags": []
   },
   "outputs": [
    {
     "name": "stdout",
     "output_type": "stream",
     "text": [
      "There are invalid values in 'civ' column.\n",
      "\n",
      "The row with index 143 contains an invalid value: 40945.\n"
     ]
    }
   ],
   "source": [
    "# Define a function to check the format\n",
    "def check_civ_format(value):\n",
    "    # Regex pattern to match 1-3 digits, optionally followed by a `/` and a single digit or an uppercase letter\n",
    "    pattern = r'^\\d{1,3}(?:/\\d{1,3}[A-Z]?)?(?:[A-Z]+)?(?:[A-Z]+P\\d{2})?(?:[A-Z]+N\\d{2})?(?:[A-Z]+C\\d{2})?(?:[A-Z]+G\\d{2})?$'\n",
    "    return bool(re.match(pattern, str(value)))\n",
    "\n",
    "# Apply the check to the 'civ' column and filter invalid values\n",
    "invalid_civ_values = new_SERVICES['civ'][new_SERVICES['civ'].apply(lambda x: not check_civ_format(x) if pd.notnull(x) else False)]\n",
    "\n",
    "if not invalid_civ_values.empty:\n",
    "    print(\"There are invalid values in 'civ' column.\\n\")\n",
    "    \n",
    "if not invalid_civ_values.empty:\n",
    "    for idx, value in invalid_civ_values.items():\n",
    "        print(f\"The row with index {idx} contains an invalid value: {value}.\")\n",
    "else:\n",
    "    print(\"All values in 'civ' follow the correct format.\")"
   ]
  },
  {
   "cell_type": "markdown",
   "id": "06fba832",
   "metadata": {
    "papermill": {
     "duration": 0.019337,
     "end_time": "2025-01-18T15:53:28.720001",
     "exception": false,
     "start_time": "2025-01-18T15:53:28.700664",
     "status": "completed"
    },
    "tags": []
   },
   "source": [
    "We handle invalid values in the `civ` column by replacing them with `NaN`, ensuring that only correctly formatted entries remain for further processing."
   ]
  },
  {
   "cell_type": "code",
   "execution_count": 30,
   "id": "bb2252d6",
   "metadata": {
    "execution": {
     "iopub.execute_input": "2025-01-18T15:53:28.761249Z",
     "iopub.status.busy": "2025-01-18T15:53:28.760626Z",
     "iopub.status.idle": "2025-01-18T15:53:28.775150Z",
     "shell.execute_reply": "2025-01-18T15:53:28.773764Z"
    },
    "papermill": {
     "duration": 0.037784,
     "end_time": "2025-01-18T15:53:28.777166",
     "exception": false,
     "start_time": "2025-01-18T15:53:28.739382",
     "status": "completed"
    },
    "tags": []
   },
   "outputs": [
    {
     "data": {
      "text/html": [
       "<div>\n",
       "<style scoped>\n",
       "    .dataframe tbody tr th:only-of-type {\n",
       "        vertical-align: middle;\n",
       "    }\n",
       "\n",
       "    .dataframe tbody tr th {\n",
       "        vertical-align: top;\n",
       "    }\n",
       "\n",
       "    .dataframe thead th {\n",
       "        text-align: right;\n",
       "    }\n",
       "</style>\n",
       "<table border=\"1\" class=\"dataframe\">\n",
       "  <thead>\n",
       "    <tr style=\"text-align: right;\">\n",
       "      <th></th>\n",
       "      <th>t_es</th>\n",
       "      <th>ubic</th>\n",
       "      <th>t_via</th>\n",
       "      <th>via</th>\n",
       "      <th>civ</th>\n",
       "      <th>cod_via</th>\n",
       "      <th>zd</th>\n",
       "      <th>sup_alt</th>\n",
       "      <th>sup_lav</th>\n",
       "    </tr>\n",
       "  </thead>\n",
       "  <tbody>\n",
       "    <tr>\n",
       "      <th>143</th>\n",
       "      <td>Acconciatore</td>\n",
       "      <td>VIA PAVIA N. 6/2 (z.d. 5)</td>\n",
       "      <td>Via</td>\n",
       "      <td>PAVIA</td>\n",
       "      <td>40945</td>\n",
       "      <td>5262</td>\n",
       "      <td>5</td>\n",
       "      <td>NaN</td>\n",
       "      <td>NaN</td>\n",
       "    </tr>\n",
       "  </tbody>\n",
       "</table>\n",
       "</div>"
      ],
      "text/plain": [
       "             t_es                       ubic t_via    via    civ cod_via zd  \\\n",
       "143  Acconciatore  VIA PAVIA N. 6/2 (z.d. 5)   Via  PAVIA  40945    5262  5   \n",
       "\n",
       "     sup_alt  sup_lav  \n",
       "143      NaN      NaN  "
      ]
     },
     "execution_count": 30,
     "metadata": {},
     "output_type": "execute_result"
    }
   ],
   "source": [
    "new_SERVICES[143:].head(1)"
   ]
  },
  {
   "cell_type": "code",
   "execution_count": 31,
   "id": "3708ca7d",
   "metadata": {
    "execution": {
     "iopub.execute_input": "2025-01-18T15:53:28.819248Z",
     "iopub.status.busy": "2025-01-18T15:53:28.818901Z",
     "iopub.status.idle": "2025-01-18T15:53:28.838140Z",
     "shell.execute_reply": "2025-01-18T15:53:28.836795Z"
    },
    "papermill": {
     "duration": 0.043559,
     "end_time": "2025-01-18T15:53:28.840422",
     "exception": false,
     "start_time": "2025-01-18T15:53:28.796863",
     "status": "completed"
    },
    "tags": []
   },
   "outputs": [
    {
     "data": {
      "text/html": [
       "<div>\n",
       "<style scoped>\n",
       "    .dataframe tbody tr th:only-of-type {\n",
       "        vertical-align: middle;\n",
       "    }\n",
       "\n",
       "    .dataframe tbody tr th {\n",
       "        vertical-align: top;\n",
       "    }\n",
       "\n",
       "    .dataframe thead th {\n",
       "        text-align: right;\n",
       "    }\n",
       "</style>\n",
       "<table border=\"1\" class=\"dataframe\">\n",
       "  <thead>\n",
       "    <tr style=\"text-align: right;\">\n",
       "      <th></th>\n",
       "      <th>t_es</th>\n",
       "      <th>ubic</th>\n",
       "      <th>t_via</th>\n",
       "      <th>via</th>\n",
       "      <th>civ</th>\n",
       "      <th>cod_via</th>\n",
       "      <th>zd</th>\n",
       "      <th>sup_alt</th>\n",
       "      <th>sup_lav</th>\n",
       "    </tr>\n",
       "  </thead>\n",
       "  <tbody>\n",
       "    <tr>\n",
       "      <th>143</th>\n",
       "      <td>Acconciatore</td>\n",
       "      <td>VIA PAVIA N. 6/2 (z.d. 5)</td>\n",
       "      <td>Via</td>\n",
       "      <td>PAVIA</td>\n",
       "      <td>NaN</td>\n",
       "      <td>5262</td>\n",
       "      <td>5</td>\n",
       "      <td>NaN</td>\n",
       "      <td>NaN</td>\n",
       "    </tr>\n",
       "  </tbody>\n",
       "</table>\n",
       "</div>"
      ],
      "text/plain": [
       "             t_es                       ubic t_via    via  civ cod_via zd  \\\n",
       "143  Acconciatore  VIA PAVIA N. 6/2 (z.d. 5)   Via  PAVIA  NaN    5262  5   \n",
       "\n",
       "     sup_alt  sup_lav  \n",
       "143      NaN      NaN  "
      ]
     },
     "execution_count": 31,
     "metadata": {},
     "output_type": "execute_result"
    }
   ],
   "source": [
    "# Replace invalid 'civ' values with NaN\n",
    "new_SERVICES['civ'] = new_SERVICES['civ'].apply(lambda x: np.nan if not check_civ_format(x) else x)\n",
    "new_SERVICES[143:].head(1)"
   ]
  },
  {
   "cell_type": "code",
   "execution_count": 32,
   "id": "b6d2959f",
   "metadata": {
    "execution": {
     "iopub.execute_input": "2025-01-18T15:53:28.883035Z",
     "iopub.status.busy": "2025-01-18T15:53:28.882601Z",
     "iopub.status.idle": "2025-01-18T15:53:28.889325Z",
     "shell.execute_reply": "2025-01-18T15:53:28.887841Z"
    },
    "papermill": {
     "duration": 0.030765,
     "end_time": "2025-01-18T15:53:28.891458",
     "exception": false,
     "start_time": "2025-01-18T15:53:28.860693",
     "status": "completed"
    },
    "tags": []
   },
   "outputs": [
    {
     "name": "stdout",
     "output_type": "stream",
     "text": [
      "The number of different values for column 'main' is 234.\n"
     ]
    }
   ],
   "source": [
    "print(\"The number of different values for column 'main' is {}.\".format(new_SERVICES.civ.unique().shape[0]))"
   ]
  },
  {
   "cell_type": "markdown",
   "id": "226713eb",
   "metadata": {
    "papermill": {
     "duration": 0.019687,
     "end_time": "2025-01-18T15:53:28.931080",
     "exception": false,
     "start_time": "2025-01-18T15:53:28.911393",
     "status": "completed"
    },
    "tags": []
   },
   "source": [
    "### VIA: Removal of Redundant Information and Validation\n",
    "\n",
    "When processing records, some entries contain redundant information in the `via` column that matches part of the `t_via` column.\n",
    "To ensure consistency and follow a specific order, we remove the redundant portion.\n",
    "\n",
    "**Example**\n",
    "\n",
    "Given the following data:\n",
    "\n",
    "| t_es          | ubic                      | t_via | via      | civ | cod_via | zd | sup_alt | sup_lav |\n",
    "|---------------|---------------------------|-------|----------|-----|---------|----|---------|---------|\n",
    "| Acconciatore  | CSO COMO N. 15 (z.d. 9)  | CSO   | CSO COMO     | 15  | 1111.0  | 9  | NaN     | 195.0   |\n",
    "\n",
    "\n",
    "The updated record becomes:\n",
    "\n",
    "| t_es          | ubic                      | t_via | via      | civ | cod_via | zd | sup_alt | sup_lav |\n",
    "|---------------|---------------------------|-------|----------|-----|---------|----|---------|---------|\n",
    "| Acconciatore  | CSO COMO N. 15 (z.d. 9)  | CSO   | COMO     | 15  | 1111.0  | 9  | NaN     | 195.0   |\n",
    "\n",
    "\n",
    "In this transformation:\n",
    "- The `via` column value `CSO COMO` had the redundant prefix `CSO` matching the value in the `t_via` column.\n",
    "- The prefix was removed, leaving only the unique portion: `COMO`."
   ]
  },
  {
   "cell_type": "code",
   "execution_count": 33,
   "id": "38ddab28",
   "metadata": {
    "execution": {
     "iopub.execute_input": "2025-01-18T15:53:28.972169Z",
     "iopub.status.busy": "2025-01-18T15:53:28.971730Z",
     "iopub.status.idle": "2025-01-18T15:53:29.034226Z",
     "shell.execute_reply": "2025-01-18T15:53:29.033162Z"
    },
    "papermill": {
     "duration": 0.08561,
     "end_time": "2025-01-18T15:53:29.036269",
     "exception": false,
     "start_time": "2025-01-18T15:53:28.950659",
     "status": "completed"
    },
    "tags": []
   },
   "outputs": [
    {
     "data": {
      "text/html": [
       "<div>\n",
       "<style scoped>\n",
       "    .dataframe tbody tr th:only-of-type {\n",
       "        vertical-align: middle;\n",
       "    }\n",
       "\n",
       "    .dataframe tbody tr th {\n",
       "        vertical-align: top;\n",
       "    }\n",
       "\n",
       "    .dataframe thead th {\n",
       "        text-align: right;\n",
       "    }\n",
       "</style>\n",
       "<table border=\"1\" class=\"dataframe\">\n",
       "  <thead>\n",
       "    <tr style=\"text-align: right;\">\n",
       "      <th></th>\n",
       "      <th>t_es</th>\n",
       "      <th>ubic</th>\n",
       "      <th>t_via</th>\n",
       "      <th>via</th>\n",
       "      <th>civ</th>\n",
       "      <th>cod_via</th>\n",
       "      <th>zd</th>\n",
       "      <th>sup_alt</th>\n",
       "      <th>sup_lav</th>\n",
       "    </tr>\n",
       "  </thead>\n",
       "  <tbody>\n",
       "    <tr>\n",
       "      <th>1140</th>\n",
       "      <td>Parrucchiere per Uomo</td>\n",
       "      <td>CSO COMO N. 11 ; (z.d. 9)</td>\n",
       "      <td>Corso</td>\n",
       "      <td>COMO</td>\n",
       "      <td>11</td>\n",
       "      <td>1111</td>\n",
       "      <td>9</td>\n",
       "      <td>NaN</td>\n",
       "      <td>23.0</td>\n",
       "    </tr>\n",
       "  </tbody>\n",
       "</table>\n",
       "</div>"
      ],
      "text/plain": [
       "                       t_es                       ubic  t_via   via civ  \\\n",
       "1140  Parrucchiere per Uomo  CSO COMO N. 11 ; (z.d. 9)  Corso  COMO  11   \n",
       "\n",
       "     cod_via zd  sup_alt  sup_lav  \n",
       "1140    1111  9      NaN     23.0  "
      ]
     },
     "execution_count": 33,
     "metadata": {},
     "output_type": "execute_result"
    }
   ],
   "source": [
    "new_SERVICES.via = new_SERVICES.via.fillna(\"\").astype(str)\n",
    "new_SERVICES.t_via = new_SERVICES.t_via.fillna(\"\").astype(str) \n",
    "\n",
    "# Function to remove the redundant prefix\n",
    "def clean_via(row):\n",
    "    if row[\"via\"].startswith(row[\"t_via\"] + \" \") and row[\"t_via\"] != \"\":  # Check if via starts with t_via\n",
    "        return row[\"via\"].replace(row[\"t_via\"] + \" \", \"\")  # Remove t_via + space\n",
    "    return row[\"via\"]  # Return original if no match\n",
    "\n",
    "# Apply the function to the 'via' column\n",
    "new_SERVICES[\"via\"] = new_SERVICES.apply(clean_via, axis=1)\n",
    "\n",
    "new_SERVICES[new_SERVICES.via == \"COMO\"].head(1)"
   ]
  },
  {
   "cell_type": "markdown",
   "id": "7f6ce427",
   "metadata": {
    "papermill": {
     "duration": 0.019758,
     "end_time": "2025-01-18T15:53:29.077328",
     "exception": false,
     "start_time": "2025-01-18T15:53:29.057570",
     "status": "completed"
    },
    "tags": []
   },
   "source": [
    "Now we validate the `via` column in the dataset by comparing it against the descriptive fields (`DESCRITTIVO` and `DENOMINAZIONE`) from the **viario** dataframe.<br> We first normalize the text by converting it to lowercase, removing unnecessary spaces and parentheses, and sorting the words alphabetically. Then, we calculate similarity scores between the `via` column and the two descriptive fields, using the highest score to flag rows for review if they fall below a **75%** similarity threshold. "
   ]
  },
  {
   "cell_type": "code",
   "execution_count": 34,
   "id": "c0951665",
   "metadata": {
    "execution": {
     "iopub.execute_input": "2025-01-18T15:53:29.118761Z",
     "iopub.status.busy": "2025-01-18T15:53:29.118379Z",
     "iopub.status.idle": "2025-01-18T15:53:29.241952Z",
     "shell.execute_reply": "2025-01-18T15:53:29.240502Z"
    },
    "papermill": {
     "duration": 0.146523,
     "end_time": "2025-01-18T15:53:29.243924",
     "exception": false,
     "start_time": "2025-01-18T15:53:29.097401",
     "status": "completed"
    },
    "tags": []
   },
   "outputs": [
    {
     "name": "stdout",
     "output_type": "stream",
     "text": [
      "Rows where normalized 'via' and 'DESCRITTIVO'/'DENOMINAZIONE' are not similar enough (below 75% similarity):\n"
     ]
    },
    {
     "data": {
      "text/html": [
       "<div>\n",
       "<style scoped>\n",
       "    .dataframe tbody tr th:only-of-type {\n",
       "        vertical-align: middle;\n",
       "    }\n",
       "\n",
       "    .dataframe tbody tr th {\n",
       "        vertical-align: top;\n",
       "    }\n",
       "\n",
       "    .dataframe thead th {\n",
       "        text-align: right;\n",
       "    }\n",
       "</style>\n",
       "<table border=\"1\" class=\"dataframe\">\n",
       "  <thead>\n",
       "    <tr style=\"text-align: right;\">\n",
       "      <th></th>\n",
       "      <th>cod_via</th>\n",
       "      <th>via</th>\n",
       "      <th>DENOMINAZIONE</th>\n",
       "      <th>DESCRITTIVO</th>\n",
       "      <th>similarity</th>\n",
       "    </tr>\n",
       "  </thead>\n",
       "  <tbody>\n",
       "    <tr>\n",
       "      <th>3087</th>\n",
       "      <td>612</td>\n",
       "      <td>DANTE ALIGHIERI</td>\n",
       "      <td>DANTE</td>\n",
       "      <td>DANTE</td>\n",
       "      <td>50.000000</td>\n",
       "    </tr>\n",
       "    <tr>\n",
       "      <th>2558</th>\n",
       "      <td>1524</td>\n",
       "      <td>GRAZIANO IMPERATORE</td>\n",
       "      <td>GRAZIANO</td>\n",
       "      <td>GRAZIANO</td>\n",
       "      <td>59.259259</td>\n",
       "    </tr>\n",
       "    <tr>\n",
       "      <th>3322</th>\n",
       "      <td>1524</td>\n",
       "      <td>GRAZIANO IMPERATORE</td>\n",
       "      <td>GRAZIANO</td>\n",
       "      <td>GRAZIANO</td>\n",
       "      <td>59.259259</td>\n",
       "    </tr>\n",
       "    <tr>\n",
       "      <th>2308</th>\n",
       "      <td>6380</td>\n",
       "      <td>TIZIANO VECELLIO</td>\n",
       "      <td>TIZIANO</td>\n",
       "      <td>TIZIANO</td>\n",
       "      <td>60.869565</td>\n",
       "    </tr>\n",
       "    <tr>\n",
       "      <th>3453</th>\n",
       "      <td>6380</td>\n",
       "      <td>TIZIANO VECELLIO</td>\n",
       "      <td>TIZIANO</td>\n",
       "      <td>TIZIANO</td>\n",
       "      <td>60.869565</td>\n",
       "    </tr>\n",
       "    <tr>\n",
       "      <th>363</th>\n",
       "      <td>7158</td>\n",
       "      <td>COLONNA MARCO ANTONIO</td>\n",
       "      <td>COLONNA MARCANTONIO</td>\n",
       "      <td>MARCANTONIO COLONNA</td>\n",
       "      <td>65.000000</td>\n",
       "    </tr>\n",
       "    <tr>\n",
       "      <th>2868</th>\n",
       "      <td>7158</td>\n",
       "      <td>COLONNA MARCO ANTONIO</td>\n",
       "      <td>COLONNA MARCANTONIO</td>\n",
       "      <td>MARCANTONIO COLONNA</td>\n",
       "      <td>65.000000</td>\n",
       "    </tr>\n",
       "    <tr>\n",
       "      <th>3612</th>\n",
       "      <td>7158</td>\n",
       "      <td>COLONNA MARCO ANTONIO</td>\n",
       "      <td>COLONNA MARCANTONIO</td>\n",
       "      <td>MARCANTONIO COLONNA</td>\n",
       "      <td>65.000000</td>\n",
       "    </tr>\n",
       "    <tr>\n",
       "      <th>32</th>\n",
       "      <td>1111</td>\n",
       "      <td>CSO COMO</td>\n",
       "      <td>COMO</td>\n",
       "      <td>COMO</td>\n",
       "      <td>66.666667</td>\n",
       "    </tr>\n",
       "    <tr>\n",
       "      <th>1572</th>\n",
       "      <td>4144</td>\n",
       "      <td>DON BOSCO</td>\n",
       "      <td>BOSCO DON GIOVANNI</td>\n",
       "      <td>DON GIOVANNI BOSCO</td>\n",
       "      <td>66.666667</td>\n",
       "    </tr>\n",
       "    <tr>\n",
       "      <th>1573</th>\n",
       "      <td>4144</td>\n",
       "      <td>DON BOSCO</td>\n",
       "      <td>BOSCO DON GIOVANNI</td>\n",
       "      <td>DON GIOVANNI BOSCO</td>\n",
       "      <td>66.666667</td>\n",
       "    </tr>\n",
       "    <tr>\n",
       "      <th>3298</th>\n",
       "      <td>4144</td>\n",
       "      <td>DON BOSCO</td>\n",
       "      <td>BOSCO DON GIOVANNI</td>\n",
       "      <td>DON GIOVANNI BOSCO</td>\n",
       "      <td>66.666667</td>\n",
       "    </tr>\n",
       "    <tr>\n",
       "      <th>3631</th>\n",
       "      <td>4144</td>\n",
       "      <td>DON BOSCO</td>\n",
       "      <td>BOSCO DON GIOVANNI</td>\n",
       "      <td>DON GIOVANNI BOSCO</td>\n",
       "      <td>66.666667</td>\n",
       "    </tr>\n",
       "    <tr>\n",
       "      <th>2223</th>\n",
       "      <td>6551</td>\n",
       "      <td>MURILLO S.B.</td>\n",
       "      <td>MURILLO SEBASTIANO BARTOLOMEO</td>\n",
       "      <td>MURILLO</td>\n",
       "      <td>73.684211</td>\n",
       "    </tr>\n",
       "    <tr>\n",
       "      <th>3490</th>\n",
       "      <td>6551</td>\n",
       "      <td>MURILLO S.B.</td>\n",
       "      <td>MURILLO SEBASTIANO BARTOLOMEO</td>\n",
       "      <td>MURILLO</td>\n",
       "      <td>73.684211</td>\n",
       "    </tr>\n",
       "  </tbody>\n",
       "</table>\n",
       "</div>"
      ],
      "text/plain": [
       "     cod_via                    via                  DENOMINAZIONE  \\\n",
       "3087     612        DANTE ALIGHIERI                          DANTE   \n",
       "2558    1524    GRAZIANO IMPERATORE                       GRAZIANO   \n",
       "3322    1524    GRAZIANO IMPERATORE                       GRAZIANO   \n",
       "2308    6380       TIZIANO VECELLIO                       TIZIANO    \n",
       "3453    6380       TIZIANO VECELLIO                       TIZIANO    \n",
       "363     7158  COLONNA MARCO ANTONIO            COLONNA MARCANTONIO   \n",
       "2868    7158  COLONNA MARCO ANTONIO            COLONNA MARCANTONIO   \n",
       "3612    7158  COLONNA MARCO ANTONIO            COLONNA MARCANTONIO   \n",
       "32      1111               CSO COMO                           COMO   \n",
       "1572    4144              DON BOSCO             BOSCO DON GIOVANNI   \n",
       "1573    4144              DON BOSCO             BOSCO DON GIOVANNI   \n",
       "3298    4144              DON BOSCO             BOSCO DON GIOVANNI   \n",
       "3631    4144              DON BOSCO             BOSCO DON GIOVANNI   \n",
       "2223    6551           MURILLO S.B.  MURILLO SEBASTIANO BARTOLOMEO   \n",
       "3490    6551           MURILLO S.B.  MURILLO SEBASTIANO BARTOLOMEO   \n",
       "\n",
       "              DESCRITTIVO  similarity  \n",
       "3087                DANTE   50.000000  \n",
       "2558             GRAZIANO   59.259259  \n",
       "3322             GRAZIANO   59.259259  \n",
       "2308              TIZIANO   60.869565  \n",
       "3453              TIZIANO   60.869565  \n",
       "363   MARCANTONIO COLONNA   65.000000  \n",
       "2868  MARCANTONIO COLONNA   65.000000  \n",
       "3612  MARCANTONIO COLONNA   65.000000  \n",
       "32                   COMO   66.666667  \n",
       "1572   DON GIOVANNI BOSCO   66.666667  \n",
       "1573   DON GIOVANNI BOSCO   66.666667  \n",
       "3298   DON GIOVANNI BOSCO   66.666667  \n",
       "3631   DON GIOVANNI BOSCO   66.666667  \n",
       "2223              MURILLO   73.684211  \n",
       "3490              MURILLO   73.684211  "
      ]
     },
     "execution_count": 34,
     "metadata": {},
     "output_type": "execute_result"
    }
   ],
   "source": [
    "# Function to normalize the names by removing extra spaces, converting to lowercase, and sorting words\n",
    "def normalize_string(s):\n",
    "\n",
    "    #to remove specific pattern contained in the data\n",
    "    s = re.sub(r\"sant'\\s*\", \"sant'\", s.lower())  # Fix spaces around 'sant'\n",
    "    s = re.sub(r\"dell'\\s*\", \"dell'\", s.lower())  # Fix spaces around 'dell\n",
    "    s = re.sub(r\"[()]\", \"\", s) # Remove the parenthesis\n",
    "    \n",
    "    # Split the string into words\n",
    "    words = s.strip().split()\n",
    "    \n",
    "    # Sort the words alphabetically\n",
    "    words.sort()\n",
    "    \n",
    "    # Join the words back together and convert to lowercase\n",
    "    return \" \".join(words)\n",
    "\n",
    "# Function to compute the edit distance between two strings (after normalization)\n",
    "def calculate_similarity(str1, str2):\n",
    "    return fuzz.ratio(str1, str2)\n",
    "\n",
    "# Merge new_SERVICES with viario on 'cod_via' and 'CODICE_VIA' to bring in 'DESCRITTIVO'\n",
    "merged_df = new_SERVICES.merge(viario[['CODICE_VIA', 'DESCRITTIVO', 'DENOMINAZIONE']], left_on='cod_via', right_on='CODICE_VIA', how='left')\n",
    "\n",
    "# Normalize 'via' and 'DESCRITTIVO' columns\n",
    "merged_df['normalized_via'] = merged_df['via'].apply(normalize_string)\n",
    "merged_df['normalized_descrittivo'] = merged_df['DESCRITTIVO'].apply(normalize_string)\n",
    "merged_df['normalized_denominazione'] = merged_df['DENOMINAZIONE'].apply(normalize_string)\n",
    "\n",
    "# Calculate the similarity between normalized values using edit distance\n",
    "merged_df['similarity'] = merged_df.apply(lambda row: max(calculate_similarity(row['normalized_via'], row['normalized_descrittivo']), calculate_similarity(row['normalized_via'], row['normalized_denominazione'])), axis=1)\n",
    "\n",
    "# Print rows where the similarity is below a certain threshold (e.g., 80)\n",
    "threshold = 75\n",
    "non_matching_rows = merged_df[merged_df['similarity'] < threshold]\n",
    "\n",
    "# Show the rows with low similarity\n",
    "print(f\"Rows where normalized 'via' and 'DESCRITTIVO'/'DENOMINAZIONE' are not similar enough (below {threshold}% similarity):\")\n",
    "non_matching_rows[['cod_via', 'via', 'DENOMINAZIONE', 'DESCRITTIVO', 'similarity']].sort_values(by=\"similarity\", ascending=True)"
   ]
  },
  {
   "cell_type": "markdown",
   "id": "f45a9d4e",
   "metadata": {
    "papermill": {
     "duration": 0.020772,
     "end_time": "2025-01-18T15:53:29.285261",
     "exception": false,
     "start_time": "2025-01-18T15:53:29.264489",
     "status": "completed"
    },
    "tags": []
   },
   "source": [
    "Since these values with similarity lower than 75% match the respective addresses semantically, the `via` column can now be standardized to match the format of the `viario.DESCRITTIVO` column."
   ]
  },
  {
   "cell_type": "code",
   "execution_count": 35,
   "id": "8388f990",
   "metadata": {
    "execution": {
     "iopub.execute_input": "2025-01-18T15:53:29.327471Z",
     "iopub.status.busy": "2025-01-18T15:53:29.327043Z",
     "iopub.status.idle": "2025-01-18T15:53:29.349044Z",
     "shell.execute_reply": "2025-01-18T15:53:29.347734Z"
    },
    "papermill": {
     "duration": 0.045356,
     "end_time": "2025-01-18T15:53:29.351097",
     "exception": false,
     "start_time": "2025-01-18T15:53:29.305741",
     "status": "completed"
    },
    "tags": []
   },
   "outputs": [
    {
     "data": {
      "text/html": [
       "<div>\n",
       "<style scoped>\n",
       "    .dataframe tbody tr th:only-of-type {\n",
       "        vertical-align: middle;\n",
       "    }\n",
       "\n",
       "    .dataframe tbody tr th {\n",
       "        vertical-align: top;\n",
       "    }\n",
       "\n",
       "    .dataframe thead th {\n",
       "        text-align: right;\n",
       "    }\n",
       "</style>\n",
       "<table border=\"1\" class=\"dataframe\">\n",
       "  <thead>\n",
       "    <tr style=\"text-align: right;\">\n",
       "      <th></th>\n",
       "      <th>t_es</th>\n",
       "      <th>ubic</th>\n",
       "      <th>t_via</th>\n",
       "      <th>via</th>\n",
       "      <th>civ</th>\n",
       "      <th>cod_via</th>\n",
       "      <th>zd</th>\n",
       "      <th>sup_alt</th>\n",
       "      <th>sup_lav</th>\n",
       "    </tr>\n",
       "  </thead>\n",
       "  <tbody>\n",
       "    <tr>\n",
       "      <th>0</th>\n",
       "      <td></td>\n",
       "      <td>LGO DEI GELSOMINI N. 10 (z.d. 6)</td>\n",
       "      <td>Largo</td>\n",
       "      <td>DEI GELSOMINI</td>\n",
       "      <td>10</td>\n",
       "      <td>5394</td>\n",
       "      <td>6</td>\n",
       "      <td>NaN</td>\n",
       "      <td>55.0</td>\n",
       "    </tr>\n",
       "    <tr>\n",
       "      <th>1</th>\n",
       "      <td>Centro Massaggi</td>\n",
       "      <td>PZA FIDIA N. 3 (z.d. 9)</td>\n",
       "      <td>Piazza</td>\n",
       "      <td>FIDIA</td>\n",
       "      <td>3</td>\n",
       "      <td>1144</td>\n",
       "      <td>9</td>\n",
       "      <td>2.0</td>\n",
       "      <td>28.0</td>\n",
       "    </tr>\n",
       "    <tr>\n",
       "      <th>2</th>\n",
       "      <td>Centro Benessere</td>\n",
       "      <td>VIA ADIGE N. 10 (z.d. 5)</td>\n",
       "      <td>Via</td>\n",
       "      <td>ADIGE</td>\n",
       "      <td>10</td>\n",
       "      <td>4216</td>\n",
       "      <td>5</td>\n",
       "      <td>2.0</td>\n",
       "      <td>27.0</td>\n",
       "    </tr>\n",
       "    <tr>\n",
       "      <th>3</th>\n",
       "      <td>Truccatore</td>\n",
       "      <td>VIA BARACCHINI FLAVIO N. 9 (z.d. 1)</td>\n",
       "      <td>Via</td>\n",
       "      <td>FLAVIO BARACCHINI</td>\n",
       "      <td>9</td>\n",
       "      <td>356</td>\n",
       "      <td>1</td>\n",
       "      <td>NaN</td>\n",
       "      <td>NaN</td>\n",
       "    </tr>\n",
       "    <tr>\n",
       "      <th>4</th>\n",
       "      <td></td>\n",
       "      <td>VIA BERGAMO N. 12 (z.d. 4)</td>\n",
       "      <td>Via</td>\n",
       "      <td>BERGAMO</td>\n",
       "      <td>12</td>\n",
       "      <td>3189</td>\n",
       "      <td>4</td>\n",
       "      <td>NaN</td>\n",
       "      <td>50.0</td>\n",
       "    </tr>\n",
       "  </tbody>\n",
       "</table>\n",
       "</div>"
      ],
      "text/plain": [
       "               t_es                                 ubic   t_via  \\\n",
       "0                       LGO DEI GELSOMINI N. 10 (z.d. 6)   Largo   \n",
       "1   Centro Massaggi              PZA FIDIA N. 3 (z.d. 9)  Piazza   \n",
       "2  Centro Benessere             VIA ADIGE N. 10 (z.d. 5)     Via   \n",
       "3        Truccatore  VIA BARACCHINI FLAVIO N. 9 (z.d. 1)     Via   \n",
       "4                             VIA BERGAMO N. 12 (z.d. 4)     Via   \n",
       "\n",
       "                 via civ cod_via zd  sup_alt  sup_lav  \n",
       "0      DEI GELSOMINI  10    5394  6      NaN     55.0  \n",
       "1              FIDIA   3    1144  9      2.0     28.0  \n",
       "2              ADIGE  10    4216  5      2.0     27.0  \n",
       "3  FLAVIO BARACCHINI   9     356  1      NaN      NaN  \n",
       "4            BERGAMO  12    3189  4      NaN     50.0  "
      ]
     },
     "execution_count": 35,
     "metadata": {},
     "output_type": "execute_result"
    }
   ],
   "source": [
    "# Merge new_SERVICES with viario on the matching cod_via and CODICE_VIA\n",
    "new_SERVICES = new_SERVICES.merge(viario[['CODICE_VIA', 'DESCRITTIVO']], \n",
    "                                  left_on='cod_via', right_on='CODICE_VIA', \n",
    "                                  how='left')\n",
    "\n",
    "# Update the via column with the corresponding DESCRITTIVO value\n",
    "new_SERVICES['via'] = new_SERVICES['DESCRITTIVO']\n",
    "\n",
    "# Drop the extra columns (if needed)\n",
    "new_SERVICES.drop(columns=['CODICE_VIA', 'DESCRITTIVO'], inplace=True)\n",
    "new_SERVICES.head()"
   ]
  },
  {
   "cell_type": "markdown",
   "id": "823a5e88",
   "metadata": {
    "papermill": {
     "duration": 0.020351,
     "end_time": "2025-01-18T15:53:29.392298",
     "exception": false,
     "start_time": "2025-01-18T15:53:29.371947",
     "status": "completed"
    },
    "tags": []
   },
   "source": [
    "### UBIC: Structuring and Format Changing\n",
    "We process the `ubic` field to extract and organize its contents into distinct components: `ubic_t_via` (street type), `ubic_via` (street name), `ubic_civ` (street number), `ubic_zd` (zone description), and `note` (additional information). This step allows us to compare these extracted values with the corresponding columns that share similar semantic meanings (`t_via`, `via`, `civ`, and `zd`). \n",
    "\n",
    "Once the comparison is complete, we remove the `ubic` field and its derived columns to eliminate redundancy. \n",
    "\n",
    "This approach ensures a cleaner and more structured dataset for further analysis.\n",
    "\n",
    "**Example**\n",
    "\n",
    "Given the following data:\n",
    "\n",
    "| t_es  | ubic | t_via | via | civ | cod_via | zd | sup_alt | sup_lav | \n",
    "|-------|------|-------|-----|-----|---------|----|---------|---------|\n",
    "| Tipo A - Estetica Manuale;Tipo C - Trattamenti Estetici Dimagrimento | ALZ NAVIGLIO PAVESE N. 8 int.attivita' di parrucchiere; (z.d. 6) | ALZ | NAVIGLIO PAVESE | 8 | 5161.0 | 6 | NaN | NaN |\n",
    "\n",
    "The updated record becomes:\n",
    "\n",
    "| t_es  | t_via | via | civ | cod_via | zd | sup_alt | sup_lav | ubic_t_via | ubic_via | ubic_civ | ubic_zd | note |\n",
    "|-------|-------|-----|-----|---------|----|---------|---------|------------|----------|----------|--------|------|\n",
    "| Tipo A - Estetica Manuale;Tipo C - Trattamenti Estetici Dimagrimento  | ALZ | NAVIGLIO PAVESE | 8 | 5161.0 | 6 | NaN | NaN | ALZ | NAVIGLIO PAVESE | 8 | 6 | int.attivita' di parrucchiere |\n",
    "\n",
    "**Explanation**:\n",
    "\n",
    "In this transformation:\n",
    "- The `via` column value `NAVIGLIO PAVESE` had the redundant prefix `ALZ` matching the value in the `t_via` column.\n",
    "- The prefix `ALZ` is removed from the `via` column, leaving the unique portion: `NAVIGLIO PAVESE`.\n",
    "- The `ubic` field remains the same in structure but is used to extract the relevant information, including the street name, number, and zone description, which are now placed in separate columns (`ubic_via`, `ubic_civ`, `ubic_zd`), while any additional information (e.g., `int.attivita' di parrucchiere`) is placed in the `note` column."
   ]
  },
  {
   "cell_type": "code",
   "execution_count": 36,
   "id": "8820a5c9",
   "metadata": {
    "execution": {
     "iopub.execute_input": "2025-01-18T15:53:29.435215Z",
     "iopub.status.busy": "2025-01-18T15:53:29.434862Z",
     "iopub.status.idle": "2025-01-18T15:53:31.016407Z",
     "shell.execute_reply": "2025-01-18T15:53:31.015367Z"
    },
    "papermill": {
     "duration": 1.605625,
     "end_time": "2025-01-18T15:53:31.018678",
     "exception": false,
     "start_time": "2025-01-18T15:53:29.413053",
     "status": "completed"
    },
    "tags": []
   },
   "outputs": [
    {
     "data": {
      "text/html": [
       "<div>\n",
       "<style scoped>\n",
       "    .dataframe tbody tr th:only-of-type {\n",
       "        vertical-align: middle;\n",
       "    }\n",
       "\n",
       "    .dataframe tbody tr th {\n",
       "        vertical-align: top;\n",
       "    }\n",
       "\n",
       "    .dataframe thead th {\n",
       "        text-align: right;\n",
       "    }\n",
       "</style>\n",
       "<table border=\"1\" class=\"dataframe\">\n",
       "  <thead>\n",
       "    <tr style=\"text-align: right;\">\n",
       "      <th></th>\n",
       "      <th>t_es</th>\n",
       "      <th>ubic</th>\n",
       "      <th>t_via</th>\n",
       "      <th>via</th>\n",
       "      <th>civ</th>\n",
       "      <th>cod_via</th>\n",
       "      <th>zd</th>\n",
       "      <th>sup_alt</th>\n",
       "      <th>sup_lav</th>\n",
       "      <th>ubic_t_via</th>\n",
       "      <th>ubic_via</th>\n",
       "      <th>ubic_civ</th>\n",
       "      <th>ubic_zd</th>\n",
       "      <th>note</th>\n",
       "    </tr>\n",
       "  </thead>\n",
       "  <tbody>\n",
       "    <tr>\n",
       "      <th>0</th>\n",
       "      <td></td>\n",
       "      <td>LGO DEI GELSOMINI N. 10 (z.d. 6)</td>\n",
       "      <td>Largo</td>\n",
       "      <td>DEI GELSOMINI</td>\n",
       "      <td>10</td>\n",
       "      <td>5394</td>\n",
       "      <td>6</td>\n",
       "      <td>NaN</td>\n",
       "      <td>55.0</td>\n",
       "      <td>LGO</td>\n",
       "      <td>DEI GELSOMINI</td>\n",
       "      <td>10</td>\n",
       "      <td>6</td>\n",
       "      <td>NaN</td>\n",
       "    </tr>\n",
       "    <tr>\n",
       "      <th>1</th>\n",
       "      <td>Centro Massaggi</td>\n",
       "      <td>PZA FIDIA N. 3 (z.d. 9)</td>\n",
       "      <td>Piazza</td>\n",
       "      <td>FIDIA</td>\n",
       "      <td>3</td>\n",
       "      <td>1144</td>\n",
       "      <td>9</td>\n",
       "      <td>2.0</td>\n",
       "      <td>28.0</td>\n",
       "      <td>PZA</td>\n",
       "      <td>FIDIA</td>\n",
       "      <td>3</td>\n",
       "      <td>9</td>\n",
       "      <td>NaN</td>\n",
       "    </tr>\n",
       "    <tr>\n",
       "      <th>2</th>\n",
       "      <td>Centro Benessere</td>\n",
       "      <td>VIA ADIGE N. 10 (z.d. 5)</td>\n",
       "      <td>Via</td>\n",
       "      <td>ADIGE</td>\n",
       "      <td>10</td>\n",
       "      <td>4216</td>\n",
       "      <td>5</td>\n",
       "      <td>2.0</td>\n",
       "      <td>27.0</td>\n",
       "      <td>VIA</td>\n",
       "      <td>ADIGE</td>\n",
       "      <td>10</td>\n",
       "      <td>5</td>\n",
       "      <td>NaN</td>\n",
       "    </tr>\n",
       "    <tr>\n",
       "      <th>3</th>\n",
       "      <td>Truccatore</td>\n",
       "      <td>VIA BARACCHINI FLAVIO N. 9 (z.d. 1)</td>\n",
       "      <td>Via</td>\n",
       "      <td>FLAVIO BARACCHINI</td>\n",
       "      <td>9</td>\n",
       "      <td>356</td>\n",
       "      <td>1</td>\n",
       "      <td>NaN</td>\n",
       "      <td>NaN</td>\n",
       "      <td>VIA</td>\n",
       "      <td>BARACCHINI FLAVIO</td>\n",
       "      <td>9</td>\n",
       "      <td>1</td>\n",
       "      <td>NaN</td>\n",
       "    </tr>\n",
       "    <tr>\n",
       "      <th>4</th>\n",
       "      <td></td>\n",
       "      <td>VIA BERGAMO N. 12 (z.d. 4)</td>\n",
       "      <td>Via</td>\n",
       "      <td>BERGAMO</td>\n",
       "      <td>12</td>\n",
       "      <td>3189</td>\n",
       "      <td>4</td>\n",
       "      <td>NaN</td>\n",
       "      <td>50.0</td>\n",
       "      <td>VIA</td>\n",
       "      <td>BERGAMO</td>\n",
       "      <td>12</td>\n",
       "      <td>4</td>\n",
       "      <td>NaN</td>\n",
       "    </tr>\n",
       "  </tbody>\n",
       "</table>\n",
       "</div>"
      ],
      "text/plain": [
       "               t_es                                 ubic   t_via  \\\n",
       "0                       LGO DEI GELSOMINI N. 10 (z.d. 6)   Largo   \n",
       "1   Centro Massaggi              PZA FIDIA N. 3 (z.d. 9)  Piazza   \n",
       "2  Centro Benessere             VIA ADIGE N. 10 (z.d. 5)     Via   \n",
       "3        Truccatore  VIA BARACCHINI FLAVIO N. 9 (z.d. 1)     Via   \n",
       "4                             VIA BERGAMO N. 12 (z.d. 4)     Via   \n",
       "\n",
       "                 via civ cod_via zd  sup_alt  sup_lav ubic_t_via  \\\n",
       "0      DEI GELSOMINI  10    5394  6      NaN     55.0        LGO   \n",
       "1              FIDIA   3    1144  9      2.0     28.0        PZA   \n",
       "2              ADIGE  10    4216  5      2.0     27.0        VIA   \n",
       "3  FLAVIO BARACCHINI   9     356  1      NaN      NaN        VIA   \n",
       "4            BERGAMO  12    3189  4      NaN     50.0        VIA   \n",
       "\n",
       "            ubic_via ubic_civ ubic_zd note  \n",
       "0      DEI GELSOMINI       10       6  NaN  \n",
       "1              FIDIA        3       9  NaN  \n",
       "2              ADIGE       10       5  NaN  \n",
       "3  BARACCHINI FLAVIO        9       1  NaN  \n",
       "4            BERGAMO       12       4  NaN  "
      ]
     },
     "execution_count": 36,
     "metadata": {},
     "output_type": "execute_result"
    }
   ],
   "source": [
    "def split_ubicazione(ubicazione):\n",
    "    # Initialize variables\n",
    "    tipo_via = np.nan\n",
    "    via = np.nan\n",
    "    civico = np.nan\n",
    "    zd = np.nan\n",
    "    note = np.nan\n",
    "    \n",
    "    ubicazione = ubicazione.replace(\"Ã¸\", \"A\")   # Handle lone 'Ã'\n",
    "    ubicazione = ubicazione.replace(\" n.\",\" N.\")\n",
    "    \n",
    "    # Split the string into parts\n",
    "    parts = ubicazione.split(\" \")\n",
    "\n",
    "    if parts[0].lower() == \"vie\":\n",
    "        parts[0] = \"via\"\n",
    "    \n",
    "    # Extract \"Tipo Via\" (first word if valid)\n",
    "    if parts[0].lower() in tipovia.DESC_ABBREVIATA.str.lower().unique():\n",
    "        tipo_via = parts[0]\n",
    "        parts = parts[1:]  # Remove 'Tipo Via' from further processing\n",
    "\n",
    "    # Find \"Civico\" (number after \"N.\" or \"num.\")\n",
    "    # pattern = r'^\\d{1,3}(?:/\\d{1,3}[A-Z]?)?(?:[A-Z]+)?(?:[A-Z]+P\\d{2})?(?:[A-Z]+N\\d{2})?(?:[A-Z]+C\\d{2})?(?:[A-Z]+G\\d{2})?$'\n",
    "    pattern = r'\\b(?:N\\.|num\\.)\\s*([\\w/]+)'\n",
    "    match = re.search(pattern, ubicazione, re.IGNORECASE)\n",
    "    if match:\n",
    "        civico = match.group(1).strip(\";\")\n",
    "        parts = re.sub(pattern, '', ubicazione).split()\n",
    "\n",
    "    # Extract \"ZD\" (zone description)\n",
    "    match_zd = re.search(r'\\(z\\.d\\.\\s*(\\d+)\\)', ubicazione, re.IGNORECASE)\n",
    "    if match_zd:\n",
    "        zd = match_zd.group(1)\n",
    "        parts = re.sub(r'\\(z\\.d\\.\\s*\\d+\\)', '', \" \".join(parts)).split()\n",
    "\n",
    "    # To put together strings of the note like '1A' and 'piano' \n",
    "    # Check if there are at least three words to avoid IndexError\n",
    "    if len(parts) > 3:\n",
    "        # Define a regular expression to match \"number + letter\" (e.g., \"1A\")\n",
    "        pattern = r\"^\\d+[A-Za-z]$\"\n",
    "        \n",
    "        # Check if either parts[-2] or parts[-1] matches the pattern\n",
    "        if re.match(pattern, parts[-2]) or re.match(pattern, parts[-1]):\n",
    "            # Concatenate third-to-last and second-to-last parts\n",
    "            parts[-2] = parts[-2] + \" \" + parts[-1]\n",
    "            del parts[-1]  # Remove the last word after merging\n",
    "\n",
    "    # Identify and extract the \"Via\" (remaining uppercase parts)\n",
    "    via_parts = []\n",
    "    note_parts = []\n",
    "    for part in parts:\n",
    "        if part.isupper():  # Uppercase letters are part of \"Via\"\n",
    "            via_parts.append(part)\n",
    "        else:  # Lowercase letters are considered \"Note\"\n",
    "            note_parts.append(part)\n",
    "\n",
    "    # Construct the \"Via\" without the \"Tipo Via\"\n",
    "    via_parts = [part for part in via_parts if part != tipo_via]  # Remove 'tipo_via' from 'via_parts'\n",
    "    via = \" \".join(via_parts).strip()\n",
    "    via =  via.replace(\";\", \"\")\n",
    "    note = \" \".join(note_parts).strip(\";\") if note_parts else np.nan\n",
    "    if note == \"\":\n",
    "        note = np.nan\n",
    "    \n",
    "    # Remove leading zeros unless the value contains alphabetic characters\n",
    "    if civico and civico.isdigit():\n",
    "        civico = str(int(civico))  # Remove leading zeros by converting to an integer\n",
    "    elif civico:  # Preserve alphanumeric strings like '012B'\n",
    "        civico = civico.lstrip(\"0\").upper()  # Strip leading zeros but keep characters intact\n",
    "\n",
    "    return tipo_via, via, civico, zd, note\n",
    "\n",
    "# Apply the function to create new columns\n",
    "new_SERVICES[['ubic_t_via', 'ubic_via', 'ubic_civ', 'ubic_zd', 'note']] = new_SERVICES['ubic'].apply(lambda x: pd.Series(split_ubicazione(x)))\n",
    "new_SERVICES.head()"
   ]
  },
  {
   "cell_type": "code",
   "execution_count": 37,
   "id": "83ccc509",
   "metadata": {
    "execution": {
     "iopub.execute_input": "2025-01-18T15:53:31.061752Z",
     "iopub.status.busy": "2025-01-18T15:53:31.061295Z",
     "iopub.status.idle": "2025-01-18T15:53:31.081911Z",
     "shell.execute_reply": "2025-01-18T15:53:31.080148Z"
    },
    "papermill": {
     "duration": 0.044408,
     "end_time": "2025-01-18T15:53:31.083944",
     "exception": false,
     "start_time": "2025-01-18T15:53:31.039536",
     "status": "completed"
    },
    "tags": []
   },
   "outputs": [
    {
     "data": {
      "text/html": [
       "<div>\n",
       "<style scoped>\n",
       "    .dataframe tbody tr th:only-of-type {\n",
       "        vertical-align: middle;\n",
       "    }\n",
       "\n",
       "    .dataframe tbody tr th {\n",
       "        vertical-align: top;\n",
       "    }\n",
       "\n",
       "    .dataframe thead th {\n",
       "        text-align: right;\n",
       "    }\n",
       "</style>\n",
       "<table border=\"1\" class=\"dataframe\">\n",
       "  <thead>\n",
       "    <tr style=\"text-align: right;\">\n",
       "      <th></th>\n",
       "      <th>t_es</th>\n",
       "      <th>t_via</th>\n",
       "      <th>via</th>\n",
       "      <th>civ</th>\n",
       "      <th>cod_via</th>\n",
       "      <th>zd</th>\n",
       "      <th>sup_alt</th>\n",
       "      <th>sup_lav</th>\n",
       "      <th>ubic_t_via</th>\n",
       "      <th>ubic_via</th>\n",
       "      <th>ubic_civ</th>\n",
       "      <th>ubic_zd</th>\n",
       "      <th>note</th>\n",
       "    </tr>\n",
       "  </thead>\n",
       "  <tbody>\n",
       "    <tr>\n",
       "      <th>0</th>\n",
       "      <td></td>\n",
       "      <td>Largo</td>\n",
       "      <td>DEI GELSOMINI</td>\n",
       "      <td>10</td>\n",
       "      <td>5394</td>\n",
       "      <td>6</td>\n",
       "      <td>NaN</td>\n",
       "      <td>55.0</td>\n",
       "      <td>LGO</td>\n",
       "      <td>DEI GELSOMINI</td>\n",
       "      <td>10</td>\n",
       "      <td>6</td>\n",
       "      <td>NaN</td>\n",
       "    </tr>\n",
       "    <tr>\n",
       "      <th>1</th>\n",
       "      <td>Centro Massaggi</td>\n",
       "      <td>Piazza</td>\n",
       "      <td>FIDIA</td>\n",
       "      <td>3</td>\n",
       "      <td>1144</td>\n",
       "      <td>9</td>\n",
       "      <td>2.0</td>\n",
       "      <td>28.0</td>\n",
       "      <td>PZA</td>\n",
       "      <td>FIDIA</td>\n",
       "      <td>3</td>\n",
       "      <td>9</td>\n",
       "      <td>NaN</td>\n",
       "    </tr>\n",
       "    <tr>\n",
       "      <th>2</th>\n",
       "      <td>Centro Benessere</td>\n",
       "      <td>Via</td>\n",
       "      <td>ADIGE</td>\n",
       "      <td>10</td>\n",
       "      <td>4216</td>\n",
       "      <td>5</td>\n",
       "      <td>2.0</td>\n",
       "      <td>27.0</td>\n",
       "      <td>VIA</td>\n",
       "      <td>ADIGE</td>\n",
       "      <td>10</td>\n",
       "      <td>5</td>\n",
       "      <td>NaN</td>\n",
       "    </tr>\n",
       "    <tr>\n",
       "      <th>3</th>\n",
       "      <td>Truccatore</td>\n",
       "      <td>Via</td>\n",
       "      <td>FLAVIO BARACCHINI</td>\n",
       "      <td>9</td>\n",
       "      <td>356</td>\n",
       "      <td>1</td>\n",
       "      <td>NaN</td>\n",
       "      <td>NaN</td>\n",
       "      <td>VIA</td>\n",
       "      <td>BARACCHINI FLAVIO</td>\n",
       "      <td>9</td>\n",
       "      <td>1</td>\n",
       "      <td>NaN</td>\n",
       "    </tr>\n",
       "    <tr>\n",
       "      <th>4</th>\n",
       "      <td></td>\n",
       "      <td>Via</td>\n",
       "      <td>BERGAMO</td>\n",
       "      <td>12</td>\n",
       "      <td>3189</td>\n",
       "      <td>4</td>\n",
       "      <td>NaN</td>\n",
       "      <td>50.0</td>\n",
       "      <td>VIA</td>\n",
       "      <td>BERGAMO</td>\n",
       "      <td>12</td>\n",
       "      <td>4</td>\n",
       "      <td>NaN</td>\n",
       "    </tr>\n",
       "  </tbody>\n",
       "</table>\n",
       "</div>"
      ],
      "text/plain": [
       "               t_es   t_via                via civ cod_via zd  sup_alt  \\\n",
       "0                     Largo      DEI GELSOMINI  10    5394  6      NaN   \n",
       "1   Centro Massaggi  Piazza              FIDIA   3    1144  9      2.0   \n",
       "2  Centro Benessere     Via              ADIGE  10    4216  5      2.0   \n",
       "3        Truccatore     Via  FLAVIO BARACCHINI   9     356  1      NaN   \n",
       "4                       Via            BERGAMO  12    3189  4      NaN   \n",
       "\n",
       "   sup_lav ubic_t_via           ubic_via ubic_civ ubic_zd note  \n",
       "0     55.0        LGO      DEI GELSOMINI       10       6  NaN  \n",
       "1     28.0        PZA              FIDIA        3       9  NaN  \n",
       "2     27.0        VIA              ADIGE       10       5  NaN  \n",
       "3      NaN        VIA  BARACCHINI FLAVIO        9       1  NaN  \n",
       "4     50.0        VIA            BERGAMO       12       4  NaN  "
      ]
     },
     "execution_count": 37,
     "metadata": {},
     "output_type": "execute_result"
    }
   ],
   "source": [
    "new_SERVICES = new_SERVICES.drop(\"ubic\", axis=1)\n",
    "new_SERVICES.head()"
   ]
  },
  {
   "cell_type": "markdown",
   "id": "b066df12",
   "metadata": {
    "papermill": {
     "duration": 0.020674,
     "end_time": "2025-01-18T15:53:31.126404",
     "exception": false,
     "start_time": "2025-01-18T15:53:31.105730",
     "status": "completed"
    },
    "tags": []
   },
   "source": [
    "Now we standardize the `ubic_t_via` column with the values from the **tipovia** dataframe. Since we have already ensured that all values in `ubic_t_via` match the corresponding abbreviations from the `DESC_ABBREVIATA` column in **tipovia**, there is no need for additional corrections or formatting. We directly map the `ubic_t_via` values to their corresponding `DESC_ESTESA` values from **tipovia** as `desc_attesa`."
   ]
  },
  {
   "cell_type": "code",
   "execution_count": 38,
   "id": "261ee835",
   "metadata": {
    "execution": {
     "iopub.execute_input": "2025-01-18T15:53:31.172035Z",
     "iopub.status.busy": "2025-01-18T15:53:31.171674Z",
     "iopub.status.idle": "2025-01-18T15:53:31.192602Z",
     "shell.execute_reply": "2025-01-18T15:53:31.191218Z"
    },
    "papermill": {
     "duration": 0.045824,
     "end_time": "2025-01-18T15:53:31.194279",
     "exception": false,
     "start_time": "2025-01-18T15:53:31.148455",
     "status": "completed"
    },
    "tags": []
   },
   "outputs": [
    {
     "data": {
      "text/html": [
       "<div>\n",
       "<style scoped>\n",
       "    .dataframe tbody tr th:only-of-type {\n",
       "        vertical-align: middle;\n",
       "    }\n",
       "\n",
       "    .dataframe tbody tr th {\n",
       "        vertical-align: top;\n",
       "    }\n",
       "\n",
       "    .dataframe thead th {\n",
       "        text-align: right;\n",
       "    }\n",
       "</style>\n",
       "<table border=\"1\" class=\"dataframe\">\n",
       "  <thead>\n",
       "    <tr style=\"text-align: right;\">\n",
       "      <th></th>\n",
       "      <th>t_es</th>\n",
       "      <th>t_via</th>\n",
       "      <th>via</th>\n",
       "      <th>civ</th>\n",
       "      <th>cod_via</th>\n",
       "      <th>zd</th>\n",
       "      <th>sup_alt</th>\n",
       "      <th>sup_lav</th>\n",
       "      <th>ubic_t_via</th>\n",
       "      <th>ubic_via</th>\n",
       "      <th>ubic_civ</th>\n",
       "      <th>ubic_zd</th>\n",
       "      <th>note</th>\n",
       "    </tr>\n",
       "  </thead>\n",
       "  <tbody>\n",
       "    <tr>\n",
       "      <th>0</th>\n",
       "      <td></td>\n",
       "      <td>Largo</td>\n",
       "      <td>DEI GELSOMINI</td>\n",
       "      <td>10</td>\n",
       "      <td>5394</td>\n",
       "      <td>6</td>\n",
       "      <td>NaN</td>\n",
       "      <td>55.0</td>\n",
       "      <td>Largo</td>\n",
       "      <td>DEI GELSOMINI</td>\n",
       "      <td>10</td>\n",
       "      <td>6</td>\n",
       "      <td>NaN</td>\n",
       "    </tr>\n",
       "    <tr>\n",
       "      <th>1</th>\n",
       "      <td>Centro Massaggi</td>\n",
       "      <td>Piazza</td>\n",
       "      <td>FIDIA</td>\n",
       "      <td>3</td>\n",
       "      <td>1144</td>\n",
       "      <td>9</td>\n",
       "      <td>2.0</td>\n",
       "      <td>28.0</td>\n",
       "      <td>Piazza</td>\n",
       "      <td>FIDIA</td>\n",
       "      <td>3</td>\n",
       "      <td>9</td>\n",
       "      <td>NaN</td>\n",
       "    </tr>\n",
       "    <tr>\n",
       "      <th>2</th>\n",
       "      <td>Centro Benessere</td>\n",
       "      <td>Via</td>\n",
       "      <td>ADIGE</td>\n",
       "      <td>10</td>\n",
       "      <td>4216</td>\n",
       "      <td>5</td>\n",
       "      <td>2.0</td>\n",
       "      <td>27.0</td>\n",
       "      <td>Via</td>\n",
       "      <td>ADIGE</td>\n",
       "      <td>10</td>\n",
       "      <td>5</td>\n",
       "      <td>NaN</td>\n",
       "    </tr>\n",
       "    <tr>\n",
       "      <th>3</th>\n",
       "      <td>Truccatore</td>\n",
       "      <td>Via</td>\n",
       "      <td>FLAVIO BARACCHINI</td>\n",
       "      <td>9</td>\n",
       "      <td>356</td>\n",
       "      <td>1</td>\n",
       "      <td>NaN</td>\n",
       "      <td>NaN</td>\n",
       "      <td>Via</td>\n",
       "      <td>BARACCHINI FLAVIO</td>\n",
       "      <td>9</td>\n",
       "      <td>1</td>\n",
       "      <td>NaN</td>\n",
       "    </tr>\n",
       "    <tr>\n",
       "      <th>4</th>\n",
       "      <td></td>\n",
       "      <td>Via</td>\n",
       "      <td>BERGAMO</td>\n",
       "      <td>12</td>\n",
       "      <td>3189</td>\n",
       "      <td>4</td>\n",
       "      <td>NaN</td>\n",
       "      <td>50.0</td>\n",
       "      <td>Via</td>\n",
       "      <td>BERGAMO</td>\n",
       "      <td>12</td>\n",
       "      <td>4</td>\n",
       "      <td>NaN</td>\n",
       "    </tr>\n",
       "  </tbody>\n",
       "</table>\n",
       "</div>"
      ],
      "text/plain": [
       "               t_es   t_via                via civ cod_via zd  sup_alt  \\\n",
       "0                     Largo      DEI GELSOMINI  10    5394  6      NaN   \n",
       "1   Centro Massaggi  Piazza              FIDIA   3    1144  9      2.0   \n",
       "2  Centro Benessere     Via              ADIGE  10    4216  5      2.0   \n",
       "3        Truccatore     Via  FLAVIO BARACCHINI   9     356  1      NaN   \n",
       "4                       Via            BERGAMO  12    3189  4      NaN   \n",
       "\n",
       "   sup_lav ubic_t_via           ubic_via ubic_civ ubic_zd note  \n",
       "0     55.0      Largo      DEI GELSOMINI       10       6  NaN  \n",
       "1     28.0     Piazza              FIDIA        3       9  NaN  \n",
       "2     27.0        Via              ADIGE       10       5  NaN  \n",
       "3      NaN        Via  BARACCHINI FLAVIO        9       1  NaN  \n",
       "4     50.0        Via            BERGAMO       12       4  NaN  "
      ]
     },
     "execution_count": 38,
     "metadata": {},
     "output_type": "execute_result"
    }
   ],
   "source": [
    "# Create a mapping dictionary from tipovia for ubic_t_via\n",
    "ubic_t_via_mapping = dict(zip(tipovia[\"DESC_ABBREVIATA\"].str.lower(), tipovia[\"DESC_ESTESA\"]))\n",
    "\n",
    "# Replace the ubic_t_via values in new_SERVICES with the corresponding DESC_ESTESA values\n",
    "new_SERVICES[\"ubic_t_via\"] = new_SERVICES[\"ubic_t_via\"].str.lower().map(ubic_t_via_mapping)\n",
    "\n",
    "# Check the result\n",
    "new_SERVICES.head()"
   ]
  },
  {
   "cell_type": "markdown",
   "id": "e6c13088",
   "metadata": {
    "papermill": {
     "duration": 0.021319,
     "end_time": "2025-01-18T15:53:31.238492",
     "exception": false,
     "start_time": "2025-01-18T15:53:31.217173",
     "status": "completed"
    },
    "tags": []
   },
   "source": [
    "Next, we validate the `ubic_via` column in the dataset by comparing it to the descriptive fields (`DESCRITTIVO` and `DENOMINAZIONE`) from the `viario` dataframe, following a similar process as for the `via` column. <br> First, we normalize the text by converting it to lowercase, removing extraneous spaces and parentheses (while preserving their contents), and sorting the words alphabetically to address potential inconsistencies. Then, we calculate similarity scores based on **Edit Distanca** between the `ubic_via` column and both `DESCRITTIVO` and `DENOMINAZIONE`.\n",
    "\n",
    "The highest similarity score is selected for each row, and rows with a similarity score below 75% are flagged for further review."
   ]
  },
  {
   "cell_type": "code",
   "execution_count": 39,
   "id": "f9f7633a",
   "metadata": {
    "execution": {
     "iopub.execute_input": "2025-01-18T15:53:31.283283Z",
     "iopub.status.busy": "2025-01-18T15:53:31.282886Z",
     "iopub.status.idle": "2025-01-18T15:53:41.739763Z",
     "shell.execute_reply": "2025-01-18T15:53:41.738405Z"
    },
    "papermill": {
     "duration": 10.481962,
     "end_time": "2025-01-18T15:53:41.741944",
     "exception": false,
     "start_time": "2025-01-18T15:53:31.259982",
     "status": "completed"
    },
    "tags": []
   },
   "outputs": [
    {
     "name": "stderr",
     "output_type": "stream",
     "text": [
      "100%|██████████| 1381/1381 [00:10<00:00, 132.91it/s]"
     ]
    },
    {
     "name": "stdout",
     "output_type": "stream",
     "text": [
      "Rows where normalized 'ubic_via' and 'DESCRITTIVO'/'DENOMINAZIONE' are not similar enough (below 75% Edit Distance similarity):\n"
     ]
    },
    {
     "name": "stderr",
     "output_type": "stream",
     "text": [
      "\n"
     ]
    },
    {
     "data": {
      "text/html": [
       "<div>\n",
       "<style scoped>\n",
       "    .dataframe tbody tr th:only-of-type {\n",
       "        vertical-align: middle;\n",
       "    }\n",
       "\n",
       "    .dataframe tbody tr th {\n",
       "        vertical-align: top;\n",
       "    }\n",
       "\n",
       "    .dataframe thead th {\n",
       "        text-align: right;\n",
       "    }\n",
       "</style>\n",
       "<table border=\"1\" class=\"dataframe\">\n",
       "  <thead>\n",
       "    <tr style=\"text-align: right;\">\n",
       "      <th></th>\n",
       "      <th>measure</th>\n",
       "      <th>similarity</th>\n",
       "      <th>ubic_via</th>\n",
       "      <th>best_denominazione</th>\n",
       "      <th>best_descrittivo</th>\n",
       "      <th>normalized_ubic_via</th>\n",
       "      <th>best_normalized_denominazione</th>\n",
       "      <th>best_normalized_descrittivo</th>\n",
       "    </tr>\n",
       "  </thead>\n",
       "  <tbody>\n",
       "    <tr>\n",
       "      <th>183</th>\n",
       "      <td>EDIT</td>\n",
       "      <td>0.000000</td>\n",
       "      <td></td>\n",
       "      <td>DUOMO (DEL)</td>\n",
       "      <td>DEL DUOMO</td>\n",
       "      <td></td>\n",
       "      <td>del duomo</td>\n",
       "      <td>del duomo</td>\n",
       "    </tr>\n",
       "    <tr>\n",
       "      <th>1172</th>\n",
       "      <td>EDIT</td>\n",
       "      <td>63.157895</td>\n",
       "      <td>GRAZIANO IMPERATORE</td>\n",
       "      <td>VIMERCATI OTTAVIANO</td>\n",
       "      <td>OTTAVIANO VIMERCATI</td>\n",
       "      <td>graziano imperatore</td>\n",
       "      <td>ottaviano vimercati</td>\n",
       "      <td>ottaviano vimercati</td>\n",
       "    </tr>\n",
       "    <tr>\n",
       "      <th>1103</th>\n",
       "      <td>EDIT</td>\n",
       "      <td>64.705882</td>\n",
       "      <td>TIZIANO VECELLIO</td>\n",
       "      <td>AMMIANO MARCELLINO</td>\n",
       "      <td>MARCELLINO AMMIANO</td>\n",
       "      <td>tiziano vecellio</td>\n",
       "      <td>ammiano marcellino</td>\n",
       "      <td>ammiano marcellino</td>\n",
       "    </tr>\n",
       "    <tr>\n",
       "      <th>1265</th>\n",
       "      <td>EDIT</td>\n",
       "      <td>68.750000</td>\n",
       "      <td>DANTE ALIGHIERI</td>\n",
       "      <td>CHIASSERINI DANTE</td>\n",
       "      <td>DANTE CHIASSERINI</td>\n",
       "      <td>alighieri dante</td>\n",
       "      <td>chiasserini dante</td>\n",
       "      <td>chiasserini dante</td>\n",
       "    </tr>\n",
       "    <tr>\n",
       "      <th>292</th>\n",
       "      <td>EDIT</td>\n",
       "      <td>71.428571</td>\n",
       "      <td>COLONNA MARCO ANTONIO</td>\n",
       "      <td>CARLONE CARLO ANTONIO</td>\n",
       "      <td>CARLO ANTONIO CARLONE</td>\n",
       "      <td>antonio colonna marco</td>\n",
       "      <td>antonio carlo carlone</td>\n",
       "      <td>antonio carlo carlone</td>\n",
       "    </tr>\n",
       "    <tr>\n",
       "      <th>...</th>\n",
       "      <td>...</td>\n",
       "      <td>...</td>\n",
       "      <td>...</td>\n",
       "      <td>...</td>\n",
       "      <td>...</td>\n",
       "      <td>...</td>\n",
       "      <td>...</td>\n",
       "      <td>...</td>\n",
       "    </tr>\n",
       "    <tr>\n",
       "      <th>461</th>\n",
       "      <td>EDIT</td>\n",
       "      <td>100.000000</td>\n",
       "      <td>VENINI GIULIO E CORRADO</td>\n",
       "      <td>VENINI GIULIO E CORRADO</td>\n",
       "      <td>GIULIO E CORRADO VENINI</td>\n",
       "      <td>corrado e giulio venini</td>\n",
       "      <td>corrado e giulio venini</td>\n",
       "      <td>corrado e giulio venini</td>\n",
       "    </tr>\n",
       "    <tr>\n",
       "      <th>460</th>\n",
       "      <td>EDIT</td>\n",
       "      <td>100.000000</td>\n",
       "      <td>VEGLIA</td>\n",
       "      <td>VEGLIA</td>\n",
       "      <td>VEGLIA</td>\n",
       "      <td>veglia</td>\n",
       "      <td>veglia</td>\n",
       "      <td>veglia</td>\n",
       "    </tr>\n",
       "    <tr>\n",
       "      <th>459</th>\n",
       "      <td>EDIT</td>\n",
       "      <td>100.000000</td>\n",
       "      <td>VARESE</td>\n",
       "      <td>VARESE</td>\n",
       "      <td>VARESE</td>\n",
       "      <td>varese</td>\n",
       "      <td>varese</td>\n",
       "      <td>varese</td>\n",
       "    </tr>\n",
       "    <tr>\n",
       "      <th>467</th>\n",
       "      <td>EDIT</td>\n",
       "      <td>100.000000</td>\n",
       "      <td>VIMINALE</td>\n",
       "      <td>VIMINALE</td>\n",
       "      <td>VIMINALE</td>\n",
       "      <td>viminale</td>\n",
       "      <td>viminale</td>\n",
       "      <td>viminale</td>\n",
       "    </tr>\n",
       "    <tr>\n",
       "      <th>1380</th>\n",
       "      <td>EDIT</td>\n",
       "      <td>100.000000</td>\n",
       "      <td>NIRONE</td>\n",
       "      <td>NIRONE</td>\n",
       "      <td>NIRONE</td>\n",
       "      <td>nirone</td>\n",
       "      <td>nirone</td>\n",
       "      <td>nirone</td>\n",
       "    </tr>\n",
       "  </tbody>\n",
       "</table>\n",
       "<p>1381 rows × 8 columns</p>\n",
       "</div>"
      ],
      "text/plain": [
       "     measure  similarity                 ubic_via       best_denominazione  \\\n",
       "183     EDIT    0.000000                                       DUOMO (DEL)   \n",
       "1172    EDIT   63.157895      GRAZIANO IMPERATORE      VIMERCATI OTTAVIANO   \n",
       "1103    EDIT   64.705882         TIZIANO VECELLIO       AMMIANO MARCELLINO   \n",
       "1265    EDIT   68.750000          DANTE ALIGHIERI        CHIASSERINI DANTE   \n",
       "292     EDIT   71.428571    COLONNA MARCO ANTONIO    CARLONE CARLO ANTONIO   \n",
       "...      ...         ...                      ...                      ...   \n",
       "461     EDIT  100.000000  VENINI GIULIO E CORRADO  VENINI GIULIO E CORRADO   \n",
       "460     EDIT  100.000000                   VEGLIA                   VEGLIA   \n",
       "459     EDIT  100.000000                   VARESE                   VARESE   \n",
       "467     EDIT  100.000000                 VIMINALE                 VIMINALE   \n",
       "1380    EDIT  100.000000                   NIRONE                   NIRONE   \n",
       "\n",
       "             best_descrittivo      normalized_ubic_via  \\\n",
       "183                 DEL DUOMO                            \n",
       "1172      OTTAVIANO VIMERCATI      graziano imperatore   \n",
       "1103       MARCELLINO AMMIANO         tiziano vecellio   \n",
       "1265        DANTE CHIASSERINI          alighieri dante   \n",
       "292     CARLO ANTONIO CARLONE    antonio colonna marco   \n",
       "...                       ...                      ...   \n",
       "461   GIULIO E CORRADO VENINI  corrado e giulio venini   \n",
       "460                    VEGLIA                   veglia   \n",
       "459                    VARESE                   varese   \n",
       "467                  VIMINALE                 viminale   \n",
       "1380                   NIRONE                   nirone   \n",
       "\n",
       "     best_normalized_denominazione best_normalized_descrittivo  \n",
       "183                      del duomo                   del duomo  \n",
       "1172           ottaviano vimercati         ottaviano vimercati  \n",
       "1103            ammiano marcellino          ammiano marcellino  \n",
       "1265             chiasserini dante           chiasserini dante  \n",
       "292          antonio carlo carlone       antonio carlo carlone  \n",
       "...                            ...                         ...  \n",
       "461        corrado e giulio venini     corrado e giulio venini  \n",
       "460                         veglia                      veglia  \n",
       "459                         varese                      varese  \n",
       "467                       viminale                    viminale  \n",
       "1380                        nirone                      nirone  \n",
       "\n",
       "[1381 rows x 8 columns]"
      ]
     },
     "execution_count": 39,
     "metadata": {},
     "output_type": "execute_result"
    }
   ],
   "source": [
    "# Function to normalize the names\n",
    "def normalize_string(s):\n",
    "    s = re.sub(r\"sant'\\s*\", \"sant'\", s.lower())  # Fix spaces around 'sant'\n",
    "    s = re.sub(r\"dell'\\s*\", \"dell'\", s.lower())  # Fix spaces around 'dell'\n",
    "    s = re.sub(r\"[()]\", \"\", s)  # Remove the parentheses\n",
    "    \n",
    "    # Split the string into words, sort them, and rejoin\n",
    "    words = s.strip().split()\n",
    "    words.sort()\n",
    "    return \" \".join(words)\n",
    "\n",
    "# Pre-normalize the viario DataFrame\n",
    "viario['normalized_descrittivo'] = viario['DESCRITTIVO'].apply(normalize_string)\n",
    "viario['normalized_denominazione'] = viario['DENOMINAZIONE'].apply(normalize_string)\n",
    "\n",
    "# Function to find the best match using pre-normalized viario\n",
    "def find_best_match(ubic_via):\n",
    "\n",
    "    measure = \"EDIT\"\n",
    "    normalized_ubic_via = normalize_string(ubic_via)\n",
    "    \n",
    "    # Compute similarity scores for all rows in viario\n",
    "    viario['similarity_descrittivo'] = viario['normalized_descrittivo'].apply(\n",
    "        lambda x: fuzz.ratio(normalized_ubic_via, x))\n",
    "    viario['similarity_denominazione'] = viario['normalized_denominazione'].apply(\n",
    "        lambda x: fuzz.ratio(normalized_ubic_via, x))\n",
    "    \n",
    "    # Find the best match\n",
    "    viario['similarity'] = viario[['similarity_descrittivo', 'similarity_denominazione']].max(axis=1)\n",
    "    best_match = viario.loc[viario['similarity'].idxmax()]\n",
    "    \n",
    "    return (measure, best_match['similarity'],\n",
    "            ubic_via, best_match['DENOMINAZIONE'],best_match['DESCRITTIVO'],\n",
    "            normalized_ubic_via, best_match['normalized_denominazione'], best_match['normalized_descrittivo'],\n",
    "            )\n",
    "\n",
    "# Process all rows in new_SERVICES\n",
    "results = []\n",
    "\n",
    "for ubic_via in tqdm(new_SERVICES['ubic_via'].unique()):\n",
    "    ubic_via_data = find_best_match(ubic_via)\n",
    "    results.append(ubic_via_data)\n",
    "\n",
    "# Convert results to DataFrame for analysis\n",
    "columns = ['measure','similarity',\n",
    "            'ubic_via', 'best_denominazione', 'best_descrittivo', 'normalized_ubic_via',\n",
    "            'best_normalized_denominazione', 'best_normalized_descrittivo', \n",
    "            ]\n",
    "check_matching_df = pd.DataFrame(results, columns=columns)\n",
    "\n",
    "# Show the rows with low similarity\n",
    "print(f\"Rows where normalized 'ubic_via' and 'DESCRITTIVO'/'DENOMINAZIONE' are not similar enough (below {threshold}% Edit Distance similarity):\")\n",
    "check_matching_df.sort_values(by=\"similarity\", ascending=True)"
   ]
  },
  {
   "cell_type": "markdown",
   "id": "ea283020",
   "metadata": {
    "papermill": {
     "duration": 0.027279,
     "end_time": "2025-01-18T15:53:41.799262",
     "exception": false,
     "start_time": "2025-01-18T15:53:41.771983",
     "status": "completed"
    },
    "tags": []
   },
   "source": [
    "Some rows fall below the minimum similarity threshold of 75% when evaluated using edit distance. To gain further insight into these records, we reanalyze them using the **Jaccard** similarity measure."
   ]
  },
  {
   "cell_type": "code",
   "execution_count": 40,
   "id": "31514dea",
   "metadata": {
    "execution": {
     "iopub.execute_input": "2025-01-18T15:53:41.856229Z",
     "iopub.status.busy": "2025-01-18T15:53:41.855835Z",
     "iopub.status.idle": "2025-01-18T15:54:12.555523Z",
     "shell.execute_reply": "2025-01-18T15:54:12.554405Z"
    },
    "papermill": {
     "duration": 30.748011,
     "end_time": "2025-01-18T15:54:12.574494",
     "exception": false,
     "start_time": "2025-01-18T15:53:41.826483",
     "status": "completed"
    },
    "tags": []
   },
   "outputs": [
    {
     "name": "stderr",
     "output_type": "stream",
     "text": [
      "100%|██████████| 7/7 [00:30<00:00,  4.38s/it]"
     ]
    },
    {
     "name": "stdout",
     "output_type": "stream",
     "text": [
      "Updated non_matching_df with Jaccard similarity:\n"
     ]
    },
    {
     "name": "stderr",
     "output_type": "stream",
     "text": [
      "\n"
     ]
    },
    {
     "data": {
      "text/html": [
       "<div>\n",
       "<style scoped>\n",
       "    .dataframe tbody tr th:only-of-type {\n",
       "        vertical-align: middle;\n",
       "    }\n",
       "\n",
       "    .dataframe tbody tr th {\n",
       "        vertical-align: top;\n",
       "    }\n",
       "\n",
       "    .dataframe thead th {\n",
       "        text-align: right;\n",
       "    }\n",
       "</style>\n",
       "<table border=\"1\" class=\"dataframe\">\n",
       "  <thead>\n",
       "    <tr style=\"text-align: right;\">\n",
       "      <th></th>\n",
       "      <th>measure</th>\n",
       "      <th>similarity</th>\n",
       "      <th>ubic_via</th>\n",
       "      <th>best_denominazione</th>\n",
       "      <th>best_descrittivo</th>\n",
       "      <th>normalized_ubic_via</th>\n",
       "      <th>best_normalized_denominazione</th>\n",
       "      <th>best_normalized_descrittivo</th>\n",
       "    </tr>\n",
       "  </thead>\n",
       "  <tbody>\n",
       "    <tr>\n",
       "      <th>183</th>\n",
       "      <td>JACCARD</td>\n",
       "      <td>0.0</td>\n",
       "      <td></td>\n",
       "      <td>DUOMO (DEL)</td>\n",
       "      <td>DEL DUOMO</td>\n",
       "      <td></td>\n",
       "      <td>del duomo</td>\n",
       "      <td>del duomo</td>\n",
       "    </tr>\n",
       "    <tr>\n",
       "      <th>292</th>\n",
       "      <td>JACCARD</td>\n",
       "      <td>50.0</td>\n",
       "      <td>COLONNA MARCO ANTONIO</td>\n",
       "      <td>BRAGADINO MARCO ANTONIO</td>\n",
       "      <td>MARCO ANTONIO BRAGADINO</td>\n",
       "      <td>antonio colonna marco</td>\n",
       "      <td>antonio bragadino marco</td>\n",
       "      <td>antonio bragadino marco</td>\n",
       "    </tr>\n",
       "    <tr>\n",
       "      <th>1172</th>\n",
       "      <td>JACCARD</td>\n",
       "      <td>50.0</td>\n",
       "      <td>GRAZIANO IMPERATORE</td>\n",
       "      <td>GRAZIANO</td>\n",
       "      <td>GRAZIANO</td>\n",
       "      <td>graziano imperatore</td>\n",
       "      <td>graziano</td>\n",
       "      <td>graziano</td>\n",
       "    </tr>\n",
       "    <tr>\n",
       "      <th>1265</th>\n",
       "      <td>JACCARD</td>\n",
       "      <td>50.0</td>\n",
       "      <td>DANTE ALIGHIERI</td>\n",
       "      <td>DANTE</td>\n",
       "      <td>DANTE</td>\n",
       "      <td>alighieri dante</td>\n",
       "      <td>dante</td>\n",
       "      <td>dante</td>\n",
       "    </tr>\n",
       "    <tr>\n",
       "      <th>1103</th>\n",
       "      <td>JACCARD</td>\n",
       "      <td>50.0</td>\n",
       "      <td>TIZIANO VECELLIO</td>\n",
       "      <td>TIZIANO</td>\n",
       "      <td>TIZIANO</td>\n",
       "      <td>tiziano vecellio</td>\n",
       "      <td>tiziano</td>\n",
       "      <td>tiziano</td>\n",
       "    </tr>\n",
       "    <tr>\n",
       "      <th>...</th>\n",
       "      <td>...</td>\n",
       "      <td>...</td>\n",
       "      <td>...</td>\n",
       "      <td>...</td>\n",
       "      <td>...</td>\n",
       "      <td>...</td>\n",
       "      <td>...</td>\n",
       "      <td>...</td>\n",
       "    </tr>\n",
       "    <tr>\n",
       "      <th>461</th>\n",
       "      <td>EDIT</td>\n",
       "      <td>100.0</td>\n",
       "      <td>VENINI GIULIO E CORRADO</td>\n",
       "      <td>VENINI GIULIO E CORRADO</td>\n",
       "      <td>GIULIO E CORRADO VENINI</td>\n",
       "      <td>corrado e giulio venini</td>\n",
       "      <td>corrado e giulio venini</td>\n",
       "      <td>corrado e giulio venini</td>\n",
       "    </tr>\n",
       "    <tr>\n",
       "      <th>460</th>\n",
       "      <td>EDIT</td>\n",
       "      <td>100.0</td>\n",
       "      <td>VEGLIA</td>\n",
       "      <td>VEGLIA</td>\n",
       "      <td>VEGLIA</td>\n",
       "      <td>veglia</td>\n",
       "      <td>veglia</td>\n",
       "      <td>veglia</td>\n",
       "    </tr>\n",
       "    <tr>\n",
       "      <th>459</th>\n",
       "      <td>EDIT</td>\n",
       "      <td>100.0</td>\n",
       "      <td>VARESE</td>\n",
       "      <td>VARESE</td>\n",
       "      <td>VARESE</td>\n",
       "      <td>varese</td>\n",
       "      <td>varese</td>\n",
       "      <td>varese</td>\n",
       "    </tr>\n",
       "    <tr>\n",
       "      <th>467</th>\n",
       "      <td>EDIT</td>\n",
       "      <td>100.0</td>\n",
       "      <td>VIMINALE</td>\n",
       "      <td>VIMINALE</td>\n",
       "      <td>VIMINALE</td>\n",
       "      <td>viminale</td>\n",
       "      <td>viminale</td>\n",
       "      <td>viminale</td>\n",
       "    </tr>\n",
       "    <tr>\n",
       "      <th>1380</th>\n",
       "      <td>EDIT</td>\n",
       "      <td>100.0</td>\n",
       "      <td>NIRONE</td>\n",
       "      <td>NIRONE</td>\n",
       "      <td>NIRONE</td>\n",
       "      <td>nirone</td>\n",
       "      <td>nirone</td>\n",
       "      <td>nirone</td>\n",
       "    </tr>\n",
       "  </tbody>\n",
       "</table>\n",
       "<p>1381 rows × 8 columns</p>\n",
       "</div>"
      ],
      "text/plain": [
       "      measure  similarity                 ubic_via       best_denominazione  \\\n",
       "183   JACCARD         0.0                                       DUOMO (DEL)   \n",
       "292   JACCARD        50.0    COLONNA MARCO ANTONIO  BRAGADINO MARCO ANTONIO   \n",
       "1172  JACCARD        50.0      GRAZIANO IMPERATORE                 GRAZIANO   \n",
       "1265  JACCARD        50.0          DANTE ALIGHIERI                    DANTE   \n",
       "1103  JACCARD        50.0         TIZIANO VECELLIO                 TIZIANO    \n",
       "...       ...         ...                      ...                      ...   \n",
       "461      EDIT       100.0  VENINI GIULIO E CORRADO  VENINI GIULIO E CORRADO   \n",
       "460      EDIT       100.0                   VEGLIA                   VEGLIA   \n",
       "459      EDIT       100.0                   VARESE                   VARESE   \n",
       "467      EDIT       100.0                 VIMINALE                 VIMINALE   \n",
       "1380     EDIT       100.0                   NIRONE                   NIRONE   \n",
       "\n",
       "             best_descrittivo      normalized_ubic_via  \\\n",
       "183                 DEL DUOMO                            \n",
       "292   MARCO ANTONIO BRAGADINO    antonio colonna marco   \n",
       "1172                 GRAZIANO      graziano imperatore   \n",
       "1265                    DANTE          alighieri dante   \n",
       "1103                  TIZIANO         tiziano vecellio   \n",
       "...                       ...                      ...   \n",
       "461   GIULIO E CORRADO VENINI  corrado e giulio venini   \n",
       "460                    VEGLIA                   veglia   \n",
       "459                    VARESE                   varese   \n",
       "467                  VIMINALE                 viminale   \n",
       "1380                   NIRONE                   nirone   \n",
       "\n",
       "     best_normalized_denominazione best_normalized_descrittivo  \n",
       "183                      del duomo                   del duomo  \n",
       "292        antonio bragadino marco     antonio bragadino marco  \n",
       "1172                      graziano                    graziano  \n",
       "1265                         dante                       dante  \n",
       "1103                       tiziano                     tiziano  \n",
       "...                            ...                         ...  \n",
       "461        corrado e giulio venini     corrado e giulio venini  \n",
       "460                         veglia                      veglia  \n",
       "459                         varese                      varese  \n",
       "467                       viminale                    viminale  \n",
       "1380                        nirone                      nirone  \n",
       "\n",
       "[1381 rows x 8 columns]"
      ]
     },
     "execution_count": 40,
     "metadata": {},
     "output_type": "execute_result"
    }
   ],
   "source": [
    "# Function to compute Jaccard similarity\n",
    "def compute_jaccard(s1, s2):\n",
    "    vectorizer = CountVectorizer().fit_transform([s1, s2])\n",
    "    vectors = vectorizer.toarray()\n",
    "    return 1 - jaccard(vectors[0], vectors[1])\n",
    "\n",
    "# Function to compute Jaccard similarity for all rows in viario and update non_matching_df\n",
    "def compute_jaccard_for_all_rows():\n",
    "    for index, row in tqdm(check_matching_df[check_matching_df.similarity < 77].iterrows(), total=len(check_matching_df[check_matching_df.similarity < 77])):\n",
    "        normalized_ubic_via = row['normalized_ubic_via']\n",
    "        \n",
    "        # Compute Jaccard similarity for 'descrittivo' and 'denominazione' for all rows in viario\n",
    "        viario['jaccard_descrittivo'] = viario['normalized_descrittivo'].apply(\n",
    "            lambda x: compute_jaccard(normalized_ubic_via, x))\n",
    "        viario['jaccard_denominazione'] = viario['normalized_denominazione'].apply(\n",
    "            lambda x: compute_jaccard(normalized_ubic_via, x))\n",
    "        \n",
    "        # Take the maximum Jaccard similarity (between 'descrittivo' and 'denominazione')\n",
    "        viario['jaccard_similarity'] = viario[['jaccard_descrittivo', 'jaccard_denominazione']].max(axis=1)\n",
    "        \n",
    "        # Find the best match based on the highest Jaccard similarity\n",
    "        best_match = viario.loc[viario['jaccard_similarity'].idxmax()]\n",
    "        \n",
    "        # Update the non_matching_df with the best match and Jaccard similarity\n",
    "        check_matching_df.at[index, 'best_normalized_descrittivo'] = best_match['normalized_descrittivo']\n",
    "        check_matching_df.at[index, 'best_normalized_denominazione'] = best_match['normalized_denominazione']\n",
    "        check_matching_df.at[index, 'best_descrittivo'] = best_match['DESCRITTIVO']\n",
    "        check_matching_df.at[index, 'best_denominazione'] = best_match['DENOMINAZIONE']\n",
    "        check_matching_df.at[index, 'measure'] = \"JACCARD\"\n",
    "        check_matching_df.at[index, 'similarity'] = best_match['jaccard_similarity'] * 100\n",
    "\n",
    "# Run Jaccard computation for all rows in viario and update non_matching_df\n",
    "compute_jaccard_for_all_rows()\n",
    "\n",
    "# Show the updated non_matching_df with Jaccard similarity values\n",
    "print(f\"Updated non_matching_df with Jaccard similarity:\")\n",
    "check_matching_df.sort_values(by=\"similarity\")"
   ]
  },
  {
   "cell_type": "markdown",
   "id": "28b84a61",
   "metadata": {
    "papermill": {
     "duration": 0.027497,
     "end_time": "2025-01-18T15:54:12.630838",
     "exception": false,
     "start_time": "2025-01-18T15:54:12.603341",
     "status": "completed"
    },
    "tags": []
   },
   "source": [
    "With the exception of two rows, which could not be recognized due to missing values in the `ubic_via` column, most of the rows now exhibit a similarity of 50% or greater, indicating that their addresses match semantically. As a result, the `ubic_via` column can now be standardized to align with the format of the `viario.DESCRITTIVO` column."
   ]
  },
  {
   "cell_type": "code",
   "execution_count": 41,
   "id": "d4c300cc",
   "metadata": {
    "execution": {
     "iopub.execute_input": "2025-01-18T15:54:12.691330Z",
     "iopub.status.busy": "2025-01-18T15:54:12.690957Z",
     "iopub.status.idle": "2025-01-18T15:54:15.513513Z",
     "shell.execute_reply": "2025-01-18T15:54:15.512336Z"
    },
    "papermill": {
     "duration": 2.855031,
     "end_time": "2025-01-18T15:54:15.515342",
     "exception": false,
     "start_time": "2025-01-18T15:54:12.660311",
     "status": "completed"
    },
    "tags": []
   },
   "outputs": [
    {
     "data": {
      "text/html": [
       "<div>\n",
       "<style scoped>\n",
       "    .dataframe tbody tr th:only-of-type {\n",
       "        vertical-align: middle;\n",
       "    }\n",
       "\n",
       "    .dataframe tbody tr th {\n",
       "        vertical-align: top;\n",
       "    }\n",
       "\n",
       "    .dataframe thead th {\n",
       "        text-align: right;\n",
       "    }\n",
       "</style>\n",
       "<table border=\"1\" class=\"dataframe\">\n",
       "  <thead>\n",
       "    <tr style=\"text-align: right;\">\n",
       "      <th></th>\n",
       "      <th>t_es</th>\n",
       "      <th>t_via</th>\n",
       "      <th>via</th>\n",
       "      <th>civ</th>\n",
       "      <th>cod_via</th>\n",
       "      <th>zd</th>\n",
       "      <th>sup_alt</th>\n",
       "      <th>sup_lav</th>\n",
       "      <th>ubic_t_via</th>\n",
       "      <th>ubic_via</th>\n",
       "      <th>ubic_civ</th>\n",
       "      <th>ubic_zd</th>\n",
       "      <th>note</th>\n",
       "    </tr>\n",
       "  </thead>\n",
       "  <tbody>\n",
       "    <tr>\n",
       "      <th>0</th>\n",
       "      <td></td>\n",
       "      <td>Largo</td>\n",
       "      <td>DEI GELSOMINI</td>\n",
       "      <td>10</td>\n",
       "      <td>5394</td>\n",
       "      <td>6</td>\n",
       "      <td>NaN</td>\n",
       "      <td>55.0</td>\n",
       "      <td>Largo</td>\n",
       "      <td>DEI GELSOMINI</td>\n",
       "      <td>10</td>\n",
       "      <td>6</td>\n",
       "      <td>NaN</td>\n",
       "    </tr>\n",
       "    <tr>\n",
       "      <th>1</th>\n",
       "      <td>Centro Massaggi</td>\n",
       "      <td>Piazza</td>\n",
       "      <td>FIDIA</td>\n",
       "      <td>3</td>\n",
       "      <td>1144</td>\n",
       "      <td>9</td>\n",
       "      <td>2.0</td>\n",
       "      <td>28.0</td>\n",
       "      <td>Piazza</td>\n",
       "      <td>FIDIA</td>\n",
       "      <td>3</td>\n",
       "      <td>9</td>\n",
       "      <td>NaN</td>\n",
       "    </tr>\n",
       "    <tr>\n",
       "      <th>2</th>\n",
       "      <td>Centro Benessere</td>\n",
       "      <td>Via</td>\n",
       "      <td>ADIGE</td>\n",
       "      <td>10</td>\n",
       "      <td>4216</td>\n",
       "      <td>5</td>\n",
       "      <td>2.0</td>\n",
       "      <td>27.0</td>\n",
       "      <td>Via</td>\n",
       "      <td>ADIGE</td>\n",
       "      <td>10</td>\n",
       "      <td>5</td>\n",
       "      <td>NaN</td>\n",
       "    </tr>\n",
       "    <tr>\n",
       "      <th>3</th>\n",
       "      <td>Truccatore</td>\n",
       "      <td>Via</td>\n",
       "      <td>FLAVIO BARACCHINI</td>\n",
       "      <td>9</td>\n",
       "      <td>356</td>\n",
       "      <td>1</td>\n",
       "      <td>NaN</td>\n",
       "      <td>NaN</td>\n",
       "      <td>Via</td>\n",
       "      <td>FLAVIO BARACCHINI</td>\n",
       "      <td>9</td>\n",
       "      <td>1</td>\n",
       "      <td>NaN</td>\n",
       "    </tr>\n",
       "    <tr>\n",
       "      <th>4</th>\n",
       "      <td></td>\n",
       "      <td>Via</td>\n",
       "      <td>BERGAMO</td>\n",
       "      <td>12</td>\n",
       "      <td>3189</td>\n",
       "      <td>4</td>\n",
       "      <td>NaN</td>\n",
       "      <td>50.0</td>\n",
       "      <td>Via</td>\n",
       "      <td>BERGAMO</td>\n",
       "      <td>12</td>\n",
       "      <td>4</td>\n",
       "      <td>NaN</td>\n",
       "    </tr>\n",
       "  </tbody>\n",
       "</table>\n",
       "</div>"
      ],
      "text/plain": [
       "               t_es   t_via                via civ cod_via zd  sup_alt  \\\n",
       "0                     Largo      DEI GELSOMINI  10    5394  6      NaN   \n",
       "1   Centro Massaggi  Piazza              FIDIA   3    1144  9      2.0   \n",
       "2  Centro Benessere     Via              ADIGE  10    4216  5      2.0   \n",
       "3        Truccatore     Via  FLAVIO BARACCHINI   9     356  1      NaN   \n",
       "4                       Via            BERGAMO  12    3189  4      NaN   \n",
       "\n",
       "   sup_lav ubic_t_via           ubic_via ubic_civ ubic_zd note  \n",
       "0     55.0      Largo      DEI GELSOMINI       10       6  NaN  \n",
       "1     28.0     Piazza              FIDIA        3       9  NaN  \n",
       "2     27.0        Via              ADIGE       10       5  NaN  \n",
       "3      NaN        Via  FLAVIO BARACCHINI        9       1  NaN  \n",
       "4     50.0        Via            BERGAMO       12       4  NaN  "
      ]
     },
     "execution_count": 41,
     "metadata": {},
     "output_type": "execute_result"
    }
   ],
   "source": [
    "# Step 1: Merge new_SERVICES with check_matching_df on 'ubic_via'\n",
    "merged_df = new_SERVICES.merge(check_matching_df[['ubic_via', 'best_descrittivo', 'similarity']], \n",
    "                               on='ubic_via', how='left')\n",
    "\n",
    "# Step 2: Filter rows where similarity >= 50\n",
    "filtered_df = merged_df[merged_df['similarity'] >= 50]\n",
    "\n",
    "# Step 3: Update the 'ubic_via' column in new_SERVICES with 'DENOMINAZIONE' from check_matching_df where similarity >= 50\n",
    "for index, row in filtered_df.iterrows():\n",
    "    new_SERVICES.loc[new_SERVICES['ubic_via'] == row['ubic_via'], 'ubic_via'] = row['best_descrittivo']\n",
    "\n",
    "new_SERVICES.head()"
   ]
  },
  {
   "cell_type": "markdown",
   "id": "1a2da05c",
   "metadata": {
    "papermill": {
     "duration": 0.027678,
     "end_time": "2025-01-18T15:54:15.572735",
     "exception": false,
     "start_time": "2025-01-18T15:54:15.545057",
     "status": "completed"
    },
    "tags": []
   },
   "source": [
    "## Error Detection and Correction\n",
    "### UBIC-VIA: Solve Mismatches\n",
    "\n",
    "The goal is to resolve mismatches between the `ubic` columns (`ubic_t_via`, `ubic_via`, `ubic_civ`, `ubic_zd`) and the corresponding main columns (`t_via`, `via`, `civ`, `zd`). Mismatches are identified by comparing values in these columns. \n",
    "\n",
    "Once detected, corrections are made by updating the values to ensure consistency, improving the dataset's quality and accuracy for analysis."
   ]
  },
  {
   "cell_type": "code",
   "execution_count": 42,
   "id": "c1a913cf",
   "metadata": {
    "execution": {
     "iopub.execute_input": "2025-01-18T15:54:15.631223Z",
     "iopub.status.busy": "2025-01-18T15:54:15.630864Z",
     "iopub.status.idle": "2025-01-18T15:54:15.663108Z",
     "shell.execute_reply": "2025-01-18T15:54:15.661794Z"
    },
    "papermill": {
     "duration": 0.063808,
     "end_time": "2025-01-18T15:54:15.665269",
     "exception": false,
     "start_time": "2025-01-18T15:54:15.601461",
     "status": "completed"
    },
    "tags": []
   },
   "outputs": [
    {
     "name": "stdout",
     "output_type": "stream",
     "text": [
      "Summary of mismatches:\n",
      "\n",
      "Mismatch Type        Number of Mismatches\n",
      "========================================\n",
      "note empty           \t\t396                 \n",
      "t_via not match      \t\t20                  \n",
      "civ not match        \t\t150                 \n",
      "via not match        \t\t76                  \n",
      "zd not match         \t\t17                  \n"
     ]
    }
   ],
   "source": [
    "# Initialize dictionary to store mismatches\n",
    "mismatch_rows = {\n",
    "    \"note empty\": [],\n",
    "    \"t_via not match\": [],\n",
    "    \"civ not match\": [],\n",
    "    \"via not match\": [],\n",
    "    \"zd not match\": [],\n",
    "}\n",
    "\n",
    "# Function to check conditions and log mismatched rows\n",
    "def check_and_log_mismatches(new_SERVICES):\n",
    "    # Create masks for each condition (True if mismatch, False if match)\n",
    "    note_not_empty_condition = ~new_SERVICES['note'].isna()\n",
    "    t_via_not_match_condition = new_SERVICES[\"t_via\"] != new_SERVICES[\"ubic_t_via\"]\n",
    "    civ_not_match_condition = new_SERVICES[\"civ\"] != new_SERVICES[\"ubic_civ\"]\n",
    "    via_not_match_condition = new_SERVICES[\"via\"] != new_SERVICES[\"ubic_via\"]\n",
    "    zd_not_match_condition = new_SERVICES[\"zd\"] != new_SERVICES[\"ubic_zd\"]\n",
    "    \n",
    "    # Apply the conditions to filter rows and store them in the corresponding lists\n",
    "    mismatch_rows[\"note empty\"] = new_SERVICES[note_not_empty_condition].to_dict(orient='records')\n",
    "    mismatch_rows[\"t_via not match\"] = new_SERVICES[t_via_not_match_condition].to_dict(orient='records')\n",
    "    mismatch_rows[\"civ not match\"] = new_SERVICES[civ_not_match_condition].to_dict(orient='records')\n",
    "    mismatch_rows[\"via not match\"] = new_SERVICES[via_not_match_condition].to_dict(orient='records')\n",
    "    mismatch_rows[\"zd not match\"] = new_SERVICES[zd_not_match_condition].to_dict(orient='records')\n",
    "    \n",
    "    return new_SERVICES\n",
    "\n",
    "# Apply the function to check and log mismatches\n",
    "new_SERVICES = check_and_log_mismatches(new_SERVICES)\n",
    "\n",
    "# Print summary of mismatches with aligned output\n",
    "print(\"Summary of mismatches:\\n\")\n",
    "# Print a header row with column names\n",
    "print(f\"{'Mismatch Type':<20} {'Number of Mismatches':<20}\")\n",
    "print(\"=\"*40)  # Separator for clarity\n",
    "\n",
    "# Iterate over mismatch_rows and print each mismatch type and its count\n",
    "for key, value in mismatch_rows.items():\n",
    "    print(f\"{key:<20} \\t\\t{len(value):<20}\")"
   ]
  },
  {
   "cell_type": "markdown",
   "id": "6c2f37f9",
   "metadata": {
    "papermill": {
     "duration": 0.028106,
     "end_time": "2025-01-18T15:54:15.722326",
     "exception": false,
     "start_time": "2025-01-18T15:54:15.694220",
     "status": "completed"
    },
    "tags": []
   },
   "source": [
    "Check if the full `ubic` and `via_full` addresses are included in the dataset of **civici**."
   ]
  },
  {
   "cell_type": "code",
   "execution_count": 43,
   "id": "15b2850b",
   "metadata": {
    "execution": {
     "iopub.execute_input": "2025-01-18T15:54:15.780444Z",
     "iopub.status.busy": "2025-01-18T15:54:15.780015Z",
     "iopub.status.idle": "2025-01-18T15:56:17.507304Z",
     "shell.execute_reply": "2025-01-18T15:56:17.505066Z"
    },
    "papermill": {
     "duration": 121.758733,
     "end_time": "2025-01-18T15:56:17.509419",
     "exception": false,
     "start_time": "2025-01-18T15:54:15.750686",
     "status": "completed"
    },
    "tags": []
   },
   "outputs": [
    {
     "name": "stderr",
     "output_type": "stream",
     "text": [
      "100%|██████████| 3908/3908 [02:01<00:00, 32.11it/s]\n"
     ]
    },
    {
     "data": {
      "text/html": [
       "<div>\n",
       "<style scoped>\n",
       "    .dataframe tbody tr th:only-of-type {\n",
       "        vertical-align: middle;\n",
       "    }\n",
       "\n",
       "    .dataframe tbody tr th {\n",
       "        vertical-align: top;\n",
       "    }\n",
       "\n",
       "    .dataframe thead th {\n",
       "        text-align: right;\n",
       "    }\n",
       "</style>\n",
       "<table border=\"1\" class=\"dataframe\">\n",
       "  <thead>\n",
       "    <tr style=\"text-align: right;\">\n",
       "      <th></th>\n",
       "      <th>t_es</th>\n",
       "      <th>t_via</th>\n",
       "      <th>via</th>\n",
       "      <th>civ</th>\n",
       "      <th>cod_via</th>\n",
       "      <th>zd</th>\n",
       "      <th>sup_alt</th>\n",
       "      <th>sup_lav</th>\n",
       "      <th>ubic_t_via</th>\n",
       "      <th>ubic_via</th>\n",
       "      <th>ubic_civ</th>\n",
       "      <th>ubic_zd</th>\n",
       "      <th>note</th>\n",
       "      <th>full_via_flag</th>\n",
       "      <th>ubic_flag</th>\n",
       "    </tr>\n",
       "  </thead>\n",
       "  <tbody>\n",
       "    <tr>\n",
       "      <th>0</th>\n",
       "      <td></td>\n",
       "      <td>Largo</td>\n",
       "      <td>DEI GELSOMINI</td>\n",
       "      <td>10</td>\n",
       "      <td>5394</td>\n",
       "      <td>6</td>\n",
       "      <td>NaN</td>\n",
       "      <td>55.0</td>\n",
       "      <td>Largo</td>\n",
       "      <td>DEI GELSOMINI</td>\n",
       "      <td>10</td>\n",
       "      <td>6</td>\n",
       "      <td>NaN</td>\n",
       "      <td>True</td>\n",
       "      <td>True</td>\n",
       "    </tr>\n",
       "    <tr>\n",
       "      <th>1</th>\n",
       "      <td>Centro Massaggi</td>\n",
       "      <td>Piazza</td>\n",
       "      <td>FIDIA</td>\n",
       "      <td>3</td>\n",
       "      <td>1144</td>\n",
       "      <td>9</td>\n",
       "      <td>2.0</td>\n",
       "      <td>28.0</td>\n",
       "      <td>Piazza</td>\n",
       "      <td>FIDIA</td>\n",
       "      <td>3</td>\n",
       "      <td>9</td>\n",
       "      <td>NaN</td>\n",
       "      <td>True</td>\n",
       "      <td>True</td>\n",
       "    </tr>\n",
       "    <tr>\n",
       "      <th>2</th>\n",
       "      <td>Centro Benessere</td>\n",
       "      <td>Via</td>\n",
       "      <td>ADIGE</td>\n",
       "      <td>10</td>\n",
       "      <td>4216</td>\n",
       "      <td>5</td>\n",
       "      <td>2.0</td>\n",
       "      <td>27.0</td>\n",
       "      <td>Via</td>\n",
       "      <td>ADIGE</td>\n",
       "      <td>10</td>\n",
       "      <td>5</td>\n",
       "      <td>NaN</td>\n",
       "      <td>True</td>\n",
       "      <td>True</td>\n",
       "    </tr>\n",
       "    <tr>\n",
       "      <th>3</th>\n",
       "      <td>Truccatore</td>\n",
       "      <td>Via</td>\n",
       "      <td>FLAVIO BARACCHINI</td>\n",
       "      <td>9</td>\n",
       "      <td>356</td>\n",
       "      <td>1</td>\n",
       "      <td>NaN</td>\n",
       "      <td>NaN</td>\n",
       "      <td>Via</td>\n",
       "      <td>FLAVIO BARACCHINI</td>\n",
       "      <td>9</td>\n",
       "      <td>1</td>\n",
       "      <td>NaN</td>\n",
       "      <td>True</td>\n",
       "      <td>True</td>\n",
       "    </tr>\n",
       "    <tr>\n",
       "      <th>4</th>\n",
       "      <td></td>\n",
       "      <td>Via</td>\n",
       "      <td>BERGAMO</td>\n",
       "      <td>12</td>\n",
       "      <td>3189</td>\n",
       "      <td>4</td>\n",
       "      <td>NaN</td>\n",
       "      <td>50.0</td>\n",
       "      <td>Via</td>\n",
       "      <td>BERGAMO</td>\n",
       "      <td>12</td>\n",
       "      <td>4</td>\n",
       "      <td>NaN</td>\n",
       "      <td>True</td>\n",
       "      <td>True</td>\n",
       "    </tr>\n",
       "  </tbody>\n",
       "</table>\n",
       "</div>"
      ],
      "text/plain": [
       "               t_es   t_via                via civ cod_via zd  sup_alt  \\\n",
       "0                     Largo      DEI GELSOMINI  10    5394  6      NaN   \n",
       "1   Centro Massaggi  Piazza              FIDIA   3    1144  9      2.0   \n",
       "2  Centro Benessere     Via              ADIGE  10    4216  5      2.0   \n",
       "3        Truccatore     Via  FLAVIO BARACCHINI   9     356  1      NaN   \n",
       "4                       Via            BERGAMO  12    3189  4      NaN   \n",
       "\n",
       "   sup_lav ubic_t_via           ubic_via ubic_civ ubic_zd note  full_via_flag  \\\n",
       "0     55.0      Largo      DEI GELSOMINI       10       6  NaN           True   \n",
       "1     28.0     Piazza              FIDIA        3       9  NaN           True   \n",
       "2     27.0        Via              ADIGE       10       5  NaN           True   \n",
       "3      NaN        Via  FLAVIO BARACCHINI        9       1  NaN           True   \n",
       "4     50.0        Via            BERGAMO       12       4  NaN           True   \n",
       "\n",
       "   ubic_flag  \n",
       "0       True  \n",
       "1       True  \n",
       "2       True  \n",
       "3       True  \n",
       "4       True  "
      ]
     },
     "execution_count": 43,
     "metadata": {},
     "output_type": "execute_result"
    }
   ],
   "source": [
    "# Define the function to check full_via existence\n",
    "def check_full_via_exists(row, civici_df):\n",
    "    # Check if the necessary columns contain NaN values\n",
    "    if pd.isna(row['ubic_t_via']) or pd.isna(row['ubic_via']) or pd.isna(row['t_via']) or pd.isna(row['via']):\n",
    "        return [False, False]  # Return [False, False] if any critical columns have NaN values\n",
    "\n",
    "    # Combine the address components if valid\n",
    "    full_via_ubic = (row['ubic_t_via'].strip() + \" \" + row['ubic_via'].strip())\n",
    "    full_via_via = (row['t_via'].strip() + \" \" + row['via'].strip())\n",
    "\n",
    "    # Check if full_via_ubic exists in civici.DESCRITTIVO and match NUMEROCOMPLETO and MUNICIPIO\n",
    "    match_ubic = civici_df[(civici_df['DESCRITTIVO'] == full_via_ubic) &\n",
    "                           (civici_df['NUMEROCOMPLETO'] == row['ubic_civ']) &\n",
    "                           (civici_df['MUNICIPIO'] == row['ubic_zd'].strip())]\n",
    "\n",
    "    # Check if full_via_via exists in civici.DESCRITTIVO and match NUMEROCOMPLETO and MUNICIPIO\n",
    "    match_via = civici_df[(civici_df['DESCRITTIVO'] == full_via_via) &\n",
    "                          (civici_df['NUMEROCOMPLETO'] == row['civ']) &\n",
    "                          (civici_df['MUNICIPIO'] == row['zd'].strip())]\n",
    "\n",
    "    # Return flags as a list\n",
    "    return [len(match_via) > 0, len(match_ubic) > 0]\n",
    "\n",
    "# Enable tqdm for pandas\n",
    "tqdm.pandas()\n",
    "\n",
    "# Apply the check function to each row in your dataset\n",
    "new_SERVICES[['full_via_flag', 'ubic_flag']] = new_SERVICES.progress_apply(\n",
    "    lambda row: pd.Series(check_full_via_exists(row, civici)), axis=1\n",
    ")\n",
    "\n",
    "# Show the result\n",
    "new_SERVICES.head()"
   ]
  },
  {
   "cell_type": "markdown",
   "id": "067ccf34",
   "metadata": {
    "papermill": {
     "duration": 0.07963,
     "end_time": "2025-01-18T15:56:17.672838",
     "exception": false,
     "start_time": "2025-01-18T15:56:17.593208",
     "status": "completed"
    },
    "tags": []
   },
   "source": []
  },
  {
   "cell_type": "code",
   "execution_count": 44,
   "id": "39e886e2",
   "metadata": {
    "execution": {
     "iopub.execute_input": "2025-01-18T15:56:17.841853Z",
     "iopub.status.busy": "2025-01-18T15:56:17.841460Z",
     "iopub.status.idle": "2025-01-18T15:56:17.853850Z",
     "shell.execute_reply": "2025-01-18T15:56:17.852516Z"
    },
    "papermill": {
     "duration": 0.098788,
     "end_time": "2025-01-18T15:56:17.855889",
     "exception": false,
     "start_time": "2025-01-18T15:56:17.757101",
     "status": "completed"
    },
    "tags": []
   },
   "outputs": [
    {
     "name": "stdout",
     "output_type": "stream",
     "text": [
      "The number of valid adresses from 'ubic' column composition is 3820.\n",
      "\n",
      "The number of valid adresses from 't_via', 'via', 'civ' and 'zd'  composition is 3823.\n"
     ]
    }
   ],
   "source": [
    "valid_addresses = new_SERVICES.loc[new_SERVICES['ubic_flag'] == True]\n",
    "print(\"The number of valid adresses from 'ubic' column composition is {}.\\n\".format(len(valid_addresses)))\n",
    "\n",
    "valid_addresses = new_SERVICES.loc[new_SERVICES['full_via_flag'] == True]\n",
    "print(\"The number of valid adresses from 't_via', 'via', 'civ' and 'zd'  composition is {}.\".format(len(valid_addresses)))"
   ]
  },
  {
   "cell_type": "markdown",
   "id": "a0db6e4f",
   "metadata": {
    "papermill": {
     "duration": 0.080144,
     "end_time": "2025-01-18T15:56:18.017804",
     "exception": false,
     "start_time": "2025-01-18T15:56:17.937660",
     "status": "completed"
    },
    "tags": []
   },
   "source": [
    "We perform two filtering steps on the dataset to improve the reliability of our analysis. The reasoning behind these steps is as follows:\n",
    "\n",
    "1. **First Filtering: Rows with Both Flags True but Mismatched Values**  \n",
    "   We drop rows where both `ubic_flag` and `full_via_flag` are `True`, but the corresponding values (`via`, `ubic_via`, `zd`, `ubic_zd`, `civ`, `ubic_civ`) do not match.  \n",
    "   - **Reason**: When both flags indicate correctness (`True`), the dataset gives conflicting information because the actual values do not align. In such cases, it is unclear which value is the true representation, leading to ambiguity. To avoid unreliable data, these rows are removed.\n",
    "\n",
    "2. **Second Filtering: Rows with Both Flags False**  \n",
    "   We also drop rows where both `ubic_flag` and `full_via_flag` are `False`.  \n",
    "   - **Reason**: When both flags are `False`, neither source of information can be verified as correct. These rows provide no reliable information and are therefore discarded to maintain the dataset's integrity."
   ]
  },
  {
   "cell_type": "code",
   "execution_count": 45,
   "id": "7c98bdb4",
   "metadata": {
    "execution": {
     "iopub.execute_input": "2025-01-18T15:56:18.182570Z",
     "iopub.status.busy": "2025-01-18T15:56:18.182174Z",
     "iopub.status.idle": "2025-01-18T15:56:18.196556Z",
     "shell.execute_reply": "2025-01-18T15:56:18.195237Z"
    },
    "papermill": {
     "duration": 0.098037,
     "end_time": "2025-01-18T15:56:18.198345",
     "exception": false,
     "start_time": "2025-01-18T15:56:18.100308",
     "status": "completed"
    },
    "tags": []
   },
   "outputs": [
    {
     "name": "stdout",
     "output_type": "stream",
     "text": [
      "The 'SERVICES' dataset has now 3845 records.\n"
     ]
    }
   ],
   "source": [
    "conditions_TT = (new_SERVICES.ubic_flag == True) & (new_SERVICES.full_via_flag == True) & \\\n",
    "            ((new_SERVICES.via != new_SERVICES.ubic_via) | (new_SERVICES.zd != new_SERVICES.ubic_zd) | \\\n",
    "            (new_SERVICES.civ != new_SERVICES.ubic_civ))\n",
    "\n",
    "new_SERVICES = new_SERVICES[~conditions_TT]\n",
    "\n",
    "conditions_FF = (new_SERVICES.ubic_flag == False) & (new_SERVICES.full_via_flag == False)\n",
    "\n",
    "new_SERVICES = new_SERVICES[~conditions_FF]\n",
    "print(\"The 'SERVICES' dataset has now {} records.\".format(new_SERVICES.shape[0]))"
   ]
  },
  {
   "cell_type": "markdown",
   "id": "8ac86860",
   "metadata": {
    "papermill": {
     "duration": 0.085224,
     "end_time": "2025-01-18T15:56:18.368254",
     "exception": false,
     "start_time": "2025-01-18T15:56:18.283030",
     "status": "completed"
    },
    "tags": []
   },
   "source": [
    "We perform a series of updates on the dataset to address rows where `full_via_flag` is `False` but `ubic_flag` is `True`. The operations are as follows:\n",
    "\n",
    "1. **Value Transfer and Substitution**  \n",
    "   We transfer the values from `ubic_t_via`, `ubic_via`, and `ubic_civ` to the respective fields `t_via`, `via`, and `civ`. Additionally, we update the `cod_via` by finding a matching record in the `civici` dataset based on the concatenated address (`ubic_t_via` + `ubic_via`) and `ubic_civ`.\n",
    "   - **Reason**: When `ubic_flag` is `True`, it indicates that the `ubic` dataset provides reliable address data. However, the `full_via_flag` being `False` means that the target fields (`t_via`, `via`, `civ`) need to be populated. We ensure consistency by transferring the values and updating `cod_via` from the `civici` dataset.\n",
    "\n",
    "2. **Address Matching with `civici`**  \n",
    "   We check if the concatenated address from `ubic_t_via` and `ubic_via` matches the records in `civici` and update `cod_via` accordingly.\n",
    "   - **Reason**: This ensures the `cod_via` value aligns with the correct address from the `civici` dataset, maintaining data integrity across related fields."
   ]
  },
  {
   "cell_type": "code",
   "execution_count": 46,
   "id": "25e0af18",
   "metadata": {
    "execution": {
     "iopub.execute_input": "2025-01-18T15:56:18.535856Z",
     "iopub.status.busy": "2025-01-18T15:56:18.535484Z",
     "iopub.status.idle": "2025-01-18T15:56:19.100856Z",
     "shell.execute_reply": "2025-01-18T15:56:19.099693Z"
    },
    "papermill": {
     "duration": 0.651588,
     "end_time": "2025-01-18T15:56:19.103109",
     "exception": false,
     "start_time": "2025-01-18T15:56:18.451521",
     "status": "completed"
    },
    "tags": []
   },
   "outputs": [
    {
     "data": {
      "text/html": [
       "<div>\n",
       "<style scoped>\n",
       "    .dataframe tbody tr th:only-of-type {\n",
       "        vertical-align: middle;\n",
       "    }\n",
       "\n",
       "    .dataframe tbody tr th {\n",
       "        vertical-align: top;\n",
       "    }\n",
       "\n",
       "    .dataframe thead th {\n",
       "        text-align: right;\n",
       "    }\n",
       "</style>\n",
       "<table border=\"1\" class=\"dataframe\">\n",
       "  <thead>\n",
       "    <tr style=\"text-align: right;\">\n",
       "      <th></th>\n",
       "      <th>t_es</th>\n",
       "      <th>t_via</th>\n",
       "      <th>via</th>\n",
       "      <th>civ</th>\n",
       "      <th>cod_via</th>\n",
       "      <th>zd</th>\n",
       "      <th>sup_alt</th>\n",
       "      <th>sup_lav</th>\n",
       "      <th>ubic_t_via</th>\n",
       "      <th>ubic_via</th>\n",
       "      <th>ubic_civ</th>\n",
       "      <th>ubic_zd</th>\n",
       "      <th>note</th>\n",
       "      <th>full_via_flag</th>\n",
       "      <th>ubic_flag</th>\n",
       "    </tr>\n",
       "  </thead>\n",
       "  <tbody>\n",
       "    <tr>\n",
       "      <th>143</th>\n",
       "      <td>Acconciatore</td>\n",
       "      <td>Via</td>\n",
       "      <td>PAVIA</td>\n",
       "      <td>6/2</td>\n",
       "      <td>5262</td>\n",
       "      <td>5</td>\n",
       "      <td>NaN</td>\n",
       "      <td>NaN</td>\n",
       "      <td>Via</td>\n",
       "      <td>PAVIA</td>\n",
       "      <td>6/2</td>\n",
       "      <td>5</td>\n",
       "      <td>NaN</td>\n",
       "      <td>False</td>\n",
       "      <td>True</td>\n",
       "    </tr>\n",
       "    <tr>\n",
       "      <th>285</th>\n",
       "      <td>Acconciatore</td>\n",
       "      <td>Via</td>\n",
       "      <td>APPENNINI</td>\n",
       "      <td>77H</td>\n",
       "      <td>7514</td>\n",
       "      <td>8</td>\n",
       "      <td>NaN</td>\n",
       "      <td>NaN</td>\n",
       "      <td>Via</td>\n",
       "      <td>APPENNINI</td>\n",
       "      <td>77H</td>\n",
       "      <td>8</td>\n",
       "      <td>NaN</td>\n",
       "      <td>False</td>\n",
       "      <td>True</td>\n",
       "    </tr>\n",
       "    <tr>\n",
       "      <th>307</th>\n",
       "      <td>Acconciatore</td>\n",
       "      <td>Via</td>\n",
       "      <td>UGO BETTI</td>\n",
       "      <td>161A</td>\n",
       "      <td>7517</td>\n",
       "      <td>8</td>\n",
       "      <td>6.0</td>\n",
       "      <td>23.0</td>\n",
       "      <td>Via</td>\n",
       "      <td>UGO BETTI</td>\n",
       "      <td>161A</td>\n",
       "      <td>8</td>\n",
       "      <td>NaN</td>\n",
       "      <td>False</td>\n",
       "      <td>True</td>\n",
       "    </tr>\n",
       "    <tr>\n",
       "      <th>316</th>\n",
       "      <td>Acconciatore</td>\n",
       "      <td>Via</td>\n",
       "      <td>PIETRO BOIFAVA</td>\n",
       "      <td>6C</td>\n",
       "      <td>5341</td>\n",
       "      <td>5</td>\n",
       "      <td>7.0</td>\n",
       "      <td>20.0</td>\n",
       "      <td>Via</td>\n",
       "      <td>PIETRO BOIFAVA</td>\n",
       "      <td>6C</td>\n",
       "      <td>5</td>\n",
       "      <td>NaN</td>\n",
       "      <td>False</td>\n",
       "      <td>True</td>\n",
       "    </tr>\n",
       "    <tr>\n",
       "      <th>327</th>\n",
       "      <td>Acconciatore</td>\n",
       "      <td>Via</td>\n",
       "      <td>PIETRO CALVI</td>\n",
       "      <td>3A</td>\n",
       "      <td>3083</td>\n",
       "      <td>4</td>\n",
       "      <td>5.0</td>\n",
       "      <td>193.0</td>\n",
       "      <td>Via</td>\n",
       "      <td>PIETRO CALVI</td>\n",
       "      <td>3A</td>\n",
       "      <td>4</td>\n",
       "      <td>p.t.acconciatore</td>\n",
       "      <td>False</td>\n",
       "      <td>True</td>\n",
       "    </tr>\n",
       "  </tbody>\n",
       "</table>\n",
       "</div>"
      ],
      "text/plain": [
       "             t_es t_via             via   civ cod_via zd  sup_alt  sup_lav  \\\n",
       "143  Acconciatore   Via           PAVIA   6/2    5262  5      NaN      NaN   \n",
       "285  Acconciatore   Via       APPENNINI   77H    7514  8      NaN      NaN   \n",
       "307  Acconciatore   Via       UGO BETTI  161A    7517  8      6.0     23.0   \n",
       "316  Acconciatore   Via  PIETRO BOIFAVA    6C    5341  5      7.0     20.0   \n",
       "327  Acconciatore   Via    PIETRO CALVI    3A    3083  4      5.0    193.0   \n",
       "\n",
       "    ubic_t_via        ubic_via ubic_civ ubic_zd               note  \\\n",
       "143        Via           PAVIA      6/2       5                NaN   \n",
       "285        Via       APPENNINI      77H       8                NaN   \n",
       "307        Via       UGO BETTI     161A       8                NaN   \n",
       "316        Via  PIETRO BOIFAVA       6C       5                NaN   \n",
       "327        Via    PIETRO CALVI       3A       4  p.t.acconciatore    \n",
       "\n",
       "     full_via_flag  ubic_flag  \n",
       "143          False       True  \n",
       "285          False       True  \n",
       "307          False       True  \n",
       "316          False       True  \n",
       "327          False       True  "
      ]
     },
     "execution_count": 46,
     "metadata": {},
     "output_type": "execute_result"
    }
   ],
   "source": [
    "# Identify rows where the condition is True\n",
    "conditions_TF = (new_SERVICES.ubic_flag == True) & (new_SERVICES.full_via_flag == False)\n",
    "\n",
    "# Loop through the rows and handle the transfer and substitution\n",
    "for index, row in new_SERVICES[conditions_TF].iterrows():\n",
    "    # Transfer values from ubic_t_via, ubic_via, ubic_civ to t_via, via, civ\n",
    "    new_SERVICES.at[index, 't_via'] = row['ubic_t_via']\n",
    "    new_SERVICES.at[index, 'via'] = row['ubic_via']\n",
    "    new_SERVICES.at[index, 'civ'] = row['ubic_civ']\n",
    "    \n",
    "    # Ensure proper concatenation of strings before the comparison\n",
    "    full_address = row['ubic_t_via'].strip() + \" \" + row['ubic_via'].strip()\n",
    "\n",
    "    # Find matching cod_via in the civici dataframe\n",
    "    matching_civici = civici[(civici['DESCRITTIVO'] == full_address) &\n",
    "                             (civici['NUMEROCOMPLETO'] == row['ubic_civ'])]\n",
    "    \n",
    "    # Substitute the cod_via if a match is found\n",
    "    if not matching_civici.empty:\n",
    "        new_SERVICES.at[index, 'cod_via'] = matching_civici['CODICE_VIA'].iloc[0]\n",
    "\n",
    "# Check the result after the updates\n",
    "new_SERVICES[conditions_TF].head()"
   ]
  },
  {
   "cell_type": "markdown",
   "id": "97d01297",
   "metadata": {
    "papermill": {
     "duration": 0.081699,
     "end_time": "2025-01-18T15:56:19.274658",
     "exception": false,
     "start_time": "2025-01-18T15:56:19.192959",
     "status": "completed"
    },
    "tags": []
   },
   "source": [
    "We drop all the rows that we don't need anymore: like ubic derivatives and flags."
   ]
  },
  {
   "cell_type": "code",
   "execution_count": 47,
   "id": "4046ff30",
   "metadata": {
    "execution": {
     "iopub.execute_input": "2025-01-18T15:56:19.446789Z",
     "iopub.status.busy": "2025-01-18T15:56:19.446391Z",
     "iopub.status.idle": "2025-01-18T15:56:19.464150Z",
     "shell.execute_reply": "2025-01-18T15:56:19.462901Z"
    },
    "papermill": {
     "duration": 0.105319,
     "end_time": "2025-01-18T15:56:19.466023",
     "exception": false,
     "start_time": "2025-01-18T15:56:19.360704",
     "status": "completed"
    },
    "tags": []
   },
   "outputs": [
    {
     "data": {
      "text/html": [
       "<div>\n",
       "<style scoped>\n",
       "    .dataframe tbody tr th:only-of-type {\n",
       "        vertical-align: middle;\n",
       "    }\n",
       "\n",
       "    .dataframe tbody tr th {\n",
       "        vertical-align: top;\n",
       "    }\n",
       "\n",
       "    .dataframe thead th {\n",
       "        text-align: right;\n",
       "    }\n",
       "</style>\n",
       "<table border=\"1\" class=\"dataframe\">\n",
       "  <thead>\n",
       "    <tr style=\"text-align: right;\">\n",
       "      <th></th>\n",
       "      <th>t_es</th>\n",
       "      <th>t_via</th>\n",
       "      <th>via</th>\n",
       "      <th>civ</th>\n",
       "      <th>cod_via</th>\n",
       "      <th>zd</th>\n",
       "      <th>sup_alt</th>\n",
       "      <th>sup_lav</th>\n",
       "      <th>note</th>\n",
       "    </tr>\n",
       "  </thead>\n",
       "  <tbody>\n",
       "    <tr>\n",
       "      <th>0</th>\n",
       "      <td></td>\n",
       "      <td>Largo</td>\n",
       "      <td>DEI GELSOMINI</td>\n",
       "      <td>10</td>\n",
       "      <td>5394</td>\n",
       "      <td>6</td>\n",
       "      <td>NaN</td>\n",
       "      <td>55.0</td>\n",
       "      <td>NaN</td>\n",
       "    </tr>\n",
       "    <tr>\n",
       "      <th>1</th>\n",
       "      <td>Centro Massaggi</td>\n",
       "      <td>Piazza</td>\n",
       "      <td>FIDIA</td>\n",
       "      <td>3</td>\n",
       "      <td>1144</td>\n",
       "      <td>9</td>\n",
       "      <td>2.0</td>\n",
       "      <td>28.0</td>\n",
       "      <td>NaN</td>\n",
       "    </tr>\n",
       "    <tr>\n",
       "      <th>2</th>\n",
       "      <td>Centro Benessere</td>\n",
       "      <td>Via</td>\n",
       "      <td>ADIGE</td>\n",
       "      <td>10</td>\n",
       "      <td>4216</td>\n",
       "      <td>5</td>\n",
       "      <td>2.0</td>\n",
       "      <td>27.0</td>\n",
       "      <td>NaN</td>\n",
       "    </tr>\n",
       "    <tr>\n",
       "      <th>3</th>\n",
       "      <td>Truccatore</td>\n",
       "      <td>Via</td>\n",
       "      <td>FLAVIO BARACCHINI</td>\n",
       "      <td>9</td>\n",
       "      <td>356</td>\n",
       "      <td>1</td>\n",
       "      <td>NaN</td>\n",
       "      <td>NaN</td>\n",
       "      <td>NaN</td>\n",
       "    </tr>\n",
       "    <tr>\n",
       "      <th>4</th>\n",
       "      <td></td>\n",
       "      <td>Via</td>\n",
       "      <td>BERGAMO</td>\n",
       "      <td>12</td>\n",
       "      <td>3189</td>\n",
       "      <td>4</td>\n",
       "      <td>NaN</td>\n",
       "      <td>50.0</td>\n",
       "      <td>NaN</td>\n",
       "    </tr>\n",
       "  </tbody>\n",
       "</table>\n",
       "</div>"
      ],
      "text/plain": [
       "               t_es   t_via                via civ cod_via zd  sup_alt  \\\n",
       "0                     Largo      DEI GELSOMINI  10    5394  6      NaN   \n",
       "1   Centro Massaggi  Piazza              FIDIA   3    1144  9      2.0   \n",
       "2  Centro Benessere     Via              ADIGE  10    4216  5      2.0   \n",
       "3        Truccatore     Via  FLAVIO BARACCHINI   9     356  1      NaN   \n",
       "4                       Via            BERGAMO  12    3189  4      NaN   \n",
       "\n",
       "   sup_lav note  \n",
       "0     55.0  NaN  \n",
       "1     28.0  NaN  \n",
       "2     27.0  NaN  \n",
       "3      NaN  NaN  \n",
       "4     50.0  NaN  "
      ]
     },
     "execution_count": 47,
     "metadata": {},
     "output_type": "execute_result"
    }
   ],
   "source": [
    "new_SERVICES = new_SERVICES.drop([\"ubic_t_via\", \"ubic_via\", \"ubic_civ\", \"ubic_zd\", \"full_via_flag\", \"ubic_flag\"], axis=1)\n",
    "new_SERVICES.head()"
   ]
  },
  {
   "cell_type": "markdown",
   "id": "424cd842",
   "metadata": {
    "papermill": {
     "duration": 0.083959,
     "end_time": "2025-01-18T15:56:19.634530",
     "exception": false,
     "start_time": "2025-01-18T15:56:19.550571",
     "status": "completed"
    },
    "tags": []
   },
   "source": [
    "## Data Deduplication \n",
    "### Detecting and handling non-exact duplicates\n",
    "In this operation, we address potential data corruption in the original dataset, where records associated with the same address might have been split into multiple rows. This splitting likely occurred because the dataset exploded certain records across multiple lines, associating different labels in the `t_es` column with separate rows.\n",
    "\n",
    "The goal of this process is to consolidate these rows into a single entry per address when they share overlapping labels in the `t_es` column.\n",
    "\n",
    "##### Example\n",
    "\n",
    "To illustrate the issue, consider the following rows from the dataset:\n",
    "\n",
    "| Index | t_es                                | via   | street_name    | civ | cod_via | sup_alt | sup_lav | note |\n",
    "|-------|-------------------------------------|-------|----------------|-----|---------|---------|---------|------|\n",
    "| 31    | Acconciatore                       | Corso | BUENOS AIRES   | 23  | 2129    | 3       | NaN     | 68.0 |\n",
    "| 798   | Tipo A - Estetica Manuale;Acconciatore | Corso | BUENOS AIRES   | 23  | 2129    | 3       | NaN     | 45.0 |\n",
    "| 3171  | Tipo A - Estetica Manuale          | Corso | BUENOS AIRES   | 23  | 2129    | 3       | NaN     | 45.0 |\n",
    "\n",
    "which transforms to:\n",
    "\n",
    "| Index | t_es                                | via   | street_name    | civ | cod_via | sup_alt | sup_lav | note |\n",
    "|-------|-------------------------------------|-------|----------------|-----|---------|---------|---------|------|\n",
    "| 0     | Tipo A - Estetica Manuale;Acconciatore | Corso | BUENOS AIRES   | 23  | 2129    | 3       | NaN     | 68.0 |\n",
    "\n",
    "In this example, the rows, which are consolidated the same address, are consolidated into a single row. The `t_es` column combines all unique labels into one string, resulting in `\"Tipo A - Estetica Manuale;Acconciatore\"`. For numeric fields like `sup_alt` and `sup_lav`, the maximum values across the rows are retained.\n",
    "\n",
    "Redundant rows are then removed, leaving only the merged entry."
   ]
  },
  {
   "cell_type": "code",
   "execution_count": 48,
   "id": "d75cad6d",
   "metadata": {
    "execution": {
     "iopub.execute_input": "2025-01-18T15:56:19.807568Z",
     "iopub.status.busy": "2025-01-18T15:56:19.807130Z",
     "iopub.status.idle": "2025-01-18T15:56:24.167741Z",
     "shell.execute_reply": "2025-01-18T15:56:24.164986Z"
    },
    "papermill": {
     "duration": 4.451092,
     "end_time": "2025-01-18T15:56:24.169983",
     "exception": false,
     "start_time": "2025-01-18T15:56:19.718891",
     "status": "completed"
    },
    "tags": []
   },
   "outputs": [
    {
     "data": {
      "text/html": [
       "<div>\n",
       "<style scoped>\n",
       "    .dataframe tbody tr th:only-of-type {\n",
       "        vertical-align: middle;\n",
       "    }\n",
       "\n",
       "    .dataframe tbody tr th {\n",
       "        vertical-align: top;\n",
       "    }\n",
       "\n",
       "    .dataframe thead th {\n",
       "        text-align: right;\n",
       "    }\n",
       "</style>\n",
       "<table border=\"1\" class=\"dataframe\">\n",
       "  <thead>\n",
       "    <tr style=\"text-align: right;\">\n",
       "      <th></th>\n",
       "      <th>t_es</th>\n",
       "      <th>t_via</th>\n",
       "      <th>via</th>\n",
       "      <th>civ</th>\n",
       "      <th>cod_via</th>\n",
       "      <th>zd</th>\n",
       "      <th>sup_alt</th>\n",
       "      <th>sup_lav</th>\n",
       "      <th>note</th>\n",
       "    </tr>\n",
       "  </thead>\n",
       "  <tbody>\n",
       "    <tr>\n",
       "      <th>0</th>\n",
       "      <td>Tipo A - Estetica Manuale</td>\n",
       "      <td>Piazza</td>\n",
       "      <td>DEL DUOMO</td>\n",
       "      <td>17</td>\n",
       "      <td>1</td>\n",
       "      <td>1</td>\n",
       "      <td>NaN</td>\n",
       "      <td>74.0</td>\n",
       "      <td>NaN</td>\n",
       "    </tr>\n",
       "    <tr>\n",
       "      <th>1</th>\n",
       "      <td>Tipo B - Centro di Abbronzatura;Tipo A - Estetica Manuale</td>\n",
       "      <td>Corso</td>\n",
       "      <td>GIUSEPPE GARIBALDI</td>\n",
       "      <td>104</td>\n",
       "      <td>1010</td>\n",
       "      <td>1</td>\n",
       "      <td>NaN</td>\n",
       "      <td>NaN</td>\n",
       "      <td>NaN</td>\n",
       "    </tr>\n",
       "    <tr>\n",
       "      <th>2</th>\n",
       "      <td>Tipo A - Estetica Manuale;Parrucchiere per Donna</td>\n",
       "      <td>Corso</td>\n",
       "      <td>GIUSEPPE GARIBALDI</td>\n",
       "      <td>110</td>\n",
       "      <td>1010</td>\n",
       "      <td>1</td>\n",
       "      <td>NaN</td>\n",
       "      <td>88.0</td>\n",
       "      <td>NaN</td>\n",
       "    </tr>\n",
       "    <tr>\n",
       "      <th>3</th>\n",
       "      <td>Acconciatore</td>\n",
       "      <td>Corso</td>\n",
       "      <td>GIUSEPPE GARIBALDI</td>\n",
       "      <td>39</td>\n",
       "      <td>1010</td>\n",
       "      <td>1</td>\n",
       "      <td>NaN</td>\n",
       "      <td>54.0</td>\n",
       "      <td>NaN</td>\n",
       "    </tr>\n",
       "    <tr>\n",
       "      <th>4</th>\n",
       "      <td>Parrucchiere per Donna</td>\n",
       "      <td>Corso</td>\n",
       "      <td>GIUSEPPE GARIBALDI</td>\n",
       "      <td>46</td>\n",
       "      <td>1010</td>\n",
       "      <td>1</td>\n",
       "      <td>NaN</td>\n",
       "      <td>NaN</td>\n",
       "      <td>NaN</td>\n",
       "    </tr>\n",
       "  </tbody>\n",
       "</table>\n",
       "</div>"
      ],
      "text/plain": [
       "                                                        t_es   t_via  \\\n",
       "0                                  Tipo A - Estetica Manuale  Piazza   \n",
       "1  Tipo B - Centro di Abbronzatura;Tipo A - Estetica Manuale   Corso   \n",
       "2           Tipo A - Estetica Manuale;Parrucchiere per Donna   Corso   \n",
       "3                                               Acconciatore   Corso   \n",
       "4                                     Parrucchiere per Donna   Corso   \n",
       "\n",
       "                  via  civ cod_via zd  sup_alt  sup_lav note  \n",
       "0           DEL DUOMO   17       1  1      NaN     74.0  NaN  \n",
       "1  GIUSEPPE GARIBALDI  104    1010  1      NaN      NaN  NaN  \n",
       "2  GIUSEPPE GARIBALDI  110    1010  1      NaN     88.0  NaN  \n",
       "3  GIUSEPPE GARIBALDI   39    1010  1      NaN     54.0  NaN  \n",
       "4  GIUSEPPE GARIBALDI   46    1010  1      NaN      NaN  NaN  "
      ]
     },
     "execution_count": 48,
     "metadata": {},
     "output_type": "execute_result"
    }
   ],
   "source": [
    "# Define categories and their specializations\n",
    "categories_to_merge = {\n",
    "    \"Acconciatore\": [\"Acconciatore\", \"Parrucchiere per Uomo\", \"Parrucchiere per Donna\"], \n",
    "    \"Estetica\": [\"Tipo A - Estetica Manuale\", \"Tipo B - Centro di Abbronzatura\", \n",
    "                 \"Tipo C - Trattamenti Estetici Dimagrimento\", \"Tipo D - Estetica Apparati Elettromeccanici\"]\n",
    "}\n",
    "\n",
    "# Function to check if any label in multi-labeled t_es matches specializations\n",
    "def should_merge(row1, row2):\n",
    "    # Convert t_es values to lists if they are multi-labeled (e.g., \"Acconciatore, Parrucchiere Uomo\")\n",
    "    t_es1_labels = row1[\"t_es\"].split(\";\")\n",
    "    t_es2_labels = row2[\"t_es\"].split(\";\")\n",
    "\n",
    "    if t_es1_labels[0] == \"\" or t_es2_labels[0] == \"\":\n",
    "        return True\n",
    "        \n",
    "    for category, specializations in categories_to_merge.items():\n",
    "        # Check if any label in t_es1 or t_es2 belongs to the current category's specializations\n",
    "        if any(label.strip() in specializations for label in t_es1_labels) and any(label.strip() in specializations for label in t_es2_labels):\n",
    "            return True\n",
    "    return False\n",
    "\n",
    "def merge_rows(group):\n",
    "    merged_rows = []\n",
    "    i = 0  # We will iterate row by row\n",
    "    \n",
    "    while i < len(group):\n",
    "        row1 = group.iloc[i]\n",
    "        merged = False  # Flag to check if the row is merged\n",
    "        \n",
    "        # Check if the current row can be merged with the next one\n",
    "        if i + 1 < len(group):\n",
    "            row2 = group.iloc[i + 1]\n",
    "            \n",
    "            if should_merge(row1, row2):  # Check if we should merge the rows\n",
    "                # Merge the two rows\n",
    "                merged_row = row1.copy()  # Start with the first row\n",
    "                merged_row[\"t_es\"] = \";\".join(set(row1[\"t_es\"].split(\";\") + row2[\"t_es\"].split(\";\")))  # Merge t_es values\n",
    "                if merged_row[\"t_es\"][0] == \";\":\n",
    "                    merged_row[\"t_es\"] = merged_row[\"t_es\"][1:]\n",
    "\n",
    "                # Assuming merged_row[\"t_es\"] is a string, split it into a list\n",
    "                t_es_list = merged_row[\"t_es\"].split(\";\") if isinstance(merged_row[\"t_es\"], str) else merged_row[\"t_es\"]\n",
    "                \n",
    "                # Check if \"Acconciatore\" is in the list and if any other term from the same category exists\n",
    "                if \"Acconciatore\" in t_es_list:\n",
    "                    if any(term in t_es_list for term in categories_to_merge[\"Acconciatore\"] if term != \"Acconciatore\"):\n",
    "                        t_es_list.remove(\"Acconciatore\")  # Remove \"Acconciatore\" from the list if condition is met\n",
    "                \n",
    "                # Join the list back into a string, if necessary\n",
    "                merged_row[\"t_es\"] = \";\".join(t_es_list)\n",
    "\n",
    "                \n",
    "                merged_row[\"sup_alt\"] = max(row1[\"sup_alt\"], row2[\"sup_alt\"])  # Take the max value\n",
    "                merged_row[\"sup_lav\"] = max(row1[\"sup_lav\"], row2[\"sup_lav\"])  # Take the max value\n",
    "                \n",
    "                merged_rows.append(merged_row)\n",
    "                i += 2  # Skip the next row since it's already merged\n",
    "                merged = True\n",
    "        \n",
    "        # If no merge occurred, add the current row to the result\n",
    "        if not merged:\n",
    "            merged_rows.append(row1)\n",
    "            i += 1  # Move to the next row\n",
    "    \n",
    "    return pd.DataFrame(merged_rows) \n",
    "\n",
    "# Apply the merge_rows function to groups with more than 1 row\n",
    "new_SERVICES = new_SERVICES.groupby([\"cod_via\", \"via\", \"civ\"]).apply(lambda group: merge_rows(group)).reset_index(drop=True)\n",
    "new_SERVICES.head()"
   ]
  },
  {
   "cell_type": "markdown",
   "id": "2ce4d8b0",
   "metadata": {
    "papermill": {
     "duration": 0.08347,
     "end_time": "2025-01-18T15:56:24.354753",
     "exception": false,
     "start_time": "2025-01-18T15:56:24.271283",
     "status": "completed"
    },
    "tags": []
   },
   "source": [
    "Furthermore, `\"Acconciatore\"` is treated as a broader category, while `\"Parrucchiere per Uomo\"` and `\"Parrucchiere per Donna\"` are considered specific specializations within that category. <br> When these labels appear together in the same record, we merge them but also remove `\"Acconciatore\"` if any of these specific specializations are present. This is done because we recognize that the specific specializations are more relevant in this context. This helps to refine the dataset by ensuring that the more specific services take precedence over the broader category.\n",
    "\n",
    "Then, we move on by removing duplicate rows based on the columns `t_es`, `cod_via`, `via`, and `civ`, so each record is unique. Rows where `t_es` is empty are also removed to keep only relevant data. Finally, the `note` column is deleted because it is not needed for further analysis, making the dataset simpler and easier to work with."
   ]
  },
  {
   "cell_type": "code",
   "execution_count": 49,
   "id": "da0a3d94",
   "metadata": {
    "execution": {
     "iopub.execute_input": "2025-01-18T15:56:24.526392Z",
     "iopub.status.busy": "2025-01-18T15:56:24.526012Z",
     "iopub.status.idle": "2025-01-18T15:56:24.538729Z",
     "shell.execute_reply": "2025-01-18T15:56:24.537604Z"
    },
    "papermill": {
     "duration": 0.100941,
     "end_time": "2025-01-18T15:56:24.540693",
     "exception": false,
     "start_time": "2025-01-18T15:56:24.439752",
     "status": "completed"
    },
    "tags": []
   },
   "outputs": [
    {
     "name": "stdout",
     "output_type": "stream",
     "text": [
      "The 'SERVICES' dataset has now 3523 records.\n"
     ]
    }
   ],
   "source": [
    "new_SERVICES = new_SERVICES.drop_duplicates(subset=[\"t_es\", \"cod_via\", \"via\", \"civ\"])\n",
    "new_SERVICES = new_SERVICES[~(new_SERVICES.t_es == \"\")]\n",
    "new_SERVICES = new_SERVICES.drop(columns=[\"note\"])\n",
    "print(\"The 'SERVICES' dataset has now {} records.\".format(new_SERVICES.shape[0]))"
   ]
  },
  {
   "cell_type": "markdown",
   "id": "7f6d3425",
   "metadata": {
    "papermill": {
     "duration": 0.086274,
     "end_time": "2025-01-18T15:56:24.780759",
     "exception": false,
     "start_time": "2025-01-18T15:56:24.694485",
     "status": "completed"
    },
    "tags": []
   },
   "source": [
    "## Outlier Detection\n",
    "### SUP_LAV: Detecting and Removing Outliers\n",
    "\n",
    "This step fills missing values in the `sup_lav` column by replacing them with the median value of `sup_lav` for each `t_es` category. We then detect outliers in the `sup_lav` column using the Z-score method, identifying values that are more than 3 standard deviations away from the mean. This helps standardize the data by addressing missing values and flagging extreme entries that could distort analysis."
   ]
  },
  {
   "cell_type": "code",
   "execution_count": 50,
   "id": "b7890aa7",
   "metadata": {
    "execution": {
     "iopub.execute_input": "2025-01-18T15:56:24.953680Z",
     "iopub.status.busy": "2025-01-18T15:56:24.953113Z",
     "iopub.status.idle": "2025-01-18T15:56:25.007677Z",
     "shell.execute_reply": "2025-01-18T15:56:25.006433Z"
    },
    "papermill": {
     "duration": 0.144608,
     "end_time": "2025-01-18T15:56:25.009902",
     "exception": false,
     "start_time": "2025-01-18T15:56:24.865294",
     "status": "completed"
    },
    "tags": []
   },
   "outputs": [
    {
     "name": "stdout",
     "output_type": "stream",
     "text": [
      "Outliers detected using Z-score for the 'sup_lav' column are 56\n"
     ]
    }
   ],
   "source": [
    "# Step 1.1: Calculate the median \"sup_lav\" for each \"t_es\"\n",
    "medians = new_SERVICES.groupby('t_es')['sup_lav'].median()\n",
    "\n",
    "# Step 1.2: Fill null values with the median of the corresponding \"t_es\"\n",
    "new_SERVICES['sup_lav'] = new_SERVICES.apply(\n",
    "    lambda row: medians[row['t_es']] if pd.isnull(row['sup_lav']) else row['sup_lav'],\n",
    "    axis=1\n",
    ")\n",
    "\n",
    "# Step 2: Perform outlier detection using the Z-score method\n",
    "mean_superficie = new_SERVICES['sup_lav'].mean()\n",
    "std_superficie = new_SERVICES['sup_lav'].std()\n",
    "\n",
    "# Calculate the Z-score\n",
    "new_SERVICES['z_score'] = (new_SERVICES['sup_lav'] - mean_superficie) / std_superficie\n",
    "\n",
    "# Identify outliers (Z-score > 3 or < -3)\n",
    "outliers = new_SERVICES[(new_SERVICES['z_score'] > 3) | (new_SERVICES['z_score'] < -3)]\n",
    "\n",
    "# Print the number of outliers\n",
    "print(\"Outliers detected using Z-score for the 'sup_lav' column are {}\".format(outliers.shape[0]))"
   ]
  },
  {
   "cell_type": "markdown",
   "id": "553af2e1",
   "metadata": {
    "papermill": {
     "duration": 0.084552,
     "end_time": "2025-01-18T15:56:25.177010",
     "exception": false,
     "start_time": "2025-01-18T15:56:25.092458",
     "status": "completed"
    },
    "tags": []
   },
   "source": [
    "Then, we remove the outliers identified in the previous step by filtering out rows where the Z-score is greater than 3 or less than -3. After removing the outliers, we drop the `z_score` column as it is no longer needed for further analysis. This ensures the dataset is free from extreme values that could skew results."
   ]
  },
  {
   "cell_type": "code",
   "execution_count": 51,
   "id": "dcc04f31",
   "metadata": {
    "execution": {
     "iopub.execute_input": "2025-01-18T15:56:25.342173Z",
     "iopub.status.busy": "2025-01-18T15:56:25.341767Z",
     "iopub.status.idle": "2025-01-18T15:56:25.350764Z",
     "shell.execute_reply": "2025-01-18T15:56:25.349491Z"
    },
    "papermill": {
     "duration": 0.094019,
     "end_time": "2025-01-18T15:56:25.352815",
     "exception": false,
     "start_time": "2025-01-18T15:56:25.258796",
     "status": "completed"
    },
    "tags": []
   },
   "outputs": [],
   "source": [
    "# Step 4: Remove outliers\n",
    "new_SERVICES = new_SERVICES[(new_SERVICES['z_score'] <= 3) & (new_SERVICES['z_score'] >= -3)]\n",
    "\n",
    "# Drop the Z-score column as it's no longer needed\n",
    "new_SERVICES = new_SERVICES.drop(columns=['z_score'])"
   ]
  },
  {
   "cell_type": "markdown",
   "id": "cd555c5c",
   "metadata": {
    "papermill": {
     "duration": 0.082867,
     "end_time": "2025-01-18T15:56:25.518555",
     "exception": false,
     "start_time": "2025-01-18T15:56:25.435688",
     "status": "completed"
    },
    "tags": []
   },
   "source": [
    "### SUP_ALT: Detecting and Removing Outliers\n",
    "\n",
    "We apply the same process to the `sup_alt` column: first, we calculate the Z-scores to identify outliers, then filter out rows where the Z-score for `sup_alt` is greater than 3 or less than -3. Finally, we drop the `z_score` column, ensuring that the dataset is cleaned of extreme values in both the `sup_lav` and `sup_alt` columns."
   ]
  },
  {
   "cell_type": "code",
   "execution_count": 52,
   "id": "bfc542ec",
   "metadata": {
    "execution": {
     "iopub.execute_input": "2025-01-18T15:56:25.689505Z",
     "iopub.status.busy": "2025-01-18T15:56:25.689098Z",
     "iopub.status.idle": "2025-01-18T15:56:25.744976Z",
     "shell.execute_reply": "2025-01-18T15:56:25.743563Z"
    },
    "papermill": {
     "duration": 0.144746,
     "end_time": "2025-01-18T15:56:25.746845",
     "exception": false,
     "start_time": "2025-01-18T15:56:25.602099",
     "status": "completed"
    },
    "tags": []
   },
   "outputs": [
    {
     "name": "stdout",
     "output_type": "stream",
     "text": [
      "Outliers detected using Z-score for the 'sup_' column are 38\n"
     ]
    }
   ],
   "source": [
    "# Step 1.1: Calculate the median \"sup_alt\" for each \"t_es\"\n",
    "medians = new_SERVICES.groupby('t_es')['sup_alt'].median()\n",
    "\n",
    "# Step 1.2: Fill null values with the median of the corresponding \"t_es\"\n",
    "new_SERVICES['sup_alt'] = new_SERVICES.apply(\n",
    "    lambda row: medians[row['t_es']] if pd.isnull(row['sup_alt']) else row['sup_alt'],\n",
    "    axis=1\n",
    ")\n",
    "\n",
    "# Step 2: Perform outlier detection using the Z-score method\n",
    "mean_superficie = new_SERVICES['sup_alt'].mean()\n",
    "std_superficie = new_SERVICES['sup_alt'].std()\n",
    "\n",
    "# Calculate the Z-score\n",
    "new_SERVICES['z_score'] = (new_SERVICES['sup_alt'] - mean_superficie) / std_superficie\n",
    "\n",
    "# Identify outliers (Z-score > 3 or < -3)\n",
    "outliers = new_SERVICES[(new_SERVICES['z_score'] > 3) | (new_SERVICES['z_score'] < -3)]\n",
    "\n",
    "print(\"Outliers detected using Z-score for the 'sup_' column are {}\".format(outliers.shape[0]))\n",
    "\n",
    "# Step 4: Remove outliers\n",
    "new_SERVICES = new_SERVICES[(new_SERVICES['z_score'] <= 3) & (new_SERVICES['z_score'] >= -3)]\n",
    "\n",
    "# Drop the Z-score column as it's no longer needed\n",
    "new_SERVICES = new_SERVICES.drop(columns=['z_score'])"
   ]
  },
  {
   "cell_type": "markdown",
   "id": "d984855f",
   "metadata": {
    "papermill": {
     "duration": 0.0821,
     "end_time": "2025-01-18T15:56:25.912279",
     "exception": false,
     "start_time": "2025-01-18T15:56:25.830179",
     "status": "completed"
    },
    "tags": []
   },
   "source": [
    "After applying these steps, including filling missing values with the median and removing outliers, the dataset will no longer contain any `NaN` values. All missing data in the `sup_lav` and `sup_alt` columns will have been addressed, ensuring a complete and clean dataset without any `NaN` entries."
   ]
  },
  {
   "cell_type": "code",
   "execution_count": 53,
   "id": "f4edb2f5",
   "metadata": {
    "execution": {
     "iopub.execute_input": "2025-01-18T15:56:26.077391Z",
     "iopub.status.busy": "2025-01-18T15:56:26.077013Z",
     "iopub.status.idle": "2025-01-18T15:56:26.086898Z",
     "shell.execute_reply": "2025-01-18T15:56:26.085638Z"
    },
    "papermill": {
     "duration": 0.09464,
     "end_time": "2025-01-18T15:56:26.088793",
     "exception": false,
     "start_time": "2025-01-18T15:56:25.994153",
     "status": "completed"
    },
    "tags": []
   },
   "outputs": [
    {
     "data": {
      "text/plain": [
       "t_es       0\n",
       "t_via      0\n",
       "via        0\n",
       "civ        0\n",
       "cod_via    0\n",
       "zd         0\n",
       "sup_alt    0\n",
       "sup_lav    0\n",
       "dtype: int64"
      ]
     },
     "execution_count": 53,
     "metadata": {},
     "output_type": "execute_result"
    }
   ],
   "source": [
    "new_SERVICES.isna().sum()"
   ]
  },
  {
   "cell_type": "code",
   "execution_count": 54,
   "id": "87a37ab5",
   "metadata": {
    "execution": {
     "iopub.execute_input": "2025-01-18T15:56:26.253934Z",
     "iopub.status.busy": "2025-01-18T15:56:26.253574Z",
     "iopub.status.idle": "2025-01-18T15:56:26.274192Z",
     "shell.execute_reply": "2025-01-18T15:56:26.272997Z"
    },
    "papermill": {
     "duration": 0.104772,
     "end_time": "2025-01-18T15:56:26.276334",
     "exception": false,
     "start_time": "2025-01-18T15:56:26.171562",
     "status": "completed"
    },
    "tags": []
   },
   "outputs": [],
   "source": [
    "new_SERVICES.to_csv(\"cleaned-SERVICES.csv\", index=False)"
   ]
  }
 ],
 "metadata": {
  "kaggle": {
   "accelerator": "none",
   "dataSources": [],
   "dockerImageVersionId": 30822,
   "isGpuEnabled": false,
   "isInternetEnabled": true,
   "language": "python",
   "sourceType": "notebook"
  },
  "kernelspec": {
   "display_name": "Python 3",
   "language": "python",
   "name": "python3"
  },
  "language_info": {
   "codemirror_mode": {
    "name": "ipython",
    "version": 3
   },
   "file_extension": ".py",
   "mimetype": "text/x-python",
   "name": "python",
   "nbconvert_exporter": "python",
   "pygments_lexer": "ipython3",
   "version": "3.10.12"
  },
  "papermill": {
   "default_parameters": {},
   "duration": 199.136138,
   "end_time": "2025-01-18T15:56:27.182758",
   "environment_variables": {},
   "exception": null,
   "input_path": "__notebook__.ipynb",
   "output_path": "__notebook__.ipynb",
   "parameters": {},
   "start_time": "2025-01-18T15:53:08.046620",
   "version": "2.6.0"
  }
 },
 "nbformat": 4,
 "nbformat_minor": 5
}
